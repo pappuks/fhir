{
 "cells": [
  {
   "cell_type": "markdown",
   "metadata": {},
   "source": [
    "<h1> Structured Machine Learning using Tensorflow, Google Cloud Datalab and Cloud ML</h1>\n",
    "<hr />\n",
    "<b>This notebook demonstrates a process to deploy a ML model to CloudML. It leverages a pre-built machine learning model to predict Length of Stay in ED and inpatient care settings. Finally it runs an inference job on the CloudML Engine to render predictions. This is step 2 of 2.</b>\n",
    "<h3>\n",
    "<br />\n",
    "<ol>\n",
    "<li> Setup Environment </li> <br />\n",
    "<li> Deploy and Run a ML Model on CloudML </li>\n",
    "</ol></h3>\n",
    "<hr />"
   ]
  },
  {
   "cell_type": "markdown",
   "metadata": {},
   "source": [
    "<h2> 1. Setup Environment</h2>\n",
    "<ul>\n",
    "    <li>Initialize environment variables for your environment</li>\n",
    "    <li>Please change the values of the following before executing rest of the cells in this notebook: <br />\n",
    "        <b>1. GCP_PROJECT and </b> <br />\n",
    "        <b>2. GCS_BUCKET </b> <br />\n",
    "        <b>3. GCS_REGION </b>\n",
    "    </li>\n",
    "</ul>"
   ]
  },
  {
   "cell_type": "code",
   "execution_count": 17,
   "metadata": {},
   "outputs": [],
   "source": [
    "import os\n",
    "GCP_PROJECT = 'dp-workspace'\n",
    "GCS_BUCKET = 'gs://cluster19-bkt'\n",
    "GCS_REGION = 'us-central1'\n",
    "os.putenv(\"REGION\", GCS_REGION)\n",
    "TF_RECORD_SEQEX = GCS_BUCKET+'/synthea/serv/seqex*'\n",
    "os.putenv(\"SEQEX_IN_GCS\", TF_RECORD_SEQEX)\n",
    "MODEL_PATH = GCS_BUCKET+'/synthea/model/'\n",
    "os.putenv(\"MODEL_IN_GCS\", MODEL_PATH+\"*\")\n",
    "SAVED_MODEL_PATH = MODEL_PATH + 'export'\n",
    "os.putenv(\"SAVED_MODEL_IN_GCS\", SAVED_MODEL_PATH+\"*\")\n",
    "SERVING_DATASET = GCS_BUCKET+'/synthea/serv/seqex-00002-of-00003.tfrecords'\n",
    "os.putenv(\"SERVING_DATASET\", SERVING_DATASET)\n",
    "INFERENCE_PATH = MODEL_PATH + 'infer'\n",
    "os.putenv(\"INFERENCE_PATH\", INFERENCE_PATH)\n",
    "os.putenv(\"MODEL_NAME\", \"tf_fhir_los\")"
   ]
  },
  {
   "cell_type": "markdown",
   "metadata": {},
   "source": [
    "<b>Import dependencies. </b>"
   ]
  },
  {
   "cell_type": "code",
   "execution_count": 2,
   "metadata": {},
   "outputs": [
    {
     "name": "stderr",
     "output_type": "stream",
     "text": [
      "/usr/local/envs/py2env/lib/python2.7/site-packages/h5py/__init__.py:36: RuntimeWarning: numpy.dtype size changed, may indicate binary incompatibility. Expected 96, got 88\n",
      "  from ._conv import register_converters as _register_converters\n",
      "/usr/local/envs/py2env/lib/python2.7/site-packages/h5py/__init__.py:36: FutureWarning: Conversion of the second argument of issubdtype from `float` to `np.floating` is deprecated. In future, it will be treated as `np.float64 == np.dtype(float).type`.\n",
      "  from ._conv import register_converters as _register_converters\n",
      "/usr/local/envs/py2env/lib/python2.7/site-packages/h5py/_hl/group.py:22: RuntimeWarning: numpy.dtype size changed, may indicate binary incompatibility. Expected 96, got 88\n",
      "  from .. import h5g, h5i, h5o, h5r, h5t, h5l, h5p\n",
      "/usr/local/envs/py2env/lib/python2.7/site-packages/scipy/ndimage/measurements.py:36: RuntimeWarning: numpy.dtype size changed, may indicate binary incompatibility. Expected 96, got 88\n",
      "  from . import _ni_label\n",
      "/usr/local/envs/py2env/lib/python2.7/site-packages/ipykernel/__main__.py:9: ImportWarning: Not importing directory '/usr/local/fhir/proto': missing __init__.py\n"
     ]
    }
   ],
   "source": [
    "# from apache_beam.options.pipeline_options import PipelineOptions\n",
    "# from apache_beam.options.pipeline_options import GoogleCloudOptions\n",
    "# from apache_beam.options.pipeline_options import StandardOptions\n",
    "# import apache_beam as beam\n",
    "from tensorflow.core.example import example_pb2\n",
    "import tensorflow as tf\n",
    "import time\n",
    "\n",
    "from proto import version_config_pb2\n",
    "from proto.stu3 import google_extensions_pb2\n",
    "from proto.stu3 import resources_pb2\n",
    "\n",
    "from google.protobuf import text_format\n",
    "from py.google.fhir.labels import label\n",
    "from py.google.fhir.labels import bundle_to_label\n",
    "from py.google.fhir.seqex import bundle_to_seqex\n",
    "from py.google.fhir.models import model\n",
    "from py.google.fhir.models.model import make_estimator"
   ]
  },
  {
   "cell_type": "markdown",
   "metadata": {},
   "source": [
    "<b>Optionally, enable logging for debugging.</b>"
   ]
  },
  {
   "cell_type": "code",
   "execution_count": 3,
   "metadata": {},
   "outputs": [],
   "source": [
    "import logging\n",
    "logger = logging.getLogger()\n",
    "#logger.setLevel(logging.INFO)\n",
    "logger.setLevel(logging.ERROR)"
   ]
  },
  {
   "cell_type": "markdown",
   "metadata": {},
   "source": [
    "<b> Previous step saved Sequence Examples into GCS. Let's examine file size and location of the Sequence Examples we will use of the inference. </b>"
   ]
  },
  {
   "cell_type": "code",
   "execution_count": 4,
   "metadata": {},
   "outputs": [
    {
     "name": "stdout",
     "output_type": "stream",
     "text": [
      "  45296041  2019-03-06T22:22:06Z  gs://cluster19-bkt/synthea/serv/seqex-00002-of-00003.tfrecords\n",
      "TOTAL: 1 objects, 45296041 bytes (43.2 MiB)\n"
     ]
    }
   ],
   "source": [
    "%bash\n",
    "gsutil ls -l ${SEQEX_IN_GCS}"
   ]
  },
  {
   "cell_type": "markdown",
   "metadata": {},
   "source": [
    "<h2> 2. Deploy and Run ML Model on Cloud ML</h2>\n",
    "<ul>\n",
    "    <li>A pre-trained ML Model which was exported to GCS in step 1 will be deployed to Cloud ML Serving.</li>\n",
    "</ul>\n",
    "<b>2a. Let's start with exporting our model for serving.<b>"
   ]
  },
  {
   "cell_type": "code",
   "execution_count": 9,
   "metadata": {},
   "outputs": [
    {
     "name": "stdout",
     "output_type": "stream",
     "text": [
      "INFO:tensorflow:Using config: {'_save_checkpoints_secs': 180, '_session_config': allow_soft_placement: true\n",
      "graph_options {\n",
      "  rewrite_options {\n",
      "    meta_optimizer_iterations: ONE\n",
      "  }\n",
      "}\n",
      ", '_keep_checkpoint_max': 5, '_task_type': None, '_train_distribute': None, '_is_chief': True, '_cluster_spec': <tensorflow.python.training.server_lib.ClusterSpec object at 0x7fba7c855850>, '_tf_config': gpu_options {\n",
      "  per_process_gpu_memory_fraction: 1.0\n",
      "}\n",
      ", '_protocol': None, '_save_checkpoints_steps': None, '_keep_checkpoint_every_n_hours': 10000, '_num_ps_replicas': 0, '_model_dir': 'gs://cluster19-bkt/synthea/model/', '_tf_random_seed': None, '_master': '', '_device_fn': None, '_num_worker_replicas': 0, '_task_id': 0, '_log_step_count_steps': 100, '_evaluation_master': '', '_eval_distribute': None, '_environment': 'local', '_save_summary_steps': 100}\n"
     ]
    },
    {
     "name": "stderr",
     "output_type": "stream",
     "text": [
      "I0306 22:31:04.616381 140440319678208 tf_logging.py:115] Using config: {'_save_checkpoints_secs': 180, '_session_config': allow_soft_placement: true\n",
      "graph_options {\n",
      "  rewrite_options {\n",
      "    meta_optimizer_iterations: ONE\n",
      "  }\n",
      "}\n",
      ", '_keep_checkpoint_max': 5, '_task_type': None, '_train_distribute': None, '_is_chief': True, '_cluster_spec': <tensorflow.python.training.server_lib.ClusterSpec object at 0x7fba7c855850>, '_tf_config': gpu_options {\n",
      "  per_process_gpu_memory_fraction: 1.0\n",
      "}\n",
      ", '_protocol': None, '_save_checkpoints_steps': None, '_keep_checkpoint_every_n_hours': 10000, '_num_ps_replicas': 0, '_model_dir': 'gs://cluster19-bkt/synthea/model/', '_tf_random_seed': None, '_master': '', '_device_fn': None, '_num_worker_replicas': 0, '_task_id': 0, '_log_step_count_steps': 100, '_evaluation_master': '', '_eval_distribute': None, '_environment': 'local', '_save_summary_steps': 100}\n"
     ]
    },
    {
     "name": "stdout",
     "output_type": "stream",
     "text": [
      "INFO:tensorflow:Using config: {'_save_checkpoints_secs': 180, '_session_config': allow_soft_placement: true\n",
      "graph_options {\n",
      "  rewrite_options {\n",
      "    meta_optimizer_iterations: ONE\n",
      "  }\n",
      "}\n",
      ", '_keep_checkpoint_max': 5, '_task_type': None, '_train_distribute': None, '_is_chief': True, '_cluster_spec': <tensorflow.python.training.server_lib.ClusterSpec object at 0x7fba7c8554d0>, '_tf_config': gpu_options {\n",
      "  per_process_gpu_memory_fraction: 1.0\n",
      "}\n",
      ", '_protocol': None, '_save_checkpoints_steps': None, '_keep_checkpoint_every_n_hours': 10000, '_num_ps_replicas': 0, '_model_dir': 'gs://cluster19-bkt/synthea/model/', '_tf_random_seed': None, '_master': '', '_device_fn': None, '_num_worker_replicas': 0, '_task_id': 0, '_log_step_count_steps': 100, '_evaluation_master': '', '_eval_distribute': None, '_environment': 'local', '_save_summary_steps': 100}\n"
     ]
    },
    {
     "name": "stderr",
     "output_type": "stream",
     "text": [
      "I0306 22:31:04.621371 140440319678208 tf_logging.py:115] Using config: {'_save_checkpoints_secs': 180, '_session_config': allow_soft_placement: true\n",
      "graph_options {\n",
      "  rewrite_options {\n",
      "    meta_optimizer_iterations: ONE\n",
      "  }\n",
      "}\n",
      ", '_keep_checkpoint_max': 5, '_task_type': None, '_train_distribute': None, '_is_chief': True, '_cluster_spec': <tensorflow.python.training.server_lib.ClusterSpec object at 0x7fba7c8554d0>, '_tf_config': gpu_options {\n",
      "  per_process_gpu_memory_fraction: 1.0\n",
      "}\n",
      ", '_protocol': None, '_save_checkpoints_steps': None, '_keep_checkpoint_every_n_hours': 10000, '_num_ps_replicas': 0, '_model_dir': 'gs://cluster19-bkt/synthea/model/', '_tf_random_seed': None, '_master': '', '_device_fn': None, '_num_worker_replicas': 0, '_task_id': 0, '_log_step_count_steps': 100, '_evaluation_master': '', '_eval_distribute': None, '_environment': 'local', '_save_summary_steps': 100}\n"
     ]
    },
    {
     "name": "stdout",
     "output_type": "stream",
     "text": [
      "INFO:tensorflow:Calling model_fn.\n"
     ]
    },
    {
     "name": "stderr",
     "output_type": "stream",
     "text": [
      "I0306 22:31:09.620572 140440319678208 tf_logging.py:115] Calling model_fn.\n"
     ]
    },
    {
     "name": "stdout",
     "output_type": "stream",
     "text": [
      "INFO:tensorflow:Calling model_fn.\n"
     ]
    },
    {
     "name": "stderr",
     "output_type": "stream",
     "text": [
      "I0306 22:31:09.624799 140440319678208 tf_logging.py:115] Calling model_fn.\n"
     ]
    },
    {
     "name": "stdout",
     "output_type": "stream",
     "text": [
      "INFO:tensorflow:Done calling model_fn.\n"
     ]
    },
    {
     "name": "stderr",
     "output_type": "stream",
     "text": [
      "I0306 22:31:12.750710 140440319678208 tf_logging.py:115] Done calling model_fn.\n"
     ]
    },
    {
     "name": "stdout",
     "output_type": "stream",
     "text": [
      "INFO:tensorflow:Done calling model_fn.\n"
     ]
    },
    {
     "name": "stderr",
     "output_type": "stream",
     "text": [
      "I0306 22:31:12.755114 140440319678208 tf_logging.py:115] Done calling model_fn.\n"
     ]
    },
    {
     "name": "stdout",
     "output_type": "stream",
     "text": [
      "INFO:tensorflow:Signatures INCLUDED in export for Eval: None\n"
     ]
    },
    {
     "name": "stderr",
     "output_type": "stream",
     "text": [
      "I0306 22:31:12.760251 140440319678208 tf_logging.py:115] Signatures INCLUDED in export for Eval: None\n"
     ]
    },
    {
     "name": "stdout",
     "output_type": "stream",
     "text": [
      "INFO:tensorflow:Signatures INCLUDED in export for Classify: ['serving_default', 'classification']\n"
     ]
    },
    {
     "name": "stderr",
     "output_type": "stream",
     "text": [
      "I0306 22:31:12.764616 140440319678208 tf_logging.py:115] Signatures INCLUDED in export for Classify: ['serving_default', 'classification']\n"
     ]
    },
    {
     "name": "stdout",
     "output_type": "stream",
     "text": [
      "INFO:tensorflow:Signatures INCLUDED in export for Regress: None\n"
     ]
    },
    {
     "name": "stderr",
     "output_type": "stream",
     "text": [
      "I0306 22:31:12.768605 140440319678208 tf_logging.py:115] Signatures INCLUDED in export for Regress: None\n"
     ]
    },
    {
     "name": "stdout",
     "output_type": "stream",
     "text": [
      "INFO:tensorflow:Signatures INCLUDED in export for Predict: ['predict']\n"
     ]
    },
    {
     "name": "stderr",
     "output_type": "stream",
     "text": [
      "I0306 22:31:12.772643 140440319678208 tf_logging.py:115] Signatures INCLUDED in export for Predict: ['predict']\n"
     ]
    },
    {
     "name": "stdout",
     "output_type": "stream",
     "text": [
      "INFO:tensorflow:Signatures INCLUDED in export for Train: None\n"
     ]
    },
    {
     "name": "stderr",
     "output_type": "stream",
     "text": [
      "I0306 22:31:12.776612 140440319678208 tf_logging.py:115] Signatures INCLUDED in export for Train: None\n"
     ]
    },
    {
     "name": "stdout",
     "output_type": "stream",
     "text": [
      "INFO:tensorflow:Restoring parameters from gs://cluster19-bkt/synthea/model/model.ckpt-300\n"
     ]
    },
    {
     "name": "stderr",
     "output_type": "stream",
     "text": [
      "I0306 22:31:13.150372 140440319678208 tf_logging.py:115] Restoring parameters from gs://cluster19-bkt/synthea/model/model.ckpt-300\n"
     ]
    },
    {
     "name": "stdout",
     "output_type": "stream",
     "text": [
      "WARNING:tensorflow:From /usr/local/envs/py2env/lib/python2.7/site-packages/tensorflow/python/estimator/estimator.py:1044: calling add_meta_graph_and_variables (from tensorflow.python.saved_model.builder_impl) with legacy_init_op is deprecated and will be removed in a future version.\n",
      "Instructions for updating:\n",
      "Pass your op to the equivalent parameter main_op instead.\n"
     ]
    },
    {
     "name": "stderr",
     "output_type": "stream",
     "text": [
      "W0306 22:31:14.255047 140440319678208 tf_logging.py:125] From /usr/local/envs/py2env/lib/python2.7/site-packages/tensorflow/python/estimator/estimator.py:1044: calling add_meta_graph_and_variables (from tensorflow.python.saved_model.builder_impl) with legacy_init_op is deprecated and will be removed in a future version.\n",
      "Instructions for updating:\n",
      "Pass your op to the equivalent parameter main_op instead.\n"
     ]
    },
    {
     "name": "stdout",
     "output_type": "stream",
     "text": [
      "INFO:tensorflow:Assets added to graph.\n"
     ]
    },
    {
     "name": "stderr",
     "output_type": "stream",
     "text": [
      "I0306 22:31:14.258912 140440319678208 tf_logging.py:115] Assets added to graph.\n"
     ]
    },
    {
     "name": "stdout",
     "output_type": "stream",
     "text": [
      "INFO:tensorflow:No assets to write.\n"
     ]
    },
    {
     "name": "stderr",
     "output_type": "stream",
     "text": [
      "I0306 22:31:14.263230 140440319678208 tf_logging.py:115] No assets to write.\n"
     ]
    },
    {
     "name": "stdout",
     "output_type": "stream",
     "text": [
      "INFO:tensorflow:SavedModel written to: gs://cluster19-bkt/synthea/model/export/temp-1551911464/saved_model.pb\n"
     ]
    },
    {
     "name": "stderr",
     "output_type": "stream",
     "text": [
      "I0306 22:31:23.941159 140440319678208 tf_logging.py:115] SavedModel written to: gs://cluster19-bkt/synthea/model/export/temp-1551911464/saved_model.pb\n"
     ]
    }
   ],
   "source": [
    "from py.google.fhir.models.model import get_serving_input_fn\n",
    "hparams = model.create_hparams()\n",
    "time_crossed_features = [\n",
    "        cross.split(':') for cross in hparams.time_crossed_features if cross\n",
    "    ]\n",
    "LABEL_VALUES = ['less_or_equal_3', '3_7', '7_14', 'above_14']\n",
    "estimator = make_estimator(hparams, LABEL_VALUES, MODEL_PATH)\n",
    "serving_input_fn = get_serving_input_fn(hparams.dedup, hparams.time_windows, hparams.include_age, hparams.categorical_context_features, hparams.sequence_features, time_crossed_features)\n",
    "export_dir = estimator.export_savedmodel(SAVED_MODEL_PATH, serving_input_fn)\n",
    "os.putenv(\"MODEL_BINARY\", export_dir)"
   ]
  },
  {
   "cell_type": "markdown",
   "metadata": {},
   "source": [
    "<b>2b. List all the models deployed currently in the Cloud ML Engine</b>"
   ]
  },
  {
   "cell_type": "code",
   "execution_count": 25,
   "metadata": {},
   "outputs": [
    {
     "name": "stderr",
     "output_type": "stream",
     "text": [
      "Listed 0 items.\n"
     ]
    }
   ],
   "source": [
    "%%bash\n",
    "gcloud ml-engine models list"
   ]
  },
  {
   "cell_type": "markdown",
   "metadata": {},
   "source": [
    "<b>2c. Optionally run following cell to delete previously deployed model. </b>"
   ]
  },
  {
   "cell_type": "code",
   "execution_count": 23,
   "metadata": {},
   "outputs": [
    {
     "name": "stderr",
     "output_type": "stream",
     "text": [
      "Deleting version [v1]......\n",
      "..............................done.\n",
      "Deleting model [tf_fhir_los]...\n",
      "done.\n"
     ]
    }
   ],
   "source": [
    "%%bash\n",
    "gcloud ml-engine versions delete v1 --model ${MODEL_NAME} -q\n",
    "gcloud ml-engine models delete $MODEL_NAME -q"
   ]
  },
  {
   "cell_type": "markdown",
   "metadata": {},
   "source": [
    "<b>2d. Run following cell to create a new model if it does not exist </b>"
   ]
  },
  {
   "cell_type": "code",
   "execution_count": 26,
   "metadata": {},
   "outputs": [
    {
     "name": "stderr",
     "output_type": "stream",
     "text": [
      "Created ml engine model [projects/dp-workspace/models/tf_fhir_los].\n"
     ]
    }
   ],
   "source": [
    "%%bash\n",
    "gcloud ml-engine models create $MODEL_NAME --regions=$REGION"
   ]
  },
  {
   "cell_type": "markdown",
   "metadata": {},
   "source": [
    "<b> 2e. List versions of the Model</b>"
   ]
  },
  {
   "cell_type": "code",
   "execution_count": 14,
   "metadata": {},
   "outputs": [
    {
     "name": "stderr",
     "output_type": "stream",
     "text": [
      "Listed 0 items.\n"
     ]
    }
   ],
   "source": [
    "%%bash\n",
    "gcloud ml-engine versions list --model ${MODEL_NAME}"
   ]
  },
  {
   "cell_type": "markdown",
   "metadata": {},
   "source": [
    "<b> 2f. Run following cell to create a new version of the model. Increment the version number like v1, v2, v3 </b> <br />\n",
    "Optionally, you can delete a version using: <br />\n",
    "gcloud ml-engine versions delete v1 --model ${MODEL_NAME} -q"
   ]
  },
  {
   "cell_type": "code",
   "execution_count": 27,
   "metadata": {},
   "outputs": [
    {
     "name": "stderr",
     "output_type": "stream",
     "text": [
      "Creating version (this might take a few minutes)......\n",
      ".............................................................................................................................................................................................done.\n"
     ]
    }
   ],
   "source": [
    "%%bash\n",
    "#gcloud ml-engine versions delete v1 --model ${MODEL_NAME} -q\n",
    "gcloud ml-engine versions create v1 \\\n",
    "    --model ${MODEL_NAME} \\\n",
    "    --origin ${MODEL_BINARY} \\\n",
    "    --runtime-version 1.12"
   ]
  },
  {
   "cell_type": "markdown",
   "metadata": {},
   "source": [
    "<b> 2g. Run an inference job on CloudML engine </b>"
   ]
  },
  {
   "cell_type": "code",
   "execution_count": 18,
   "metadata": {},
   "outputs": [
    {
     "name": "stdout",
     "output_type": "stream",
     "text": [
      "jobId: job_inf_20190306_223914\n",
      "state: QUEUED\n"
     ]
    },
    {
     "name": "stderr",
     "output_type": "stream",
     "text": [
      "Job [job_inf_20190306_223914] submitted successfully.\n",
      "Your job is still active. You may view the status of your job with the command\n",
      "\n",
      "  $ gcloud ml-engine jobs describe job_inf_20190306_223914\n",
      "\n",
      "or continue streaming the logs with the command\n",
      "\n",
      "  $ gcloud ml-engine jobs stream-logs job_inf_20190306_223914\n"
     ]
    }
   ],
   "source": [
    "%%bash\n",
    "INFER_JOB_NAME=\"job_inf_$(date +%Y%m%d_%H%M%S)\"\n",
    "gcloud ml-engine jobs submit prediction $INFER_JOB_NAME --model $MODEL_NAME     --version v1     --data-format tf-record     --region $REGION     --input-paths $SERVING_DATASET     --output-path $INFERENCE_PATH\n"
   ]
  },
  {
   "cell_type": "markdown",
   "metadata": {},
   "source": [
    "<b>You can check the status of the job and other information on <a href=\"https://pantheon.corp.google.com/mlengine/jobs\">GCP CloudML page</a> </b>"
   ]
  },
  {
   "cell_type": "markdown",
   "metadata": {},
   "source": [
    "<b> 2h. View the prediction (output) generated by the inference job </b>"
   ]
  },
  {
   "cell_type": "code",
   "execution_count": 21,
   "metadata": {},
   "outputs": [
    {
     "name": "stdout",
     "output_type": "stream",
     "text": [
      "{\"classes\": [\"less_or_equal_3\", \"3_7\", \"7_14\", \"above_14\"], \"scores\": [0.46091485023498535, 0.1920824497938156, 0.1735013723373413, 0.1735013723373413]}\n",
      "{\"classes\": [\"less_or_equal_3\", \"3_7\", \"7_14\", \"above_14\"], \"scores\": [0.33346351981163025, 0.2637665867805481, 0.20138496160507202, 0.20138496160507202]}\n",
      "{\"classes\": [\"less_or_equal_3\", \"3_7\", \"7_14\", \"above_14\"], \"scores\": [0.43521541357040405, 0.20636126399040222, 0.17921166121959686, 0.17921166121959686]}\n",
      "{\"classes\": [\"less_or_equal_3\", \"3_7\", \"7_14\", \"above_14\"], \"scores\": [0.41660845279693604, 0.20461316406726837, 0.1893891543149948, 0.1893891543149948]}\n",
      "{\"classes\": [\"less_or_equal_3\", \"3_7\", \"7_14\", \"above_14\"], \"scores\": [0.3496762216091156, 0.2616179883480072, 0.1943529099225998, 0.1943529099225998]}\n",
      "{\"classes\": [\"less_or_equal_3\", \"3_7\", \"7_14\", \"above_14\"], \"scores\": [0.4166741967201233, 0.235443577170372, 0.17394115030765533, 0.17394115030765533]}\n",
      "{\"classes\": [\"less_or_equal_3\", \"3_7\", \"7_14\", \"above_14\"], \"scores\": [0.3644198477268219, 0.22510665655136108, 0.2052367776632309, 0.2052367776632309]}\n",
      "{\"classes\": [\"less_or_equal_3\", \"3_7\", \"7_14\", \"above_14\"], \"scores\": [0.3581617474555969, 0.25651878118515015, 0.19265969097614288, 0.19265969097614288]}\n",
      "{\"classes\": [\"less_or_equal_3\", \"3_7\", \"7_14\", \"above_14\"], \"scores\": [0.6387507915496826, 0.13085539638996124, 0.11519695818424225, 0.11519695818424225]}\n",
      "{\"classes\": [\"less_or_equal_3\", \"3_7\", \"7_14\", \"above_14\"], \"scores\": [0.5902621746063232, 0.14895939826965332, 0.13038921356201172, 0.13038921356201172]}\n",
      "{\"classes\": [\"less_or_equal_3\", \"3_7\", \"7_14\", \"above_14\"], \"scores\": [0.3794516623020172, 0.2181423157453537, 0.20120304822921753, 0.20120304822921753]}\n",
      "{\"classes\": [\"less_or_equal_3\", \"3_7\", \"7_14\", \"above_14\"], \"scores\": [0.36438557505607605, 0.22581234574317932, 0.20490103960037231, 0.20490103960037231]}\n",
      "{\"classes\": [\"less_or_equal_3\", \"3_7\", \"7_14\", \"above_14\"], \"scores\": [0.3471221625804901, 0.2313753217458725, 0.2107512354850769, 0.2107512354850769]}\n",
      "{\"classes\": [\"less_or_equal_3\", \"3_7\", \"7_14\", \"above_14\"], \"scores\": [0.4827820658683777, 0.21315574645996094, 0.1520310789346695, 0.1520310789346695]}\n",
      "{\"classes\": [\"less_or_equal_3\", \"3_7\", \"7_14\", \"above_14\"], \"scores\": [0.3496911823749542, 0.22477640211582184, 0.21276621520519257, 0.21276621520519257]}\n",
      "{\"classes\": [\"less_or_equal_3\", \"3_7\", \"7_14\", \"above_14\"], \"scores\": [0.3256012797355652, 0.2340296059846878, 0.2201845347881317, 0.2201845347881317]}\n",
      "{\"classes\": [\"less_or_equal_3\", \"3_7\", \"7_14\", \"above_14\"], \"scores\": [0.3703394830226898, 0.2531915009021759, 0.18823449313640594, 0.18823449313640594]}\n",
      "{\"classes\": [\"less_or_equal_3\", \"3_7\", \"7_14\", \"above_14\"], \"scores\": [0.39021235704421997, 0.21932187676429749, 0.19523289799690247, 0.19523289799690247]}\n",
      "{\"classes\": [\"less_or_equal_3\", \"3_7\", \"7_14\", \"above_14\"], \"scores\": [0.9429581165313721, 0.020179297775030136, 0.018431365489959717, 0.018431365489959717]}\n",
      "{\"classes\": [\"less_or_equal_3\", \"3_7\", \"7_14\", \"above_14\"], \"scores\": [0.9677392840385437, 0.011275112628936768, 0.010492815636098385, 0.010492815636098385]}\n",
      "{\"classes\": [\"less_or_equal_3\", \"3_7\", \"7_14\", \"above_14\"], \"scores\": [0.9700233936309814, 0.010474367998540401, 0.00975113082677126, 0.00975113082677126]}\n",
      "{\"classes\": [\"less_or_equal_3\", \"3_7\", \"7_14\", \"above_14\"], \"scores\": [0.9707061648368835, 0.010235652327537537, 0.009529110044240952, 0.009529110044240952]}\n",
      "{\"classes\": [\"less_or_equal_3\", \"3_7\", \"7_14\", \"above_14\"], \"scores\": [0.9744876623153687, 0.008909860625863075, 0.008301233872771263, 0.008301233872771263]}\n",
      "{\"classes\": [\"less_or_equal_3\", \"3_7\", \"7_14\", \"above_14\"], \"scores\": [0.9758273363113403, 0.008440230041742325, 0.00786615815013647, 0.00786615815013647]}\n",
      "{\"classes\": [\"less_or_equal_3\", \"3_7\", \"7_14\", \"above_14\"], \"scores\": [0.9758273363113403, 0.008440230041742325, 0.00786615815013647, 0.00786615815013647]}\n",
      "{\"classes\": [\"less_or_equal_3\", \"3_7\", \"7_14\", \"above_14\"], \"scores\": [0.9778283834457397, 0.007816239260137081, 0.0071776448749005795, 0.0071776448749005795]}\n",
      "{\"classes\": [\"less_or_equal_3\", \"3_7\", \"7_14\", \"above_14\"], \"scores\": [0.9733906984329224, 0.00939005147665739, 0.008609579876065254, 0.008609579876065254]}\n",
      "{\"classes\": [\"less_or_equal_3\", \"3_7\", \"7_14\", \"above_14\"], \"scores\": [0.9705041646957397, 0.010340331122279167, 0.009577713906764984, 0.009577713906764984]}\n",
      "{\"classes\": [\"less_or_equal_3\", \"3_7\", \"7_14\", \"above_14\"], \"scores\": [0.9602723717689514, 0.013807416893541813, 0.012960060499608517, 0.012960060499608517]}\n",
      "{\"classes\": [\"less_or_equal_3\", \"3_7\", \"7_14\", \"above_14\"], \"scores\": [0.9295793771743774, 0.024540795013308525, 0.02293989434838295, 0.02293989434838295]}\n",
      "{\"classes\": [\"less_or_equal_3\", \"3_7\", \"7_14\", \"above_14\"], \"scores\": [0.3806137144565582, 0.2228958159685135, 0.19824528694152832, 0.19824528694152832]}\n",
      "{\"classes\": [\"less_or_equal_3\", \"3_7\", \"7_14\", \"above_14\"], \"scores\": [0.9416030645370483, 0.02054225280880928, 0.0189273152500391, 0.0189273152500391]}\n",
      "{\"classes\": [\"less_or_equal_3\", \"3_7\", \"7_14\", \"above_14\"], \"scores\": [0.9490642547607422, 0.01790357381105423, 0.016516132280230522, 0.016516132280230522]}\n",
      "{\"classes\": [\"less_or_equal_3\", \"3_7\", \"7_14\", \"above_14\"], \"scores\": [0.9177359938621521, 0.028987942263484, 0.02663804218173027, 0.02663804218173027]}\n",
      "{\"classes\": [\"less_or_equal_3\", \"3_7\", \"7_14\", \"above_14\"], \"scores\": [0.947433352470398, 0.018469886854290962, 0.01704837568104267, 0.01704837568104267]}\n",
      "{\"classes\": [\"less_or_equal_3\", \"3_7\", \"7_14\", \"above_14\"], \"scores\": [0.947433352470398, 0.018469886854290962, 0.01704837568104267, 0.01704837568104267]}\n",
      "{\"classes\": [\"less_or_equal_3\", \"3_7\", \"7_14\", \"above_14\"], \"scores\": [0.94358229637146, 0.01983705163002014, 0.018290357664227486, 0.018290357664227486]}\n",
      "{\"classes\": [\"less_or_equal_3\", \"3_7\", \"7_14\", \"above_14\"], \"scores\": [0.94358229637146, 0.01983705163002014, 0.018290357664227486, 0.018290357664227486]}\n",
      "{\"classes\": [\"less_or_equal_3\", \"3_7\", \"7_14\", \"above_14\"], \"scores\": [0.9130223989486694, 0.030138762667775154, 0.02841937355697155, 0.02841937355697155]}\n",
      "{\"classes\": [\"less_or_equal_3\", \"3_7\", \"7_14\", \"above_14\"], \"scores\": [0.940277636051178, 0.021004747599363327, 0.019358843564987183, 0.019358843564987183]}\n",
      "{\"classes\": [\"less_or_equal_3\", \"3_7\", \"7_14\", \"above_14\"], \"scores\": [0.940277636051178, 0.021004747599363327, 0.019358843564987183, 0.019358843564987183]}\n",
      "{\"classes\": [\"less_or_equal_3\", \"3_7\", \"7_14\", \"above_14\"], \"scores\": [0.9048848152160645, 0.033540643751621246, 0.030787277966737747, 0.030787277966737747]}\n",
      "{\"classes\": [\"less_or_equal_3\", \"3_7\", \"7_14\", \"above_14\"], \"scores\": [0.9087801575660706, 0.03215884044766426, 0.029530540108680725, 0.029530540108680725]}\n",
      "{\"classes\": [\"less_or_equal_3\", \"3_7\", \"7_14\", \"above_14\"], \"scores\": [0.35879915952682495, 0.2271314263343811, 0.20703469216823578, 0.20703469216823578]}\n",
      "{\"classes\": [\"less_or_equal_3\", \"3_7\", \"7_14\", \"above_14\"], \"scores\": [0.3544289469718933, 0.25448963046073914, 0.19554071128368378, 0.19554071128368378]}\n",
      "{\"classes\": [\"less_or_equal_3\", \"3_7\", \"7_14\", \"above_14\"], \"scores\": [0.36187753081321716, 0.22376558184623718, 0.20717839896678925, 0.20717839896678925]}\n",
      "{\"classes\": [\"less_or_equal_3\", \"3_7\", \"7_14\", \"above_14\"], \"scores\": [0.7448374629020691, 0.08942078053951263, 0.08287087827920914, 0.08287087827920914]}\n",
      "{\"classes\": [\"less_or_equal_3\", \"3_7\", \"7_14\", \"above_14\"], \"scores\": [0.8516587018966675, 0.05262661352753639, 0.047857318073511124, 0.047857318073511124]}\n",
      "{\"classes\": [\"less_or_equal_3\", \"3_7\", \"7_14\", \"above_14\"], \"scores\": [0.8485644459724426, 0.053734105080366135, 0.04885072261095047, 0.04885072261095047]}\n",
      "{\"classes\": [\"less_or_equal_3\", \"3_7\", \"7_14\", \"above_14\"], \"scores\": [0.7666388750076294, 0.08115502446889877, 0.07610306888818741, 0.07610306888818741]}\n",
      "{\"classes\": [\"less_or_equal_3\", \"3_7\", \"7_14\", \"above_14\"], \"scores\": [0.8319219946861267, 0.05930306017398834, 0.05438743531703949, 0.05438743531703949]}\n",
      "{\"classes\": [\"less_or_equal_3\", \"3_7\", \"7_14\", \"above_14\"], \"scores\": [0.8319219946861267, 0.05930306017398834, 0.05438743531703949, 0.05438743531703949]}\n",
      "{\"classes\": [\"less_or_equal_3\", \"3_7\", \"7_14\", \"above_14\"], \"scores\": [0.8319219946861267, 0.05930306017398834, 0.05438743531703949, 0.05438743531703949]}\n",
      "{\"classes\": [\"less_or_equal_3\", \"3_7\", \"7_14\", \"above_14\"], \"scores\": [0.3496911823749542, 0.22477640211582184, 0.21276621520519257, 0.21276621520519257]}\n",
      "{\"classes\": [\"less_or_equal_3\", \"3_7\", \"7_14\", \"above_14\"], \"scores\": [0.37927067279815674, 0.2179276943206787, 0.20140080153942108, 0.20140080153942108]}\n",
      "{\"classes\": [\"less_or_equal_3\", \"3_7\", \"7_14\", \"above_14\"], \"scores\": [0.4894687831401825, 0.21367992460727692, 0.1484256088733673, 0.1484256088733673]}\n",
      "{\"classes\": [\"less_or_equal_3\", \"3_7\", \"7_14\", \"above_14\"], \"scores\": [0.8608220815658569, 0.048537276685237885, 0.045320264995098114, 0.045320264995098114]}\n",
      "{\"classes\": [\"less_or_equal_3\", \"3_7\", \"7_14\", \"above_14\"], \"scores\": [0.8608220815658569, 0.048537276685237885, 0.045320264995098114, 0.045320264995098114]}\n",
      "{\"classes\": [\"less_or_equal_3\", \"3_7\", \"7_14\", \"above_14\"], \"scores\": [0.7876566648483276, 0.07300493121147156, 0.069669209420681, 0.069669209420681]}\n",
      "{\"classes\": [\"less_or_equal_3\", \"3_7\", \"7_14\", \"above_14\"], \"scores\": [0.8524513244628906, 0.05147677659988403, 0.0480358861386776, 0.0480358861386776]}\n",
      "{\"classes\": [\"less_or_equal_3\", \"3_7\", \"7_14\", \"above_14\"], \"scores\": [0.7891815900802612, 0.07248573750257492, 0.06916637718677521, 0.06916637718677521]}\n",
      "{\"classes\": [\"less_or_equal_3\", \"3_7\", \"7_14\", \"above_14\"], \"scores\": [0.4671579599380493, 0.218357652425766, 0.15724214911460876, 0.15724214911460876]}\n",
      "{\"classes\": [\"less_or_equal_3\", \"3_7\", \"7_14\", \"above_14\"], \"scores\": [0.49595943093299866, 0.20456285774707794, 0.1497388780117035, 0.1497388780117035]}\n",
      "{\"classes\": [\"less_or_equal_3\", \"3_7\", \"7_14\", \"above_14\"], \"scores\": [0.3514162003993988, 0.26165640354156494, 0.19346372783184052, 0.19346372783184052]}\n",
      "{\"classes\": [\"less_or_equal_3\", \"3_7\", \"7_14\", \"above_14\"], \"scores\": [0.3575669825077057, 0.26073551177978516, 0.19084875285625458, 0.19084875285625458]}\n",
      "{\"classes\": [\"less_or_equal_3\", \"3_7\", \"7_14\", \"above_14\"], \"scores\": [0.3496762216091156, 0.2616179883480072, 0.1943529099225998, 0.1943529099225998]}\n",
      "{\"classes\": [\"less_or_equal_3\", \"3_7\", \"7_14\", \"above_14\"], \"scores\": [0.8910545706748962, 0.03891025483608246, 0.03501754254102707, 0.03501754254102707]}\n",
      "{\"classes\": [\"less_or_equal_3\", \"3_7\", \"7_14\", \"above_14\"], \"scores\": [0.9330829381942749, 0.02358768880367279, 0.021664733067154884, 0.021664733067154884]}\n",
      "{\"classes\": [\"less_or_equal_3\", \"3_7\", \"7_14\", \"above_14\"], \"scores\": [0.9330829381942749, 0.02358768880367279, 0.021664733067154884, 0.021664733067154884]}\n",
      "{\"classes\": [\"less_or_equal_3\", \"3_7\", \"7_14\", \"above_14\"], \"scores\": [0.9122067093849182, 0.03100511059165001, 0.028394164517521858, 0.028394164517521858]}\n",
      "{\"classes\": [\"less_or_equal_3\", \"3_7\", \"7_14\", \"above_14\"], \"scores\": [0.8966507315635681, 0.035918742418289185, 0.03371533006429672, 0.03371533006429672]}\n",
      "{\"classes\": [\"less_or_equal_3\", \"3_7\", \"7_14\", \"above_14\"], \"scores\": [0.9228932857513428, 0.027204083278775215, 0.024951277300715446, 0.024951277300715446]}\n",
      "{\"classes\": [\"less_or_equal_3\", \"3_7\", \"7_14\", \"above_14\"], \"scores\": [0.3718176484107971, 0.2491045743227005, 0.1895388960838318, 0.1895388960838318]}\n",
      "{\"classes\": [\"less_or_equal_3\", \"3_7\", \"7_14\", \"above_14\"], \"scores\": [0.37205106019973755, 0.2233196198940277, 0.20231467485427856, 0.20231467485427856]}\n",
      "{\"classes\": [\"less_or_equal_3\", \"3_7\", \"7_14\", \"above_14\"], \"scores\": [0.49727189540863037, 0.18067918717861176, 0.16102445125579834, 0.16102445125579834]}\n",
      "{\"classes\": [\"less_or_equal_3\", \"3_7\", \"7_14\", \"above_14\"], \"scores\": [0.36518216133117676, 0.21929021179676056, 0.20776383578777313, 0.20776383578777313]}\n",
      "{\"classes\": [\"less_or_equal_3\", \"3_7\", \"7_14\", \"above_14\"], \"scores\": [0.3500369191169739, 0.2328771948814392, 0.20854297280311584, 0.20854297280311584]}\n",
      "{\"classes\": [\"less_or_equal_3\", \"3_7\", \"7_14\", \"above_14\"], \"scores\": [0.4195079803466797, 0.20786987245082855, 0.18631108105182648, 0.18631108105182648]}\n",
      "{\"classes\": [\"less_or_equal_3\", \"3_7\", \"7_14\", \"above_14\"], \"scores\": [0.5160911083221436, 0.17269843816757202, 0.1556052267551422, 0.1556052267551422]}\n",
      "{\"classes\": [\"less_or_equal_3\", \"3_7\", \"7_14\", \"above_14\"], \"scores\": [0.4036380648612976, 0.21584424376487732, 0.19025883078575134, 0.19025883078575134]}\n",
      "{\"classes\": [\"less_or_equal_3\", \"3_7\", \"7_14\", \"above_14\"], \"scores\": [0.9586058259010315, 0.014411664567887783, 0.013491319492459297, 0.013491319492459297]}\n",
      "{\"classes\": [\"less_or_equal_3\", \"3_7\", \"7_14\", \"above_14\"], \"scores\": [0.9612168669700623, 0.013498330488801003, 0.012642333284020424, 0.012642333284020424]}\n",
      "{\"classes\": [\"less_or_equal_3\", \"3_7\", \"7_14\", \"above_14\"], \"scores\": [0.9506948590278625, 0.016893038526177406, 0.01620609126985073, 0.01620609126985073]}\n",
      "{\"classes\": [\"less_or_equal_3\", \"3_7\", \"7_14\", \"above_14\"], \"scores\": [0.9626554250717163, 0.012995569035410881, 0.012174525298178196, 0.012174525298178196]}\n",
      "{\"classes\": [\"less_or_equal_3\", \"3_7\", \"7_14\", \"above_14\"], \"scores\": [0.9502716064453125, 0.017321202903985977, 0.016203681007027626, 0.016203681007027626]}\n",
      "{\"classes\": [\"less_or_equal_3\", \"3_7\", \"7_14\", \"above_14\"], \"scores\": [0.9613053202629089, 0.013464804738759995, 0.012614951469004154, 0.012614951469004154]}\n",
      "{\"classes\": [\"less_or_equal_3\", \"3_7\", \"7_14\", \"above_14\"], \"scores\": [0.9464715719223022, 0.018343603238463402, 0.017592430114746094, 0.017592430114746094]}\n",
      "{\"classes\": [\"less_or_equal_3\", \"3_7\", \"7_14\", \"above_14\"], \"scores\": [0.9598960280418396, 0.013957561925053596, 0.013073197565972805, 0.013073197565972805]}\n",
      "{\"classes\": [\"less_or_equal_3\", \"3_7\", \"7_14\", \"above_14\"], \"scores\": [0.37630870938301086, 0.2214735448360443, 0.20110885798931122, 0.20110885798931122]}\n",
      "{\"classes\": [\"less_or_equal_3\", \"3_7\", \"7_14\", \"above_14\"], \"scores\": [0.3544289469718933, 0.25448963046073914, 0.19554071128368378, 0.19554071128368378]}\n",
      "{\"classes\": [\"less_or_equal_3\", \"3_7\", \"7_14\", \"above_14\"], \"scores\": [0.4671425521373749, 0.19169928133487701, 0.17057906091213226, 0.17057906091213226]}\n",
      "{\"classes\": [\"less_or_equal_3\", \"3_7\", \"7_14\", \"above_14\"], \"scores\": [0.37038224935531616, 0.22140707075595856, 0.20410534739494324, 0.20410534739494324]}\n",
      "{\"classes\": [\"less_or_equal_3\", \"3_7\", \"7_14\", \"above_14\"], \"scores\": [0.34289565682411194, 0.23616747558116913, 0.21046847105026245, 0.21046847105026245]}\n",
      "{\"classes\": [\"less_or_equal_3\", \"3_7\", \"7_14\", \"above_14\"], \"scores\": [0.42002278566360474, 0.23101326823234558, 0.17448198795318604, 0.17448198795318604]}\n",
      "{\"classes\": [\"less_or_equal_3\", \"3_7\", \"7_14\", \"above_14\"], \"scores\": [0.42486199736595154, 0.2067011445760727, 0.18421843647956848, 0.18421843647956848]}\n",
      "{\"classes\": [\"less_or_equal_3\", \"3_7\", \"7_14\", \"above_14\"], \"scores\": [0.40498223900794983, 0.20874090492725372, 0.19313840568065643, 0.19313840568065643]}\n",
      "{\"classes\": [\"less_or_equal_3\", \"3_7\", \"7_14\", \"above_14\"], \"scores\": [0.9400237202644348, 0.02132154256105423, 0.01932731829583645, 0.01932731829583645]}\n",
      "{\"classes\": [\"less_or_equal_3\", \"3_7\", \"7_14\", \"above_14\"], \"scores\": [0.9537947773933411, 0.015997713431715965, 0.01510372944176197, 0.01510372944176197]}\n",
      "{\"classes\": [\"less_or_equal_3\", \"3_7\", \"7_14\", \"above_14\"], \"scores\": [0.9713720679283142, 0.01005620788782835, 0.009285839274525642, 0.009285839274525642]}\n",
      "{\"classes\": [\"less_or_equal_3\", \"3_7\", \"7_14\", \"above_14\"], \"scores\": [0.9720250368118286, 0.0098267188295722, 0.009074121713638306, 0.009074121713638306]}\n",
      "{\"classes\": [\"less_or_equal_3\", \"3_7\", \"7_14\", \"above_14\"], \"scores\": [0.9720250368118286, 0.0098267188295722, 0.009074121713638306, 0.009074121713638306]}\n",
      "{\"classes\": [\"less_or_equal_3\", \"3_7\", \"7_14\", \"above_14\"], \"scores\": [0.9358060956001282, 0.021994611248373985, 0.02109961211681366, 0.02109961211681366]}\n",
      "{\"classes\": [\"less_or_equal_3\", \"3_7\", \"7_14\", \"above_14\"], \"scores\": [0.952584981918335, 0.016495568677783012, 0.015459708869457245, 0.015459708869457245]}\n",
      "{\"classes\": [\"less_or_equal_3\", \"3_7\", \"7_14\", \"above_14\"], \"scores\": [0.3256012797355652, 0.2340296059846878, 0.2201845347881317, 0.2201845347881317]}\n",
      "{\"classes\": [\"less_or_equal_3\", \"3_7\", \"7_14\", \"above_14\"], \"scores\": [0.33175891637802124, 0.26368528604507446, 0.20227791368961334, 0.20227791368961334]}\n",
      "{\"classes\": [\"less_or_equal_3\", \"3_7\", \"7_14\", \"above_14\"], \"scores\": [0.3575669825077057, 0.26073551177978516, 0.19084875285625458, 0.19084875285625458]}\n",
      "{\"classes\": [\"less_or_equal_3\", \"3_7\", \"7_14\", \"above_14\"], \"scores\": [0.9152286648750305, 0.029517019167542458, 0.027627166360616684, 0.027627166360616684]}\n",
      "{\"classes\": [\"less_or_equal_3\", \"3_7\", \"7_14\", \"above_14\"], \"scores\": [0.9254973530769348, 0.025923127308487892, 0.024289730936288834, 0.024289730936288834]}\n",
      "{\"classes\": [\"less_or_equal_3\", \"3_7\", \"7_14\", \"above_14\"], \"scores\": [0.9254112839698792, 0.0259428508579731, 0.024322975426912308, 0.024322975426912308]}\n",
      "{\"classes\": [\"less_or_equal_3\", \"3_7\", \"7_14\", \"above_14\"], \"scores\": [0.9195705056190491, 0.02798665501177311, 0.02622138150036335, 0.02622138150036335]}\n",
      "{\"classes\": [\"less_or_equal_3\", \"3_7\", \"7_14\", \"above_14\"], \"scores\": [0.9356268048286438, 0.022596944123506546, 0.02088811807334423, 0.02088811807334423]}\n",
      "{\"classes\": [\"less_or_equal_3\", \"3_7\", \"7_14\", \"above_14\"], \"scores\": [0.9011353850364685, 0.03477989509701729, 0.03204235062003136, 0.03204235062003136]}\n",
      "{\"classes\": [\"less_or_equal_3\", \"3_7\", \"7_14\", \"above_14\"], \"scores\": [0.744221031665802, 0.09083148837089539, 0.08247373253107071, 0.08247373253107071]}\n",
      "{\"classes\": [\"less_or_equal_3\", \"3_7\", \"7_14\", \"above_14\"], \"scores\": [0.9418757557868958, 0.020473958924412727, 0.018825162202119827, 0.018825162202119827]}\n",
      "{\"classes\": [\"less_or_equal_3\", \"3_7\", \"7_14\", \"above_14\"], \"scores\": [0.9730786085128784, 0.009452678263187408, 0.008734348230063915, 0.008734348230063915]}\n",
      "{\"classes\": [\"less_or_equal_3\", \"3_7\", \"7_14\", \"above_14\"], \"scores\": [0.9852482080459595, 0.005222099367529154, 0.004764857701957226, 0.004764857701957226]}\n",
      "{\"classes\": [\"less_or_equal_3\", \"3_7\", \"7_14\", \"above_14\"], \"scores\": [0.98095703125, 0.006651881150901318, 0.006195597816258669, 0.006195597816258669]}\n",
      "{\"classes\": [\"less_or_equal_3\", \"3_7\", \"7_14\", \"above_14\"], \"scores\": [0.9911314845085144, 0.0031459557358175516, 0.002861271845176816, 0.002861271845176816]}\n",
      "{\"classes\": [\"less_or_equal_3\", \"3_7\", \"7_14\", \"above_14\"], \"scores\": [0.9934520721435547, 0.002298906212672591, 0.0021244960371404886, 0.0021244960371404886]}\n",
      "{\"classes\": [\"less_or_equal_3\", \"3_7\", \"7_14\", \"above_14\"], \"scores\": [0.9950313568115234, 0.0017443235265091062, 0.001612069085240364, 0.001612069085240364]}\n",
      "{\"classes\": [\"less_or_equal_3\", \"3_7\", \"7_14\", \"above_14\"], \"scores\": [0.9954283237457275, 0.0015785277355462313, 0.0014965852024033666, 0.0014965852024033666]}\n",
      "{\"classes\": [\"less_or_equal_3\", \"3_7\", \"7_14\", \"above_14\"], \"scores\": [0.9969893097877502, 0.0010558783542364836, 0.0009773944038897753, 0.0009773944038897753]}\n",
      "{\"classes\": [\"less_or_equal_3\", \"3_7\", \"7_14\", \"above_14\"], \"scores\": [0.9978408813476562, 0.0007566824788227677, 0.0007012709975242615, 0.0007012709975242615]}\n",
      "{\"classes\": [\"less_or_equal_3\", \"3_7\", \"7_14\", \"above_14\"], \"scores\": [0.9984147548675537, 0.0005550076602958143, 0.0005151192308403552, 0.0005151192308403552]}\n",
      "{\"classes\": [\"less_or_equal_3\", \"3_7\", \"7_14\", \"above_14\"], \"scores\": [0.9976102113723755, 0.000842096924316138, 0.0007738972781226039, 0.0007738972781226039]}\n",
      "{\"classes\": [\"less_or_equal_3\", \"3_7\", \"7_14\", \"above_14\"], \"scores\": [0.9985836744308472, 0.0005063739372417331, 0.0004549666482489556, 0.0004549666482489556]}\n",
      "{\"classes\": [\"less_or_equal_3\", \"3_7\", \"7_14\", \"above_14\"], \"scores\": [0.9987673759460449, 0.00044036481995135546, 0.0003961250768043101, 0.0003961250768043101]}\n",
      "{\"classes\": [\"less_or_equal_3\", \"3_7\", \"7_14\", \"above_14\"], \"scores\": [0.9987988471984863, 0.0004332195967435837, 0.00038401229539886117, 0.00038401229539886117]}\n",
      "{\"classes\": [\"less_or_equal_3\", \"3_7\", \"7_14\", \"above_14\"], \"scores\": [0.36082640290260315, 0.2570081651210785, 0.19108270108699799, 0.19108270108699799]}\n",
      "{\"classes\": [\"less_or_equal_3\", \"3_7\", \"7_14\", \"above_14\"], \"scores\": [0.33346351981163025, 0.2637665867805481, 0.20138496160507202, 0.20138496160507202]}\n",
      "{\"classes\": [\"less_or_equal_3\", \"3_7\", \"7_14\", \"above_14\"], \"scores\": [0.9820130467414856, 0.006432580761611462, 0.005777208134531975, 0.005777208134531975]}\n",
      "{\"classes\": [\"less_or_equal_3\", \"3_7\", \"7_14\", \"above_14\"], \"scores\": [0.9870265126228333, 0.004635944031178951, 0.004168800078332424, 0.004168800078332424]}\n",
      "{\"classes\": [\"less_or_equal_3\", \"3_7\", \"7_14\", \"above_14\"], \"scores\": [0.989164412021637, 0.003834133967757225, 0.0035006802063435316, 0.0035006802063435316]}\n",
      "{\"classes\": [\"less_or_equal_3\", \"3_7\", \"7_14\", \"above_14\"], \"scores\": [0.9899997115135193, 0.0035386031959205866, 0.0032308052759617567, 0.0032308052759617567]}\n",
      "{\"classes\": [\"less_or_equal_3\", \"3_7\", \"7_14\", \"above_14\"], \"scores\": [0.9892142415046692, 0.003819560632109642, 0.003483068197965622, 0.003483068197965622]}\n",
      "{\"classes\": [\"less_or_equal_3\", \"3_7\", \"7_14\", \"above_14\"], \"scores\": [0.9890602827072144, 0.003826769767329097, 0.0035565239377319813, 0.0035565239377319813]}\n",
      "{\"classes\": [\"less_or_equal_3\", \"3_7\", \"7_14\", \"above_14\"], \"scores\": [0.992800235748291, 0.0025131141301244497, 0.0023433873429894447, 0.0023433873429894447]}\n",
      "{\"classes\": [\"less_or_equal_3\", \"3_7\", \"7_14\", \"above_14\"], \"scores\": [0.9927864670753479, 0.002517404267564416, 0.002348046749830246, 0.002348046749830246]}\n",
      "{\"classes\": [\"less_or_equal_3\", \"3_7\", \"7_14\", \"above_14\"], \"scores\": [0.9855512380599976, 0.005108341574668884, 0.004670186433941126, 0.004670186433941126]}\n",
      "{\"classes\": [\"less_or_equal_3\", \"3_7\", \"7_14\", \"above_14\"], \"scores\": [0.37271785736083984, 0.2223772257566452, 0.20245243608951569, 0.20245243608951569]}\n",
      "{\"classes\": [\"less_or_equal_3\", \"3_7\", \"7_14\", \"above_14\"], \"scores\": [0.324312686920166, 0.23725482821464539, 0.2192162424325943, 0.2192162424325943]}\n",
      "{\"classes\": [\"less_or_equal_3\", \"3_7\", \"7_14\", \"above_14\"], \"scores\": [0.40781041979789734, 0.20973125100135803, 0.1912291944026947, 0.1912291944026947]}\n",
      "{\"classes\": [\"less_or_equal_3\", \"3_7\", \"7_14\", \"above_14\"], \"scores\": [0.35084351897239685, 0.23331309854984283, 0.20792174339294434, 0.20792174339294434]}\n",
      "{\"classes\": [\"less_or_equal_3\", \"3_7\", \"7_14\", \"above_14\"], \"scores\": [0.5171391367912292, 0.1716819554567337, 0.15558946132659912, 0.15558946132659912]}\n",
      "{\"classes\": [\"less_or_equal_3\", \"3_7\", \"7_14\", \"above_14\"], \"scores\": [0.3689180612564087, 0.2266983687877655, 0.2021917998790741, 0.2021917998790741]}\n",
      "{\"classes\": [\"less_or_equal_3\", \"3_7\", \"7_14\", \"above_14\"], \"scores\": [0.3514162003993988, 0.26165640354156494, 0.19346372783184052, 0.19346372783184052]}\n"
     ]
    }
   ],
   "source": [
    "%%bash\n",
    "gsutil cat ${INFERENCE_PATH}/prediction.results-00000-of-00001"
   ]
  },
  {
   "cell_type": "markdown",
   "metadata": {},
   "source": [
    "<b>You can check the status of the job and other information on <a href=\"https://pantheon.corp.google.com/mlengine/jobs\">GCP CloudML page</a> </b>"
   ]
  },
  {
   "cell_type": "code",
   "execution_count": null,
   "metadata": {},
   "outputs": [],
   "source": []
  }
 ],
 "metadata": {
  "kernelspec": {
   "display_name": "Python 2",
   "language": "python",
   "name": "python2"
  },
  "language_info": {
   "codemirror_mode": {
    "name": "ipython",
    "version": 2
   },
   "file_extension": ".py",
   "mimetype": "text/x-python",
   "name": "python",
   "nbconvert_exporter": "python",
   "pygments_lexer": "ipython2",
   "version": "2.7.15"
  }
 },
 "nbformat": 4,
 "nbformat_minor": 2
}
