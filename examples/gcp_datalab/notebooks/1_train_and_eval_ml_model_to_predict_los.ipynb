{
 "cells": [
  {
   "cell_type": "markdown",
   "metadata": {},
   "source": [
    "<h1> Structured Machine Learning using Tensorflow, Google Cloud Datalab and Cloud ML - 1/2</h1>\n",
    "<hr />\n",
    "<b>This notebook demonstrates a process to train, evaluate and export a ML model to Google Cloud Storage. It leverages a pre-built machine learning model to predict Length of Stay in ED and inpatient care settings. This is step 1 of 2.</b>\n",
    "<h3>\n",
    "<br />\n",
    "<ol>\n",
    "<li> Setup Environment </li> <br />\n",
    "<li> Label generation - Generate Labels in TFRecord format </li> <br />\n",
    "<li> Generate TFSequenceExamples </li> <br />\n",
    "<li> Train and Evaluate Machine Learning Model </li> <br />\n",
    "</ol></h3>\n",
    "<hr />"
   ]
  },
  {
   "cell_type": "markdown",
   "metadata": {},
   "source": [
    "<h2> 1. Setup environment</h2>\n",
    "<ul>\n",
    "    <li> Initialize environment variables for your environment</li>\n",
    "    <li>Please change the values of the following before executing rest of the cells in this notebook: <br />\n",
    "        <b>1. GCP_PROJECT and </b> <br />\n",
    "        <b>2. GCS_BUCKET </b> <br />\n",
    "        <b>3. GCS_REGION </b>\n",
    "    </li>\n",
    "</ul>"
   ]
  },
  {
   "cell_type": "code",
   "execution_count": 22,
   "metadata": {},
   "outputs": [],
   "source": [
    "import os\n",
    "GCP_PROJECT = 'dp-workspace'\n",
    "GCS_BUCKET = 'gs://cluster19-bkt'\n",
    "GCS_REGION = 'us-central1'\n",
    "os.putenv(\"REGION\", GCS_REGION)\n",
    "LABELS_JOB = 'bundlesTolabels'\n",
    "SEQEX_JOB = 'gen_seqex'\n",
    "STAGING_LOCATION = GCS_BUCKET+'/staging'\n",
    "TEMP_LOCATION = GCS_BUCKET+'/temp'\n",
    "RUNNER = 'DirectRunner'\n",
    "TF_RECORD_BUNDLES = 'gs://cluster19-bkt/synthea/bundles/bundles*'\n",
    "os.putenv(\"BUNDLES_IN_GCS\", TF_RECORD_BUNDLES)\n",
    "LABELS_PATH = GCS_BUCKET+'/synthea/train/label'\n",
    "TF_RECORD_LABELS = GCS_BUCKET+'/synthea/train/label-00000-of-00001.tfrecords'\n",
    "os.putenv(\"LABELS_IN_GCS\", TF_RECORD_LABELS)\n",
    "SEQEX_PATH = GCS_BUCKET+'/synthea/train/seqex'\n",
    "TF_RECORD_SEQEX = GCS_BUCKET+'/synthea/train/seqex*'\n",
    "os.putenv(\"SEQEX_IN_GCS\", TF_RECORD_SEQEX)\n",
    "MODEL_PATH = GCS_BUCKET+'/synthea/model/'\n",
    "os.putenv(\"MODEL_IN_GCS\", MODEL_PATH+\"*\")\n",
    "SAVED_MODEL_PATH = MODEL_PATH + 'export'\n",
    "os.putenv(\"SAVED_MODEL_IN_GCS\", SAVED_MODEL_PATH+\"*\")\n",
    "TRAINING_DATASET = GCS_BUCKET+'/synthea/train/seqex-00000-of-00003.tfrecords'\n",
    "VALIDATION_DATASET = GCS_BUCKET+'/synthea/train/seqex-00001-of-00003.tfrecords'\n",
    "SERVING_DATASET = GCS_BUCKET+'/synthea/train/seqex-00002-of-00003.tfrecords'\n",
    "os.putenv(\"SERV_DS\", SERVING_DATASET)\n",
    "os.putenv(\"SERV_LOC\", GCS_BUCKET+\"/synthea/serv/\")"
   ]
  },
  {
   "cell_type": "markdown",
   "metadata": {},
   "source": [
    "<b>Import dependencies. </b>"
   ]
  },
  {
   "cell_type": "code",
   "execution_count": 23,
   "metadata": {},
   "outputs": [],
   "source": [
    "from apache_beam.options.pipeline_options import PipelineOptions\n",
    "from apache_beam.options.pipeline_options import GoogleCloudOptions\n",
    "from apache_beam.options.pipeline_options import StandardOptions\n",
    "import apache_beam as beam\n",
    "from tensorflow.core.example import example_pb2\n",
    "import tensorflow as tf\n",
    "import time\n",
    "\n",
    "from proto.stu3 import google_extensions_pb2\n",
    "from proto.stu3 import resources_pb2\n",
    "from proto.stu3 import version_config_pb2\n",
    "\n",
    "from google.protobuf import text_format\n",
    "from py.google.fhir.labels import label\n",
    "from py.google.fhir.labels import bundle_to_label\n",
    "from py.google.fhir.seqex import bundle_to_seqex\n",
    "from py.google.fhir.models import model"
   ]
  },
  {
   "cell_type": "markdown",
   "metadata": {},
   "source": [
    "<b>Optionally, enable logging for debugging.</b>"
   ]
  },
  {
   "cell_type": "code",
   "execution_count": 24,
   "metadata": {},
   "outputs": [],
   "source": [
    "import logging\n",
    "logger = logging.getLogger()\n",
    "#logger.setLevel(logging.INFO)\n",
    "logger.setLevel(logging.ERROR)"
   ]
  },
  {
   "cell_type": "markdown",
   "metadata": {},
   "source": [
    "<h2> 2. Label generation - Generate Labels in TFRecord format </h2>\n",
    "<ul>\n",
    "    <li>The next few cells generates labels in TFRecord format.</li>\n",
    "    <li>Bundles in TFRecord format have already been generated from Synthetic FHIR data</li>\n",
    "    <li>Bundles will be used as inputs and are stored in Google Cloud Storage</li>\n",
    "    <li>Output labels will also be stored in Google Cloud Storage </li>\n",
    "</ul>"
   ]
  },
  {
   "cell_type": "markdown",
   "metadata": {},
   "source": [
    "<b>2a. Let's examine GCS bucket that holds the bundles in TFRecord format.</b>"
   ]
  },
  {
   "cell_type": "code",
   "execution_count": 25,
   "metadata": {},
   "outputs": [
    {
     "name": "stdout",
     "output_type": "stream",
     "text": [
      "  40287400  2019-03-04T21:57:54Z  gs://cluster19-bkt/synthea/bundles/bundles-00001-of-00010.tfrecords\n",
      "  32071078  2019-03-02T02:26:22Z  gs://cluster19-bkt/synthea/bundles/bundles-00002-of-00010.tfrecords\n",
      "  34101053  2019-03-02T02:26:22Z  gs://cluster19-bkt/synthea/bundles/bundles-00003-of-00010.tfrecords\n",
      "  34407672  2019-03-02T02:26:22Z  gs://cluster19-bkt/synthea/bundles/bundles-00004-of-00010.tfrecords\n",
      "  48389070  2019-03-02T02:26:22Z  gs://cluster19-bkt/synthea/bundles/bundles-00005-of-00010.tfrecords\n",
      "  29202755  2019-03-02T02:26:23Z  gs://cluster19-bkt/synthea/bundles/bundles-00006-of-00010.tfrecords\n",
      "  32379919  2019-03-02T02:26:23Z  gs://cluster19-bkt/synthea/bundles/bundles-00007-of-00010.tfrecords\n",
      "  46919280  2019-03-02T02:26:23Z  gs://cluster19-bkt/synthea/bundles/bundles-00008-of-00010.tfrecords\n",
      "  47418405  2019-03-04T16:33:36Z  gs://cluster19-bkt/synthea/bundles/bundles-00009-of-00010.tfrecords\n",
      "TOTAL: 9 objects, 345176632 bytes (329.19 MiB)\n"
     ]
    }
   ],
   "source": [
    "%bash\n",
    "gsutil ls -l ${BUNDLES_IN_GCS}"
   ]
  },
  {
   "cell_type": "markdown",
   "metadata": {},
   "source": [
    "<b>2b. Delete labels generated from previous runs. </b>"
   ]
  },
  {
   "cell_type": "code",
   "execution_count": 26,
   "metadata": {},
   "outputs": [
    {
     "name": "stderr",
     "output_type": "stream",
     "text": [
      "Removing gs://cluster19-bkt/synthea/train/label-00000-of-00001.tfrecords...\n",
      "/ [1 objects]                                                                   \r\n",
      "Operation completed over 1 objects.                                              \n"
     ]
    }
   ],
   "source": [
    "%bash\n",
    "gsutil rm ${LABELS_IN_GCS}"
   ]
  },
  {
   "cell_type": "markdown",
   "metadata": {},
   "source": [
    "<b>2c. Set options needed to initialize the pipeline. </b>"
   ]
  },
  {
   "cell_type": "code",
   "execution_count": 6,
   "metadata": {},
   "outputs": [],
   "source": [
    "options = PipelineOptions()\n",
    "google_cloud_options = options.view_as(GoogleCloudOptions)\n",
    "google_cloud_options.project = GCP_PROJECT\n",
    "google_cloud_options.job_name = LABELS_JOB\n",
    "google_cloud_options.staging_location = STAGING_LOCATION\n",
    "google_cloud_options.temp_location = TEMP_LOCATION\n",
    "options.view_as(StandardOptions).runner = RUNNER"
   ]
  },
  {
   "cell_type": "markdown",
   "metadata": {},
   "source": [
    "<b>2d. Initialize the pipeline to generate labels. </b>"
   ]
  },
  {
   "cell_type": "code",
   "execution_count": 7,
   "metadata": {},
   "outputs": [
    {
     "name": "stderr",
     "output_type": "stream",
     "text": [
      "/usr/local/envs/py2env/lib/python2.7/site-packages/oauth2client/contrib/gce.py:99: UserWarning: You have requested explicit scopes to be used with a GCE service account.\n",
      "Using this argument will have no effect on the actual scopes for tokens\n",
      "requested. These scopes are set at VM instance creation time and\n",
      "can't be overridden in the request.\n",
      "\n",
      "  warnings.warn(_SCOPES_WARNING)\n"
     ]
    }
   ],
   "source": [
    "p = beam.Pipeline(options=options)\n",
    "\n",
    "bundles = p | 'read' >> beam.io.ReadFromTFRecord(\n",
    "    TF_RECORD_BUNDLES, coder=beam.coders.ProtoCoder(resources_pb2.Bundle))\n",
    "\n",
    "labels = bundles | 'BundleToLabel' >> beam.ParDo(\n",
    "    bundle_to_label.LengthOfStayRangeLabelAt24HoursFn(for_synthea=True))\n",
    "\n",
    "_ = labels | beam.io.WriteToTFRecord(\n",
    "    LABELS_PATH,\n",
    "    coder=beam.coders.ProtoCoder(google_extensions_pb2.EventLabel),\n",
    "    file_name_suffix='.tfrecords')"
   ]
  },
  {
   "cell_type": "markdown",
   "metadata": {},
   "source": [
    "<b>2e. Run the pipeline to generate labels. </b>"
   ]
  },
  {
   "cell_type": "code",
   "execution_count": 8,
   "metadata": {},
   "outputs": [
    {
     "name": "stderr",
     "output_type": "stream",
     "text": [
      "WARNING: Logging before flag parsing goes to stderr.\n",
      "I0306 22:16:00.068802 139695413741312 fn_api_runner.py:844] ==================== <function annotate_downstream_side_inputs at 0x7f0d11105668> ====================\n",
      "I0306 22:16:00.072772 139695413741312 fn_api_runner.py:844] ==================== <function fix_side_input_pcoll_coders at 0x7f0d11105938> ====================\n",
      "I0306 22:16:00.076608 139695413741312 fn_api_runner.py:844] ==================== <function lift_combiners at 0x7f0d111057d0> ====================\n",
      "I0306 22:16:00.079241 139695413741312 fn_api_runner.py:844] ==================== <function expand_gbk at 0x7f0d11105230> ====================\n",
      "I0306 22:16:00.081993 139695413741312 fn_api_runner.py:844] ==================== <function sink_flattens at 0x7f0d111052a8> ====================\n",
      "I0306 22:16:00.083734 139695413741312 fn_api_runner.py:844] ==================== <function greedily_fuse at 0x7f0d11105c08> ====================\n",
      "I0306 22:16:00.088247 139695413741312 fn_api_runner.py:844] ==================== <function sort_stages at 0x7f0d11105cf8> ====================\n",
      "I0306 22:16:00.090907 139695413741312 fn_api_runner.py:912] Running ((ref_AppliedPTransform_WriteToTFRecord/Write/WriteImpl/DoOnce/Read_9)+((ref_AppliedPTransform_WriteToTFRecord/Write/WriteImpl/InitializeWrite_10)+(ref_PCollection_PCollection_4/Write)))+(ref_PCollection_PCollection_3/Write)\n",
      "I0306 22:16:00.101476 139695413741312 bundle_processor.py:291] start <DataOutputOperation ref_PCollection_PCollection_3/Write >\n",
      "I0306 22:16:00.104068 139695413741312 bundle_processor.py:291] start <DataOutputOperation ref_PCollection_PCollection_4/Write >\n",
      "I0306 22:16:00.106225 139695413741312 bundle_processor.py:291] start <DoOperation WriteToTFRecord/Write/WriteImpl/InitializeWrite output_tags=['out']>\n",
      "I0306 22:16:00.111064 139695413741312 bundle_processor.py:291] start <ReadOperation WriteToTFRecord/Write/WriteImpl/DoOnce/Read source=SourceBundle(weight=1.0, source=<apache_beam.transforms.create_source._CreateSource object at 0x7f0d10b6d410>, start_position=None, stop_position=None)>\n",
      "I0306 22:16:00.114950 139695413741312 bundle_processor.py:303] finish <ReadOperation WriteToTFRecord/Write/WriteImpl/DoOnce/Read source=SourceBundle(weight=1.0, source=<apache_beam.transforms.create_source._CreateSource object at 0x7f0d10b6d410>, start_position=None, stop_position=None), receivers=[ConsumerSet[WriteToTFRecord/Write/WriteImpl/DoOnce/Read.out0, coder=WindowedValueCoder[FastPrimitivesCoder], len(consumers)=2]]>\n",
      "I0306 22:16:00.117803 139695413741312 bundle_processor.py:303] finish <DoOperation WriteToTFRecord/Write/WriteImpl/InitializeWrite output_tags=['out'], receivers=[ConsumerSet[WriteToTFRecord/Write/WriteImpl/InitializeWrite.out0, coder=WindowedValueCoder[LengthPrefixCoder[FastPrimitivesCoder]], len(consumers)=1]]>\n",
      "I0306 22:16:00.120161 139695413741312 bundle_processor.py:303] finish <DataOutputOperation ref_PCollection_PCollection_4/Write >\n",
      "I0306 22:16:00.122569 139695413741312 bundle_processor.py:303] finish <DataOutputOperation ref_PCollection_PCollection_3/Write >\n",
      "I0306 22:16:00.129739 139695413741312 fn_api_runner.py:912] Running (ref_AppliedPTransform_read/Read_3)+((ref_AppliedPTransform_BundleToLabel_4)+((ref_AppliedPTransform_WriteToTFRecord/Write/WriteImpl/WriteBundles_11)+((ref_AppliedPTransform_WriteToTFRecord/Write/WriteImpl/Pair_12)+((ref_AppliedPTransform_WriteToTFRecord/Write/WriteImpl/WindowInto(WindowIntoFn)_13)+(WriteToTFRecord/Write/WriteImpl/GroupByKey/Write)))))\n",
      "I0306 22:16:00.152961 139695413741312 bundle_processor.py:291] start <DataOutputOperation WriteToTFRecord/Write/WriteImpl/GroupByKey/Write >\n",
      "I0306 22:16:00.155034 139695413741312 bundle_processor.py:291] start <DoOperation WriteToTFRecord/Write/WriteImpl/WindowInto(WindowIntoFn) output_tags=['out']>\n",
      "I0306 22:16:00.158871 139695413741312 bundle_processor.py:291] start <DoOperation WriteToTFRecord/Write/WriteImpl/Pair output_tags=['out']>\n",
      "I0306 22:16:00.162209 139695413741312 bundle_processor.py:291] start <DoOperation WriteToTFRecord/Write/WriteImpl/WriteBundles output_tags=['out']>\n",
      "I0306 22:16:00.168163 139695413741312 bundle_processor.py:291] start <DoOperation BundleToLabel output_tags=['out']>\n",
      "I0306 22:16:00.171943 139695413741312 bundle_processor.py:291] start <ReadOperation read/Read source=SourceBundle(weight=1.0, source=<apache_beam.io.tfrecordio._TFRecordSource object at 0x7f0d10b21990>, start_position=None, stop_position=None)>\n",
      "I0306 22:16:00.177488 139695413741312 gcsio.py:446] Starting the size estimation of the input\n",
      "I0306 22:16:00.179936 139695413741312 client.py:614] Attempting refresh to obtain initial access_token\n",
      "I0306 22:16:00.339410 139695413741312 gcsio.py:460] Finished listing 9 files in 0.161906003952 seconds.\n",
      "I0306 22:16:00.350496 139695413741312 client.py:614] Attempting refresh to obtain initial access_token\n",
      "W0306 22:16:01.435585 139695413741312 tfrecordio.py:49] Couldn't find python-snappy so the implementation of _TFRecordUtil._masked_crc32c is not as fast as it could be.\n",
      "I0306 22:16:01.593571 139693995845376 client.py:614] Attempting refresh to obtain initial access_token\n",
      "I0306 22:16:05.254075 139695413741312 client.py:614] Attempting refresh to obtain initial access_token\n",
      "I0306 22:16:09.790692 139695413741312 client.py:614] Attempting refresh to obtain initial access_token\n",
      "I0306 22:16:12.615080 139695413741312 client.py:614] Attempting refresh to obtain initial access_token\n",
      "I0306 22:16:14.842395 139695413741312 client.py:614] Attempting refresh to obtain initial access_token\n",
      "I0306 22:16:16.964536 139695413741312 client.py:614] Attempting refresh to obtain initial access_token\n",
      "I0306 22:16:19.133404 139695413741312 client.py:614] Attempting refresh to obtain initial access_token\n",
      "I0306 22:16:22.239597 139695413741312 client.py:614] Attempting refresh to obtain initial access_token\n",
      "I0306 22:16:25.487993 139695413741312 client.py:614] Attempting refresh to obtain initial access_token\n",
      "I0306 22:16:28.246145 139695413741312 bundle_processor.py:303] finish <ReadOperation read/Read source=SourceBundle(weight=1.0, source=<apache_beam.io.tfrecordio._TFRecordSource object at 0x7f0d10b21990>, start_position=None, stop_position=None), receivers=[ConsumerSet[read/Read.out0, coder=WindowedValueCoder[FastPrimitivesCoder], len(consumers)=1]]>\n",
      "I0306 22:16:28.253010 139695413741312 bundle_processor.py:303] finish <DoOperation BundleToLabel output_tags=['out'], receivers=[ConsumerSet[BundleToLabel.out0, coder=WindowedValueCoder[ProtoCoder], len(consumers)=1]]>\n",
      "I0306 22:16:28.255173 139695413741312 bundle_processor.py:303] finish <DoOperation WriteToTFRecord/Write/WriteImpl/WriteBundles output_tags=['out'], receivers=[ConsumerSet[WriteToTFRecord/Write/WriteImpl/WriteBundles.out0, coder=WindowedValueCoder[FastPrimitivesCoder], len(consumers)=1]]>\n",
      "I0306 22:16:28.785201 139695413741312 bundle_processor.py:303] finish <DoOperation WriteToTFRecord/Write/WriteImpl/Pair output_tags=['out'], receivers=[ConsumerSet[WriteToTFRecord/Write/WriteImpl/Pair.out0, coder=WindowedValueCoder[TupleCoder[FastPrimitivesCoder, FastPrimitivesCoder]], len(consumers)=1]]>\n",
      "I0306 22:16:28.788445 139695413741312 bundle_processor.py:303] finish <DoOperation WriteToTFRecord/Write/WriteImpl/WindowInto(WindowIntoFn) output_tags=['out'], receivers=[ConsumerSet[WriteToTFRecord/Write/WriteImpl/WindowInto(WindowIntoFn).out0, coder=WindowedValueCoder[TupleCoder[LengthPrefixCoder[FastPrimitivesCoder], LengthPrefixCoder[FastPrimitivesCoder]]], len(consumers)=1]]>\n",
      "I0306 22:16:28.790401 139695413741312 bundle_processor.py:303] finish <DataOutputOperation WriteToTFRecord/Write/WriteImpl/GroupByKey/Write >\n",
      "I0306 22:16:28.914258 139695413741312 fn_api_runner.py:912] Running (WriteToTFRecord/Write/WriteImpl/GroupByKey/Read)+((ref_AppliedPTransform_WriteToTFRecord/Write/WriteImpl/Extract_18)+(ref_PCollection_PCollection_11/Write))\n",
      "I0306 22:16:28.922725 139695413741312 bundle_processor.py:291] start <DataOutputOperation ref_PCollection_PCollection_11/Write >\n",
      "I0306 22:16:28.925384 139695413741312 bundle_processor.py:291] start <DoOperation WriteToTFRecord/Write/WriteImpl/Extract output_tags=['out']>\n",
      "I0306 22:16:28.928884 139695413741312 bundle_processor.py:291] start <DataInputOperation WriteToTFRecord/Write/WriteImpl/GroupByKey/Read receivers=[ConsumerSet[WriteToTFRecord/Write/WriteImpl/GroupByKey/Read.out0, coder=WindowedValueCoder[TupleCoder[LengthPrefixCoder[FastPrimitivesCoder], IterableCoder[LengthPrefixCoder[FastPrimitivesCoder]]]], len(consumers)=1]]>\n"
     ]
    },
    {
     "name": "stderr",
     "output_type": "stream",
     "text": [
      "I0306 22:16:28.931315 139695413741312 bundle_processor.py:303] finish <DataInputOperation WriteToTFRecord/Write/WriteImpl/GroupByKey/Read receivers=[ConsumerSet[WriteToTFRecord/Write/WriteImpl/GroupByKey/Read.out0, coder=WindowedValueCoder[TupleCoder[LengthPrefixCoder[FastPrimitivesCoder], IterableCoder[LengthPrefixCoder[FastPrimitivesCoder]]]], len(consumers)=1]]>\n",
      "I0306 22:16:28.933068 139695413741312 bundle_processor.py:303] finish <DoOperation WriteToTFRecord/Write/WriteImpl/Extract output_tags=['out'], receivers=[ConsumerSet[WriteToTFRecord/Write/WriteImpl/Extract.out0, coder=WindowedValueCoder[LengthPrefixCoder[FastPrimitivesCoder]], len(consumers)=1]]>\n",
      "I0306 22:16:28.934916 139695413741312 bundle_processor.py:303] finish <DataOutputOperation ref_PCollection_PCollection_11/Write >\n",
      "I0306 22:16:28.939438 139695413741312 fn_api_runner.py:912] Running ((ref_PCollection_PCollection_3/Read)+(ref_AppliedPTransform_WriteToTFRecord/Write/WriteImpl/PreFinalize_19))+(ref_PCollection_PCollection_12/Write)\n",
      "I0306 22:16:28.947678 139695413741312 bundle_processor.py:291] start <DataOutputOperation ref_PCollection_PCollection_12/Write >\n",
      "I0306 22:16:28.949640 139695413741312 bundle_processor.py:291] start <DoOperation WriteToTFRecord/Write/WriteImpl/PreFinalize output_tags=['out']>\n",
      "I0306 22:16:28.953151 139695413741312 bundle_processor.py:291] start <DataInputOperation ref_PCollection_PCollection_3/Read receivers=[ConsumerSet[ref_PCollection_PCollection_3/Read.out0, coder=WindowedValueCoder[FastPrimitivesCoder], len(consumers)=1]]>\n",
      "I0306 22:16:28.958028 139695413741312 gcsio.py:446] Starting the size estimation of the input\n",
      "I0306 22:16:28.960180 139695413741312 client.py:614] Attempting refresh to obtain initial access_token\n",
      "I0306 22:16:29.062736 139695413741312 gcsio.py:460] Finished listing 0 files in 0.104684114456 seconds.\n",
      "I0306 22:16:29.065293 139695413741312 bundle_processor.py:303] finish <DataInputOperation ref_PCollection_PCollection_3/Read receivers=[ConsumerSet[ref_PCollection_PCollection_3/Read.out0, coder=WindowedValueCoder[FastPrimitivesCoder], len(consumers)=1]]>\n",
      "I0306 22:16:29.067034 139695413741312 bundle_processor.py:303] finish <DoOperation WriteToTFRecord/Write/WriteImpl/PreFinalize output_tags=['out'], receivers=[ConsumerSet[WriteToTFRecord/Write/WriteImpl/PreFinalize.out0, coder=WindowedValueCoder[LengthPrefixCoder[FastPrimitivesCoder]], len(consumers)=1]]>\n",
      "I0306 22:16:29.069859 139695413741312 bundle_processor.py:303] finish <DataOutputOperation ref_PCollection_PCollection_12/Write >\n",
      "I0306 22:16:29.095277 139695413741312 fn_api_runner.py:912] Running (ref_PCollection_PCollection_3/Read)+(ref_AppliedPTransform_WriteToTFRecord/Write/WriteImpl/FinalizeWrite_20)\n",
      "I0306 22:16:29.105916 139695413741312 bundle_processor.py:291] start <DoOperation WriteToTFRecord/Write/WriteImpl/FinalizeWrite output_tags=['out']>\n",
      "I0306 22:16:29.109641 139695413741312 bundle_processor.py:291] start <DataInputOperation ref_PCollection_PCollection_3/Read receivers=[ConsumerSet[ref_PCollection_PCollection_3/Read.out0, coder=WindowedValueCoder[FastPrimitivesCoder], len(consumers)=1]]>\n",
      "I0306 22:16:29.114589 139695413741312 gcsio.py:446] Starting the size estimation of the input\n",
      "I0306 22:16:29.117295 139695413741312 client.py:614] Attempting refresh to obtain initial access_token\n",
      "I0306 22:16:29.214764 139695413741312 gcsio.py:460] Finished listing 1 files in 0.100170850754 seconds.\n",
      "I0306 22:16:29.223794 139695413741312 gcsio.py:446] Starting the size estimation of the input\n",
      "I0306 22:16:29.226017 139695413741312 client.py:614] Attempting refresh to obtain initial access_token\n",
      "I0306 22:16:29.331182 139695413741312 gcsio.py:460] Finished listing 0 files in 0.107410907745 seconds.\n",
      "I0306 22:16:29.334122 139695413741312 filebasedsink.py:290] Starting finalize_write threads with num_shards: 1 (skipped: 0), batches: 1, num_threads: 1\n",
      "I0306 22:16:29.343430 139693995845376 client.py:614] Attempting refresh to obtain initial access_token\n",
      "I0306 22:16:29.654763 139693995845376 client.py:614] Attempting refresh to obtain initial access_token\n",
      "I0306 22:16:29.954387 139695413741312 filebasedsink.py:327] Renamed 1 shards in 0.62 seconds.\n",
      "I0306 22:16:29.962476 139695413741312 client.py:614] Attempting refresh to obtain initial access_token\n",
      "I0306 22:16:30.084161 139695413741312 bundle_processor.py:303] finish <DataInputOperation ref_PCollection_PCollection_3/Read receivers=[ConsumerSet[ref_PCollection_PCollection_3/Read.out0, coder=WindowedValueCoder[FastPrimitivesCoder], len(consumers)=1]]>\n",
      "I0306 22:16:30.086532 139695413741312 bundle_processor.py:303] finish <DoOperation WriteToTFRecord/Write/WriteImpl/FinalizeWrite output_tags=['out'], receivers=[ConsumerSet[WriteToTFRecord/Write/WriteImpl/FinalizeWrite.out0, coder=WindowedValueCoder[FastPrimitivesCoder], len(consumers)=0]]>\n"
     ]
    },
    {
     "name": "stdout",
     "output_type": "stream",
     "text": [
      "30.2971529961\n"
     ]
    }
   ],
   "source": [
    "logger.setLevel(logging.INFO)\n",
    "start = time.time()\n",
    "p.run().wait_until_finish()\n",
    "end = time.time()\n",
    "print(end-start)"
   ]
  },
  {
   "cell_type": "markdown",
   "metadata": {},
   "source": [
    "<b>2f. Let's examine the location in GCS where the generated labels have been stored. </b>"
   ]
  },
  {
   "cell_type": "code",
   "execution_count": 10,
   "metadata": {},
   "outputs": [
    {
     "name": "stdout",
     "output_type": "stream",
     "text": [
      "     92641  2019-03-06T22:16:29Z  gs://cluster19-bkt/synthea/train/label-00000-of-00001.tfrecords\n",
      "TOTAL: 1 objects, 92641 bytes (90.47 KiB)\n"
     ]
    }
   ],
   "source": [
    "%bash\n",
    "gsutil ls -l ${LABELS_IN_GCS}"
   ]
  },
  {
   "cell_type": "markdown",
   "metadata": {},
   "source": [
    "<h2> 3. Generate TFSequenceExamples</h2>\n",
    "<ul><b>\n",
    "    <li>The next few cell generates Tensorflow sequence examples and save examples to Google Cloud Storage (GCS) for later use.</li>\n",
    "    <li>Bundles in TFRecord format have already been generated from Synthetic FHIR data.</li>\n",
    "    <li>Bundles will be used as inputs and are stored in GCS</li>\n",
    "    <li>Generated sequence examples will also be stored in GCS</li></b>\n",
    "</ul>"
   ]
  },
  {
   "cell_type": "markdown",
   "metadata": {},
   "source": [
    "<b>3a. Delete Sequence Examples generated from previous runs and regenerate. </b>"
   ]
  },
  {
   "cell_type": "code",
   "execution_count": 11,
   "metadata": {},
   "outputs": [
    {
     "name": "stderr",
     "output_type": "stream",
     "text": [
      "Removing gs://cluster19-bkt/synthea/train/seqex-00000-of-00003.tfrecords...\n",
      "/ [1 objects]                                                                   \r",
      "Removing gs://cluster19-bkt/synthea/train/seqex-00001-of-00003.tfrecords...\n",
      "/ [2 objects]                                                                   \r",
      "Removing gs://cluster19-bkt/synthea/train/seqex-00002-of-00003.tfrecords...\n",
      "/ [3 objects]                                                                   \r\n",
      "Operation completed over 3 objects.                                              \n"
     ]
    }
   ],
   "source": [
    "%bash\n",
    "gsutil rm ${SEQEX_IN_GCS}"
   ]
  },
  {
   "cell_type": "markdown",
   "metadata": {},
   "source": [
    "<b>3b. Initialize the pipeline to generate Sequence Examples. </b>"
   ]
  },
  {
   "cell_type": "code",
   "execution_count": 12,
   "metadata": {},
   "outputs": [
    {
     "name": "stderr",
     "output_type": "stream",
     "text": [
      "I0306 22:16:59.596043 139695413741312 gcsio.py:446] Starting the size estimation of the input\n",
      "I0306 22:16:59.600212 139695413741312 client.py:614] Attempting refresh to obtain initial access_token\n",
      "I0306 22:16:59.764015 139695413741312 gcsio.py:460] Finished listing 9 files in 0.167971134186 seconds.\n",
      "I0306 22:16:59.778098 139695413741312 client.py:614] Attempting refresh to obtain initial access_token\n",
      "I0306 22:16:59.977226 139695413741312 client.py:614] Attempting refresh to obtain initial access_token\n"
     ]
    }
   ],
   "source": [
    "google_cloud_options.job_name = SEQEX_JOB\n",
    "p1 = beam.Pipeline(options=options)\n",
    "\n",
    "def _get_version_config(version_config_path):\n",
    "  with open(version_config_path) as f:\n",
    "    return text_format.Parse(f.read(), version_config_pb2.VersionConfig())\n",
    "\n",
    "version_config = _get_version_config(\"/usr/local/fhir/proto/stu3/version_config.textproto\")\n",
    "\n",
    "keyed_bundles = ( \n",
    "    p1 \n",
    "    | 'readBundles' >> beam.io.ReadFromTFRecord(\n",
    "        TF_RECORD_BUNDLES, coder=beam.coders.ProtoCoder(resources_pb2.Bundle))\n",
    "    | 'KeyBundlesByPatientId' >> beam.ParDo(\n",
    "        bundle_to_seqex.KeyBundleByPatientIdFn()))\n",
    "\n",
    "event_labels = ( \n",
    "    p1 | 'readEventLabels' >> beam.io.ReadFromTFRecord(\n",
    "        TF_RECORD_LABELS,\n",
    "        coder=beam.coders.ProtoCoder(google_extensions_pb2.EventLabel)))\n",
    "\n",
    "keyed_event_labels = bundle_to_seqex.CreateTriggerLabelsPairLists(\n",
    "    event_labels)\n",
    "\n",
    "bundles_and_labels = bundle_to_seqex.CreateBundleAndLabels(\n",
    "    keyed_bundles, keyed_event_labels)\n",
    "_ = ( \n",
    "    bundles_and_labels\n",
    "    | 'GenerateSeqex' >> beam.ParDo(\n",
    "        bundle_to_seqex.BundleAndLabelsToSeqexDoFn(\n",
    "            version_config=version_config,\n",
    "            enable_attribution=False,\n",
    "            generate_sequence_label=False))\n",
    "    | 'WriteSeqex' >> beam.io.WriteToTFRecord(\n",
    "        SEQEX_PATH,\n",
    "        coder=beam.coders.ProtoCoder(example_pb2.SequenceExample),\n",
    "        file_name_suffix='.tfrecords',\n",
    "        num_shards=3))"
   ]
  },
  {
   "cell_type": "markdown",
   "metadata": {},
   "source": [
    "<b>3c. Now let's run the pipeline to generate Sequence Examples. Depending on the size of the dataset, this step may take more than 5 minuites to run so have patience!!! </b> <br />\n",
    "We are creating three shards of sequence examples. One for <b>training</b>, second one for <b>evaluation,</b> and third one for <b>inference.</b>"
   ]
  },
  {
   "cell_type": "code",
   "execution_count": 13,
   "metadata": {},
   "outputs": [
    {
     "name": "stdout",
     "output_type": "stream",
     "text": [
      "226.426615\n"
     ]
    }
   ],
   "source": [
    "logger.setLevel(logging.CRITICAL)\n",
    "start = time.time()\n",
    "p1.run().wait_until_finish()\n",
    "end = time.time()\n",
    "print(end-start)"
   ]
  },
  {
   "cell_type": "markdown",
   "metadata": {},
   "source": [
    "<b> 3d. Let's examine the location in GCS where the generated Sequence Examples have been stored. Copy the third set of sequence examples to a serving area in GCS.  </b>"
   ]
  },
  {
   "cell_type": "code",
   "execution_count": 14,
   "metadata": {},
   "outputs": [
    {
     "name": "stdout",
     "output_type": "stream",
     "text": [
      "  45853651  2019-03-06T22:20:48Z  gs://cluster19-bkt/synthea/train/seqex-00000-of-00003.tfrecords\n",
      "  45438501  2019-03-06T22:20:48Z  gs://cluster19-bkt/synthea/train/seqex-00001-of-00003.tfrecords\n",
      "  45296041  2019-03-06T22:20:48Z  gs://cluster19-bkt/synthea/train/seqex-00002-of-00003.tfrecords\n",
      "TOTAL: 3 objects, 136588193 bytes (130.26 MiB)\n"
     ]
    },
    {
     "name": "stderr",
     "output_type": "stream",
     "text": [
      "Copying gs://cluster19-bkt/synthea/train/seqex-00002-of-00003.tfrecords [Content-Type=application/octet-stream]...\n",
      "/ [0 files][    0.0 B/ 43.2 MiB]                                                \r",
      "/ [1 files][ 43.2 MiB/ 43.2 MiB]                                                \r\n",
      "Operation completed over 1 objects/43.2 MiB.                                     \n"
     ]
    }
   ],
   "source": [
    "%bash\n",
    "gsutil ls -l ${SEQEX_IN_GCS}\n",
    "gsutil cp ${SERV_DS} ${SERV_LOC}"
   ]
  },
  {
   "cell_type": "markdown",
   "metadata": {},
   "source": [
    "<h2> 4. Train and Evaluate ML Model</h2>\n",
    "<ul>\n",
    "    <li>The next few cell demonstrate the process to train a ML Model using the training data set created in Step 3</li>\n",
    "    <li>Training requires sequence examples in TFRecord format</li>\n",
    "    <li>Trained ML model will be stored in Google Cloud Storage </li>\n",
    "    <li>Model will be evaluated and the evaluation output will be printed</li>\n",
    "</ul>"
   ]
  },
  {
   "cell_type": "markdown",
   "metadata": {},
   "source": [
    "<b>4a. Delete previously trained model and retrain it with the new dataset. </b>"
   ]
  },
  {
   "cell_type": "code",
   "execution_count": 15,
   "metadata": {},
   "outputs": [
    {
     "name": "stderr",
     "output_type": "stream",
     "text": [
      "Removing gs://cluster19-bkt/synthea/model/#1551735301753782...\n",
      "Removing gs://cluster19-bkt/synthea/model/checkpoint#1551735304980143...\n",
      "Removing gs://cluster19-bkt/synthea/model/events.out.tfevents.1551735264.cluster19-m#1551735328485151...\n",
      "Removing gs://cluster19-bkt/synthea/model/graph.pbtxt#1551735273356477...\n",
      "Removing gs://cluster19-bkt/synthea/model/model.ckpt-0.data-00000-of-00002#1551735279142064...\n",
      "Removing gs://cluster19-bkt/synthea/model/model.ckpt-0.data-00001-of-00002#1551735278653956...\n",
      "Removing gs://cluster19-bkt/synthea/model/model.ckpt-0.index#1551735279569651...\n",
      "Removing gs://cluster19-bkt/synthea/model/model.ckpt-0.meta#1551735283073927...\n",
      "Removing gs://cluster19-bkt/synthea/model/model.ckpt-300.data-00000-of-00002#1551735303096410...\n",
      "Removing gs://cluster19-bkt/synthea/model/model.ckpt-300.data-00001-of-00002#1551735302571612...\n",
      "Removing gs://cluster19-bkt/synthea/model/model.ckpt-300.index#1551735303571176...\n",
      "Removing gs://cluster19-bkt/synthea/model/model.ckpt-300.meta#1551735306782443...\n",
      "Removing gs://cluster19-bkt/synthea/model/eval/#1551735325379816...\n",
      "Removing gs://cluster19-bkt/synthea/model/eval/events.out.tfevents.1551735326.cluster19-m#1551735328024774...\n",
      "/ [1/14 objects]   7% Done                                                      \r",
      "/ [2/14 objects]  14% Done                                                      \r",
      "/ [3/14 objects]  21% Done                                                      \r",
      "/ [4/14 objects]  28% Done                                                      \r",
      "/ [5/14 objects]  35% Done                                                      \r",
      "/ [6/14 objects]  42% Done                                                      \r",
      "/ [7/14 objects]  50% Done                                                      \r",
      "/ [8/14 objects]  57% Done                                                      \r",
      "/ [9/14 objects]  64% Done                                                      \r",
      "/ [10/14 objects]  71% Done                                                     \r",
      "/ [11/14 objects]  78% Done                                                     \r",
      "/ [12/14 objects]  85% Done                                                     \r",
      "/ [13/14 objects]  92% Done                                                     \r",
      "/ [14/14 objects] 100% Done                                                     \r\n",
      "Operation completed over 14 objects.                                             \n"
     ]
    }
   ],
   "source": [
    "%bash\n",
    "gsutil -m rm -r ${MODEL_IN_GCS}"
   ]
  },
  {
   "cell_type": "markdown",
   "metadata": {},
   "source": [
    "<b> 4b. Import Tensorflow model and prepare it for training and validation"
   ]
  },
  {
   "cell_type": "code",
   "execution_count": 16,
   "metadata": {},
   "outputs": [],
   "source": [
    "import tensorflow as tf\n",
    "from py.google.fhir.models import model\n",
    "from py.google.fhir.models.model import create_hparams\n",
    "from py.google.fhir.models.model import get_input_fn\n",
    "from py.google.fhir.models.model import make_estimator\n",
    "\n",
    "tf.reset_default_graph()\n",
    "hparams = model.create_hparams()\n",
    "\n",
    "time_crossed_features = [\n",
    "        cross.split(':') for cross in hparams.time_crossed_features if cross\n",
    "    ]\n",
    "\n",
    "train_input_fn = get_input_fn(tf.estimator.ModeKeys.TRAIN, TRAINING_DATASET, 'label.length_of_stay_range.class',\n",
    "                              True, hparams.time_windows, hparams.include_age, hparams.categorical_context_features,\n",
    "                              hparams.sequence_features, time_crossed_features, batch_size=24)\n",
    "validation_input_fn = get_input_fn(tf.estimator.ModeKeys.EVAL, VALIDATION_DATASET, 'label.length_of_stay_range.class',\n",
    "                                   True, hparams.time_windows, hparams.include_age, hparams.categorical_context_features,\n",
    "                                   hparams.sequence_features, time_crossed_features, batch_size=24)"
   ]
  },
  {
   "cell_type": "markdown",
   "metadata": {},
   "source": [
    "<b> 4c. Check that we can read data.</b>"
   ]
  },
  {
   "cell_type": "code",
   "execution_count": 17,
   "metadata": {},
   "outputs": [
    {
     "name": "stdout",
     "output_type": "stream",
     "text": [
      "WARNING:tensorflow:From /usr/local/fhir/py/google/fhir/models/model.py:410: parallel_interleave (from tensorflow.contrib.data.python.ops.interleave_ops) is deprecated and will be removed in a future version.\n",
      "Instructions for updating:\n",
      "Use `tf.data.experimental.parallel_interleave(...)`.\n"
     ]
    },
    {
     "name": "stderr",
     "output_type": "stream",
     "text": [
      "W0306 22:24:11.604448 139695413741312 tf_logging.py:125] From /usr/local/fhir/py/google/fhir/models/model.py:410: parallel_interleave (from tensorflow.contrib.data.python.ops.interleave_ops) is deprecated and will be removed in a future version.\n",
      "Instructions for updating:\n",
      "Use `tf.data.experimental.parallel_interleave(...)`.\n"
     ]
    },
    {
     "name": "stdout",
     "output_type": "stream",
     "text": [
      "INFO:tensorflow:Graph was finalized.\n"
     ]
    },
    {
     "name": "stderr",
     "output_type": "stream",
     "text": [
      "I0306 22:24:15.063673 139695413741312 tf_logging.py:115] Graph was finalized.\n"
     ]
    },
    {
     "name": "stdout",
     "output_type": "stream",
     "text": [
      "INFO:tensorflow:Running local_init_op.\n"
     ]
    },
    {
     "name": "stderr",
     "output_type": "stream",
     "text": [
      "I0306 22:24:15.674421 139695413741312 tf_logging.py:115] Running local_init_op.\n"
     ]
    },
    {
     "name": "stdout",
     "output_type": "stream",
     "text": [
      "INFO:tensorflow:Done running local_init_op.\n"
     ]
    },
    {
     "name": "stderr",
     "output_type": "stream",
     "text": [
      "I0306 22:24:15.743711 139695413741312 tf_logging.py:115] Done running local_init_op.\n"
     ]
    },
    {
     "name": "stdout",
     "output_type": "stream",
     "text": [
      "{'s-Observation.code_Observation.value.quantity.value_Observation.value.quantity.unit_Observation.value.string-til-0': SparseTensorValue(indices=array([[21,  0],\n",
      "       [21,  1],\n",
      "       [21,  2],\n",
      "       [21,  3],\n",
      "       [21,  4],\n",
      "       [21,  5],\n",
      "       [21,  6],\n",
      "       [21,  7],\n",
      "       [21,  8],\n",
      "       [21,  9],\n",
      "       [21, 10],\n",
      "       [21, 11],\n",
      "       [21, 12],\n",
      "       [21, 13],\n",
      "       [21, 14],\n",
      "       [21, 15],\n",
      "       [21, 16],\n",
      "       [21, 17],\n",
      "       [21, 18],\n",
      "       [21, 19],\n",
      "       [21, 20],\n",
      "       [21, 21],\n",
      "       [21, 22],\n",
      "       [21, 23],\n",
      "       [21, 24],\n",
      "       [21, 25],\n",
      "       [21, 26],\n",
      "       [21, 27],\n",
      "       [21, 28],\n",
      "       [21, 29],\n",
      "       [21, 30],\n",
      "       [21, 31],\n",
      "       [21, 32],\n",
      "       [21, 33],\n",
      "       [21, 34],\n",
      "       [21, 35],\n",
      "       [21, 36],\n",
      "       [21, 37],\n",
      "       [21, 38],\n",
      "       [21, 39],\n",
      "       [21, 40],\n",
      "       [21, 41],\n",
      "       [21, 42],\n",
      "       [21, 43]]), values=array(['loinc:20454-5-n/a-n/a-n/a', 'loinc:5767-9-n/a-n/a-n/a',\n",
      "       'loinc:32623-1-9.786781-fL-n/a', 'loinc:5792-7-1.901532-mg/dL-n/a',\n",
      "       'loinc:785-6-30.014587-pg-n/a', 'loinc:1751-7-3.818940-g/dL-n/a',\n",
      "       'loinc:787-2-87.550133-fL-n/a', 'loinc:2514-8-n/a-n/a-n/a',\n",
      "       'loinc:2885-2-73.429688-g/dL-n/a',\n",
      "       'loinc:1920-8-39.439125-U/L-n/a',\n",
      "       'loinc:72514-3-6.644502-{score}-n/a',\n",
      "       'loinc:49765-1-9.162314-mg/dL-n/a', 'loinc:25428-4-n/a-n/a-n/a',\n",
      "       'loinc:789-8-4.724324-10*6/uL-n/a',\n",
      "       'loinc:6690-2-4.596955-10*3/uL-n/a', 'loinc:5770-3-n/a-n/a-n/a',\n",
      "       'loinc:5794-3-n/a-n/a-n/a', 'loinc:32207-3-231.245682-fL-n/a',\n",
      "       'loinc:38483-4-3.230074-mg/dL-n/a',\n",
      "       'loinc:21000-5-39.971455-fL-n/a',\n",
      "       'loinc:33914-3-25.703259-mL/min-n/a',\n",
      "       'loinc:777-3-433.073120-10*3/uL-n/a',\n",
      "       'loinc:6298-4-4.933797-mmol/L-n/a', 'loinc:5799-2-n/a-n/a-n/a',\n",
      "       'loinc:6299-2-19.991333-mg/dL-n/a', 'loinc:32167-9-n/a-n/a-n/a',\n",
      "       'loinc:10834-0-3.308022-g/L-n/a', 'loinc:5803-2-6.865330-pH-n/a',\n",
      "       'loinc:2339-0-82.653084-mg/dL-n/a',\n",
      "       'loinc:6768-6-126.244713-U/L-n/a',\n",
      "       'loinc:20565-8-26.290789-mmol/L-n/a', 'loinc:5802-4-n/a-n/a-n/a',\n",
      "       'loinc:1742-6-29.270325-U/L-n/a',\n",
      "       'loinc:2069-3-110.974709-mmol/L-n/a',\n",
      "       'loinc:4544-3-43.447456-%-n/a', 'loinc:786-4-35.761269-g/dL-n/a',\n",
      "       'loinc:718-7-16.517035-g/dL-n/a', 'loinc:5778-6-n/a-n/a-n/a',\n",
      "       'loinc:5811-5-1.036806-{nominal}-n/a',\n",
      "       'loinc:2947-0-142.597183-mmol/L-n/a',\n",
      "       'loinc:5804-0-431.876068-mg/dL-n/a',\n",
      "       'loinc:5797-6-1.214498-mg/dL-n/a',\n",
      "       'loinc:1975-2-0.340380-mg/dL-n/a',\n",
      "       'loinc:20505-4-1.167282-mg/dL-n/a'], dtype=object), dense_shape=array([24, 44])), 's-Composition.section.text.div.tokenized-til-2592000': SparseTensorValue(indices=array([], shape=(0, 2), dtype=int64), values=array([], dtype=object), dense_shape=array([24,  0])), 's-Observation.code_Observation.value.quantity.value_Observation.value.quantity.unit_Observation.value.string-til-86400': SparseTensorValue(indices=array([], shape=(0, 2), dtype=int64), values=array([], dtype=object), dense_shape=array([24,  0])), 's-Composition.section.text.div.tokenized-til-0': SparseTensorValue(indices=array([], shape=(0, 2), dtype=int64), values=array([], dtype=object), dense_shape=array([24,  0])), 's-Condition.code-til-604800': SparseTensorValue(indices=array([[22,  0]]), values=array(['snomed:162573006'], dtype=object), dense_shape=array([24,  1])), 's-Encounter.reason.hcc-til-2592000': SparseTensorValue(indices=array([], shape=(0, 2), dtype=int64), values=array([], dtype=object), dense_shape=array([24,  0])), 's-Observation.code_Observation.value.quantity.value_Observation.value.quantity.unit_Observation.value.string-til-2592000': SparseTensorValue(indices=array([[ 0,  0],\n",
      "       [ 0,  1],\n",
      "       [ 0,  2],\n",
      "       ...,\n",
      "       [23, 16],\n",
      "       [23, 17],\n",
      "       [23, 18]]), values=array(['loinc:55284-4-n/a-n/a-n/a', 'loinc:2339-0-67.231720-mg/dL-n/a',\n",
      "       'loinc:8302-2-177.372604-cm-n/a',\n",
      "       'loinc:6298-4-3.827302-mmol/L-n/a',\n",
      "       'loinc:39156-5-27.208708-kg/m2-n/a',\n",
      "       'loinc:49765-1-9.710912-mg/dL-n/a',\n",
      "       'loinc:29463-7-85.601418-kg-n/a',\n",
      "       'loinc:38483-4-0.844125-mg/dL-n/a',\n",
      "       'loinc:72514-3-0.945241-{score}-n/a',\n",
      "       'loinc:2069-3-106.836555-mmol/L-n/a',\n",
      "       'loinc:6299-2-16.334038-mg/dL-n/a', 'loinc:4548-4-6.196915-%-n/a',\n",
      "       'loinc:20565-8-23.443457-mmol/L-n/a', 'loinc:72166-2-n/a-n/a-n/a',\n",
      "       'loinc:2947-0-139.417862-mmol/L-n/a',\n",
      "       'loinc:8302-2-184.123550-cm-n/a', 'loinc:72166-2-n/a-n/a-n/a',\n",
      "       'loinc:72514-3-1.084111-{score}-n/a',\n",
      "       'loinc:39156-5-25.075924-kg/m2-n/a', 'loinc:55284-4-n/a-n/a-n/a',\n",
      "       'loinc:29463-7-85.011101-kg-n/a',\n",
      "       'loinc:1975-2-0.319174-mg/dL-n/a',\n",
      "       'loinc:2339-0-92.224411-mg/dL-n/a',\n",
      "       'loinc:10834-0-2.958379-g/L-n/a',\n",
      "       'loinc:2885-2-69.217247-g/dL-n/a',\n",
      "       'loinc:49765-1-8.985329-mg/dL-n/a',\n",
      "       'loinc:1920-8-14.307483-U/L-n/a',\n",
      "       'loinc:20565-8-21.176121-mmol/L-n/a',\n",
      "       'loinc:18262-6-109.002563-mg/dL-n/a',\n",
      "       'loinc:1751-7-4.785331-g/dL-n/a',\n",
      "       'loinc:6298-4-4.800958-mmol/L-n/a',\n",
      "       'loinc:2085-9-44.811802-mg/dL-n/a',\n",
      "       'loinc:33914-3-68.352974-mL/min-n/a',\n",
      "       'loinc:1742-6-54.370499-U/L-n/a',\n",
      "       'loinc:2093-3-180.380661-mg/dL-n/a',\n",
      "       'loinc:2571-8-189.933121-mg/dL-n/a',\n",
      "       'loinc:38483-4-3.195375-mg/dL-n/a',\n",
      "       'loinc:2947-0-137.879547-mmol/L-n/a',\n",
      "       'loinc:6299-2-18.455473-mg/dL-n/a',\n",
      "       'loinc:2069-3-107.000671-mmol/L-n/a',\n",
      "       'loinc:6768-6-96.915512-U/L-n/a', 'loinc:32465-7-n/a-n/a-n/a',\n",
      "       'loinc:2857-1-1.751529-ng/mL-n/a',\n",
      "       'loinc:718-7-17.187645-g/dL-n/a', 'loinc:4544-3-44.459454-%-n/a',\n",
      "       'loinc:8302-2-177.969681-cm-n/a',\n",
      "       'loinc:6690-2-10.084328-10*3/uL-n/a',\n",
      "       'loinc:2571-8-138.613358-mg/dL-n/a',\n",
      "       'loinc:787-2-82.305084-fL-n/a', 'loinc:32623-1-10.975200-fL-n/a',\n",
      "       'loinc:39156-5-27.355721-kg/m2-n/a',\n",
      "       'loinc:786-4-33.579159-g/dL-n/a', 'loinc:72166-2-n/a-n/a-n/a',\n",
      "       'loinc:18262-6-83.297417-mg/dL-n/a',\n",
      "       'loinc:32207-3-154.884430-fL-n/a',\n",
      "       'loinc:2093-3-175.257629-mg/dL-n/a',\n",
      "       'loinc:785-6-30.781717-pg-n/a',\n",
      "       'loinc:777-3-358.628082-10*3/uL-n/a',\n",
      "       'loinc:21000-5-45.605919-fL-n/a', 'loinc:55284-4-n/a-n/a-n/a',\n",
      "       'loinc:72514-3-1.161837-{score}-n/a',\n",
      "       'loinc:789-8-4.910900-10*6/uL-n/a',\n",
      "       'loinc:2085-9-64.237549-mg/dL-n/a',\n",
      "       'loinc:29463-7-86.644348-kg-n/a', 'loinc:55284-4-n/a-n/a-n/a',\n",
      "       'loinc:2339-0-93.121696-mg/dL-n/a',\n",
      "       'loinc:29463-7-81.890717-kg-n/a', 'loinc:8302-2-188.148392-cm-n/a',\n",
      "       'loinc:72514-3-3.105370-{score}-n/a',\n",
      "       'loinc:2069-3-104.988663-mmol/L-n/a',\n",
      "       'loinc:2947-0-136.601501-mmol/L-n/a',\n",
      "       'loinc:20565-8-23.649340-mmol/L-n/a',\n",
      "       'loinc:38483-4-0.727917-mg/dL-n/a',\n",
      "       'loinc:49765-1-10.019069-mg/dL-n/a', 'loinc:4548-4-6.126838-%-n/a',\n",
      "       'loinc:39156-5-23.133089-kg/m2-n/a',\n",
      "       'loinc:6298-4-3.859436-mmol/L-n/a',\n",
      "       'loinc:6299-2-12.240135-mg/dL-n/a', 'loinc:72166-2-n/a-n/a-n/a',\n",
      "       'loinc:49765-1-9.214104-mg/dL-n/a', 'loinc:72166-2-n/a-n/a-n/a',\n",
      "       'loinc:32207-3-187.276138-fL-n/a',\n",
      "       'loinc:789-8-4.674888-10*6/uL-n/a',\n",
      "       'loinc:38483-4-0.925134-mg/dL-n/a',\n",
      "       'loinc:20565-8-28.219271-mmol/L-n/a',\n",
      "       'loinc:2947-0-141.271637-mmol/L-n/a',\n",
      "       'loinc:21000-5-43.410282-fL-n/a', 'loinc:29463-7-90.013046-kg-n/a',\n",
      "       'loinc:2069-3-103.244652-mmol/L-n/a',\n",
      "       'loinc:777-3-230.992401-10*3/uL-n/a',\n",
      "       'loinc:8302-2-177.372604-cm-n/a', 'loinc:4548-4-6.258900-%-n/a',\n",
      "       'loinc:786-4-35.408703-g/dL-n/a',\n",
      "       'loinc:2339-0-85.413376-mg/dL-n/a',\n",
      "       'loinc:718-7-17.215462-g/dL-n/a', 'loinc:787-2-86.498932-fL-n/a',\n",
      "       'loinc:39156-5-28.610960-kg/m2-n/a',\n",
      "       'loinc:6690-2-10.375461-10*3/uL-n/a',\n",
      "       'loinc:72514-3-0.351518-{score}-n/a', 'loinc:55284-4-n/a-n/a-n/a',\n",
      "       'loinc:785-6-28.254578-pg-n/a', 'loinc:4544-3-43.688736-%-n/a',\n",
      "       'loinc:32623-1-12.127984-fL-n/a',\n",
      "       'loinc:6299-2-14.849609-mg/dL-n/a',\n",
      "       'loinc:6298-4-3.863927-mmol/L-n/a',\n",
      "       'loinc:29463-7-88.211433-kg-n/a', 'loinc:55284-4-n/a-n/a-n/a',\n",
      "       'loinc:2339-0-66.218086-mg/dL-n/a',\n",
      "       'loinc:6298-4-4.177349-mmol/L-n/a', 'loinc:72166-2-n/a-n/a-n/a',\n",
      "       'loinc:49765-1-10.076389-mg/dL-n/a',\n",
      "       'loinc:39156-5-28.038309-kg/m2-n/a',\n",
      "       'loinc:2947-0-137.926636-mmol/L-n/a',\n",
      "       'loinc:38483-4-0.894366-mg/dL-n/a', 'loinc:4548-4-6.050097-%-n/a',\n",
      "       'loinc:72514-3-1.697796-{score}-n/a',\n",
      "       'loinc:2069-3-101.099869-mmol/L-n/a',\n",
      "       'loinc:6299-2-17.463188-mg/dL-n/a',\n",
      "       'loinc:8302-2-177.372604-cm-n/a',\n",
      "       'loinc:20565-8-20.559824-mmol/L-n/a',\n",
      "       'loinc:46240-8-9.266028-{count}-n/a', 'loinc:63513-6-n/a-n/a-No',\n",
      "       'loinc:76690-7-n/a-n/a-heterosexual',\n",
      "       'loinc:28245-9-n/a-n/a-No signs/symptoms',\n",
      "       'loinc:71802-3-n/a-n/a-Patient is homeless',\n",
      "       'loinc:55277-8-n/a-n/a-not HIV positive',\n",
      "       'loinc:6299-2-19.925791-mg/dL-n/a', 'loinc:72166-2-n/a-n/a-n/a',\n",
      "       'loinc:20565-8-23.427092-mmol/L-n/a',\n",
      "       'loinc:2947-0-142.069092-mmol/L-n/a',\n",
      "       'loinc:8302-2-182.585297-cm-n/a',\n",
      "       'loinc:2069-3-102.526848-mmol/L-n/a',\n",
      "       'loinc:72514-3-3.256739-{score}-n/a',\n",
      "       'loinc:6298-4-4.761365-mmol/L-n/a',\n",
      "       'loinc:49765-1-9.511736-mg/dL-n/a',\n",
      "       'loinc:39156-5-25.053598-kg/m2-n/a',\n",
      "       'loinc:38483-4-0.846923-mg/dL-n/a', 'loinc:4548-4-6.194509-%-n/a',\n",
      "       'loinc:55284-4-n/a-n/a-n/a', 'loinc:2339-0-72.077133-mg/dL-n/a',\n",
      "       'loinc:29463-7-83.522156-kg-n/a',\n",
      "       'loinc:6298-4-4.619398-mmol/L-n/a',\n",
      "       'loinc:20565-8-24.234171-mmol/L-n/a',\n",
      "       'loinc:49765-1-9.291913-mg/dL-n/a',\n",
      "       'loinc:72514-3-0.842562-{score}-n/a',\n",
      "       'loinc:8302-2-167.430588-cm-n/a',\n",
      "       'loinc:2339-0-96.608452-mg/dL-n/a', 'loinc:4548-4-6.158988-%-n/a',\n",
      "       'loinc:55284-4-n/a-n/a-n/a',\n",
      "       'loinc:33914-3-135.680161-mL/min/{1.73_m2}-n/a',\n",
      "       'loinc:29463-7-109.107376-kg-n/a',\n",
      "       'loinc:2069-3-108.964668-mmol/L-n/a',\n",
      "       'loinc:39156-5-38.921043-kg/m2-n/a',\n",
      "       'loinc:6299-2-18.148464-mg/dL-n/a', 'loinc:72166-2-n/a-n/a-n/a',\n",
      "       'loinc:38483-4-1.348688-mg/dL-n/a',\n",
      "       'loinc:2947-0-143.872742-mmol/L-n/a',\n",
      "       'loinc:6768-6-104.740395-U/L-n/a',\n",
      "       'loinc:33914-3-85.742111-mL/min-n/a',\n",
      "       'loinc:6298-4-4.535977-mmol/L-n/a',\n",
      "       'loinc:1975-2-0.424965-mg/dL-n/a',\n",
      "       'loinc:1920-8-37.976986-U/L-n/a',\n",
      "       'loinc:49765-1-9.446485-mg/dL-n/a',\n",
      "       'loinc:2069-3-108.631470-mmol/L-n/a',\n",
      "       'loinc:20565-8-21.979639-mmol/L-n/a',\n",
      "       'loinc:2885-2-69.876930-g/dL-n/a',\n",
      "       'loinc:38483-4-2.845920-mg/dL-n/a',\n",
      "       'loinc:10834-0-2.875984-g/L-n/a',\n",
      "       'loinc:18262-6-109.780685-mg/dL-n/a',\n",
      "       'loinc:2085-9-76.222832-mg/dL-n/a',\n",
      "       'loinc:2947-0-138.617966-mmol/L-n/a',\n",
      "       'loinc:2339-0-88.362015-mg/dL-n/a',\n",
      "       'loinc:2571-8-162.358368-mg/dL-n/a',\n",
      "       'loinc:6299-2-16.064793-mg/dL-n/a',\n",
      "       'loinc:2093-3-183.809418-mg/dL-n/a',\n",
      "       'loinc:1742-6-29.654327-U/L-n/a', 'loinc:1751-7-3.567975-g/dL-n/a',\n",
      "       'loinc:2857-1-3.487436-ng/mL-n/a', 'loinc:32465-7-n/a-n/a-n/a',\n",
      "       'loinc:72514-3-1.953150-{score}-n/a', 'loinc:72166-2-n/a-n/a-n/a',\n",
      "       'loinc:55284-4-n/a-n/a-n/a', 'loinc:29463-7-88.054100-kg-n/a',\n",
      "       'loinc:8302-2-184.123550-cm-n/a',\n",
      "       'loinc:39156-5-25.973524-kg/m2-n/a', 'loinc:32465-7-n/a-n/a-n/a',\n",
      "       'loinc:2857-1-1.751529-ng/mL-n/a',\n",
      "       'loinc:718-7-17.187645-g/dL-n/a', 'loinc:4544-3-44.459454-%-n/a',\n",
      "       'loinc:8302-2-177.969681-cm-n/a',\n",
      "       'loinc:6690-2-10.084328-10*3/uL-n/a',\n",
      "       'loinc:2571-8-138.613358-mg/dL-n/a',\n",
      "       'loinc:787-2-82.305084-fL-n/a', 'loinc:32623-1-10.975200-fL-n/a',\n",
      "       'loinc:39156-5-27.355721-kg/m2-n/a',\n",
      "       'loinc:786-4-33.579159-g/dL-n/a', 'loinc:72166-2-n/a-n/a-n/a',\n",
      "       'loinc:18262-6-83.297417-mg/dL-n/a',\n",
      "       'loinc:32207-3-154.884430-fL-n/a',\n",
      "       'loinc:2093-3-175.257629-mg/dL-n/a',\n",
      "       'loinc:785-6-30.781717-pg-n/a',\n",
      "       'loinc:777-3-358.628082-10*3/uL-n/a',\n",
      "       'loinc:21000-5-45.605919-fL-n/a', 'loinc:55284-4-n/a-n/a-n/a',\n",
      "       'loinc:72514-3-1.161837-{score}-n/a',\n",
      "       'loinc:789-8-4.910900-10*6/uL-n/a',\n",
      "       'loinc:2085-9-64.237549-mg/dL-n/a',\n",
      "       'loinc:29463-7-86.644348-kg-n/a',\n",
      "       'loinc:20565-8-24.733881-mmol/L-n/a',\n",
      "       'loinc:2857-1-1.436967-ng/mL-n/a', 'loinc:32465-7-n/a-n/a-n/a',\n",
      "       'loinc:6299-2-18.703503-mg/dL-n/a',\n",
      "       'loinc:2085-9-76.194260-mg/dL-n/a',\n",
      "       'loinc:2093-3-174.050507-mg/dL-n/a', 'loinc:4548-4-6.233656-%-n/a',\n",
      "       'loinc:72166-2-n/a-n/a-n/a', 'loinc:2069-3-109.062080-mmol/L-n/a',\n",
      "       'loinc:38483-4-0.930088-mg/dL-n/a',\n",
      "       'loinc:72514-3-0.044141-{score}-n/a',\n",
      "       'loinc:8302-2-181.558655-cm-n/a',\n",
      "       'loinc:2339-0-85.904190-mg/dL-n/a',\n",
      "       'loinc:2947-0-140.273285-mmol/L-n/a', 'loinc:55284-4-n/a-n/a-n/a',\n",
      "       'loinc:29463-7-93.008759-kg-n/a',\n",
      "       'loinc:49765-1-9.061529-mg/dL-n/a',\n",
      "       'loinc:2571-8-146.276352-mg/dL-n/a',\n",
      "       'loinc:6298-4-4.050171-mmol/L-n/a',\n",
      "       'loinc:18262-6-68.600990-mg/dL-n/a',\n",
      "       'loinc:39156-5-28.215641-kg/m2-n/a',\n",
      "       'loinc:72514-3-2.241118-{score}-n/a',\n",
      "       'loinc:29463-7-83.319954-kg-n/a', 'loinc:32465-7-n/a-n/a-n/a',\n",
      "       'loinc:55284-4-n/a-n/a-n/a', 'loinc:2857-1-2.700431-ng/mL-n/a',\n",
      "       'loinc:8302-2-184.123550-cm-n/a',\n",
      "       'loinc:39156-5-24.577082-kg/m2-n/a', 'loinc:72166-2-n/a-n/a-n/a',\n",
      "       'loinc:2571-8-158.815063-mg/dL-n/a',\n",
      "       'loinc:33914-3-80.145500-mL/min-n/a',\n",
      "       'loinc:2885-2-77.965645-g/dL-n/a',\n",
      "       'loinc:6299-2-17.511702-mg/dL-n/a',\n",
      "       'loinc:6298-4-4.367186-mmol/L-n/a',\n",
      "       'loinc:2947-0-136.669189-mmol/L-n/a',\n",
      "       'loinc:10834-0-3.454460-g/L-n/a',\n",
      "       'loinc:1975-2-0.319352-mg/dL-n/a',\n",
      "       'loinc:6768-6-64.637032-U/L-n/a',\n",
      "       'loinc:2085-9-39.902119-mg/dL-n/a',\n",
      "       'loinc:20565-8-25.500219-mmol/L-n/a',\n",
      "       'loinc:1742-6-59.448765-U/L-n/a',\n",
      "       'loinc:2093-3-192.012497-mg/dL-n/a',\n",
      "       'loinc:38483-4-3.244616-mg/dL-n/a',\n",
      "       'loinc:1920-8-23.617422-U/L-n/a',\n",
      "       'loinc:18262-6-114.910828-mg/dL-n/a',\n",
      "       'loinc:49765-1-9.202523-mg/dL-n/a',\n",
      "       'loinc:2339-0-72.142822-mg/dL-n/a',\n",
      "       'loinc:2069-3-101.443268-mmol/L-n/a',\n",
      "       'loinc:1751-7-5.465491-g/dL-n/a', 'loinc:5803-2-6.489265-pH-n/a',\n",
      "       'loinc:6298-4-5.045729-mmol/L-n/a',\n",
      "       'loinc:6768-6-110.029366-U/L-n/a', 'loinc:5767-9-n/a-n/a-n/a',\n",
      "       'loinc:32207-3-218.517670-fL-n/a',\n",
      "       'loinc:5792-7-1.396628-mg/dL-n/a', 'loinc:32167-9-n/a-n/a-n/a',\n",
      "       'loinc:5770-3-n/a-n/a-n/a', 'loinc:6299-2-15.649755-mg/dL-n/a',\n",
      "       'loinc:5799-2-n/a-n/a-n/a', 'loinc:1751-7-5.099268-g/dL-n/a',\n",
      "       'loinc:21000-5-42.531551-fL-n/a', 'loinc:5794-3-n/a-n/a-n/a',\n",
      "       'loinc:2885-2-75.070900-g/dL-n/a', 'loinc:20454-5-n/a-n/a-n/a',\n",
      "       'loinc:1975-2-0.443820-mg/dL-n/a',\n",
      "       'loinc:6690-2-2.696904-10*3/uL-n/a',\n",
      "       'loinc:786-4-35.080753-g/dL-n/a',\n",
      "       'loinc:2339-0-73.493759-mg/dL-n/a',\n",
      "       'loinc:20565-8-21.160795-mmol/L-n/a',\n",
      "       'loinc:718-7-12.597752-g/dL-n/a',\n",
      "       'loinc:49765-1-10.190761-mg/dL-n/a',\n",
      "       'loinc:38483-4-2.792239-mg/dL-n/a',\n",
      "       'loinc:32623-1-10.046588-fL-n/a', 'loinc:5802-4-n/a-n/a-n/a',\n",
      "       'loinc:785-6-31.588940-pg-n/a', 'loinc:25428-4-n/a-n/a-n/a',\n",
      "       'loinc:33914-3-27.224096-mL/min-n/a', 'loinc:2514-8-n/a-n/a-n/a',\n",
      "       'loinc:72514-3-9.163589-{score}-n/a',\n",
      "       'loinc:5811-5-1.007634-{nominal}-n/a',\n",
      "       'loinc:1920-8-31.587349-U/L-n/a', 'loinc:10834-0-3.228391-g/L-n/a',\n",
      "       'loinc:20505-4-0.533694-mg/dL-n/a',\n",
      "       'loinc:2069-3-103.971031-mmol/L-n/a',\n",
      "       'loinc:4544-3-40.918144-%-n/a', 'loinc:5778-6-n/a-n/a-n/a',\n",
      "       'loinc:2947-0-141.265076-mmol/L-n/a',\n",
      "       'loinc:789-8-5.269665-10*6/uL-n/a',\n",
      "       'loinc:5797-6-19.520023-mg/dL-n/a',\n",
      "       'loinc:1742-6-20.033442-U/L-n/a',\n",
      "       'loinc:5804-0-376.029205-mg/dL-n/a',\n",
      "       'loinc:787-2-92.958611-fL-n/a',\n",
      "       'loinc:777-3-189.344803-10*3/uL-n/a',\n",
      "       'loinc:789-8-4.053400-10*6/uL-n/a',\n",
      "       'loinc:1742-6-52.597507-U/L-n/a',\n",
      "       'loinc:5797-6-19.886501-mg/dL-n/a',\n",
      "       'loinc:6690-2-4.919749-10*3/uL-n/a',\n",
      "       'loinc:5804-0-354.616333-mg/dL-n/a',\n",
      "       'loinc:38483-4-2.666925-mg/dL-n/a',\n",
      "       'loinc:718-7-14.577149-g/dL-n/a', 'loinc:787-2-94.293327-fL-n/a',\n",
      "       'loinc:1920-8-13.587159-U/L-n/a', 'loinc:5803-2-5.614173-pH-n/a',\n",
      "       'loinc:1975-2-1.051168-mg/dL-n/a',\n",
      "       'loinc:10834-0-2.212566-g/L-n/a', 'loinc:785-6-31.308094-pg-n/a',\n",
      "       'loinc:2069-3-106.123062-mmol/L-n/a',\n",
      "       'loinc:4544-3-45.353336-%-n/a',\n",
      "       'loinc:72514-3-7.163367-{score}-n/a',\n",
      "       'loinc:2947-0-141.952225-mmol/L-n/a',\n",
      "       'loinc:49765-1-8.896088-mg/dL-n/a',\n",
      "       'loinc:6768-6-75.904266-U/L-n/a',\n",
      "       'loinc:2885-2-73.973671-g/dL-n/a',\n",
      "       'loinc:1751-7-3.686198-g/dL-n/a', 'loinc:32623-1-11.918849-fL-n/a',\n",
      "       'loinc:6299-2-18.461855-mg/dL-n/a',\n",
      "       'loinc:777-3-327.926544-10*3/uL-n/a',\n",
      "       'loinc:20565-8-24.319242-mmol/L-n/a',\n",
      "       'loinc:2339-0-70.381210-mg/dL-n/a',\n",
      "       'loinc:33914-3-8.088194-mL/min-n/a',\n",
      "       'loinc:6298-4-4.123176-mmol/L-n/a',\n",
      "       'loinc:786-4-33.661026-g/dL-n/a',\n",
      "       'loinc:5792-7-1.031116-mg/dL-n/a',\n",
      "       'loinc:20505-4-1.327944-mg/dL-n/a',\n",
      "       'loinc:5811-5-1.027792-{nominal}-n/a',\n",
      "       'loinc:21000-5-42.219528-fL-n/a',\n",
      "       'loinc:32207-3-390.486481-fL-n/a',\n",
      "       'loinc:72514-3-8.226948-{score}-n/a',\n",
      "       'loinc:5792-7-2.233938-mg/dL-n/a',\n",
      "       'loinc:6768-6-139.509979-U/L-n/a',\n",
      "       'loinc:2339-0-82.591240-mg/dL-n/a',\n",
      "       'loinc:33914-3-28.103716-mL/min-n/a',\n",
      "       'loinc:6298-4-4.135526-mmol/L-n/a',\n",
      "       'loinc:777-3-321.010742-10*3/uL-n/a',\n",
      "       'loinc:1742-6-46.370033-U/L-n/a', 'loinc:4544-3-39.475204-%-n/a',\n",
      "       'loinc:20565-8-28.623789-mmol/L-n/a',\n",
      "       'loinc:21000-5-45.435677-fL-n/a', 'loinc:32623-1-9.566770-fL-n/a',\n",
      "       'loinc:6299-2-12.513663-mg/dL-n/a',\n",
      "       'loinc:10834-0-2.275688-g/L-n/a', 'loinc:787-2-90.830254-fL-n/a',\n",
      "       'loinc:5803-2-5.899751-pH-n/a', 'loinc:1920-8-8.750190-U/L-n/a',\n",
      "       'loinc:785-6-28.688892-pg-n/a', 'loinc:786-4-35.394329-g/dL-n/a',\n",
      "       'loinc:2885-2-79.541870-g/dL-n/a',\n",
      "       'loinc:38483-4-2.939698-mg/dL-n/a',\n",
      "       'loinc:5811-5-1.020707-{nominal}-n/a',\n",
      "       'loinc:2069-3-110.274063-mmol/L-n/a',\n",
      "       'loinc:1751-7-4.497275-g/dL-n/a',\n",
      "       'loinc:2947-0-140.576736-mmol/L-n/a',\n",
      "       'loinc:6690-2-3.994155-10*3/uL-n/a',\n",
      "       'loinc:49765-1-9.719174-mg/dL-n/a',\n",
      "       'loinc:32207-3-284.258789-fL-n/a',\n",
      "       'loinc:789-8-5.282902-10*6/uL-n/a',\n",
      "       'loinc:20505-4-1.277584-mg/dL-n/a',\n",
      "       'loinc:1975-2-0.261057-mg/dL-n/a',\n",
      "       'loinc:5804-0-435.691711-mg/dL-n/a',\n",
      "       'loinc:5797-6-18.639317-mg/dL-n/a',\n",
      "       'loinc:718-7-15.009403-g/dL-n/a', 'loinc:785-6-27.786074-pg-n/a',\n",
      "       'loinc:777-3-222.268784-10*3/uL-n/a',\n",
      "       'loinc:5804-0-388.800720-mg/dL-n/a',\n",
      "       'loinc:2885-2-68.280327-g/dL-n/a',\n",
      "       'loinc:2947-0-137.879211-mmol/L-n/a',\n",
      "       'loinc:2339-0-82.709656-mg/dL-n/a',\n",
      "       'loinc:789-8-5.416155-10*6/uL-n/a',\n",
      "       'loinc:6298-4-4.854571-mmol/L-n/a',\n",
      "       'loinc:1975-2-0.130794-mg/dL-n/a',\n",
      "       'loinc:5792-7-2.126233-mg/dL-n/a',\n",
      "       'loinc:72514-3-9.205997-{score}-n/a',\n",
      "       'loinc:49765-1-8.529603-mg/dL-n/a',\n",
      "       'loinc:32207-3-475.954010-fL-n/a',\n",
      "       'loinc:1742-6-32.037365-U/L-n/a',\n",
      "       'loinc:6768-6-138.412613-U/L-n/a',\n",
      "       'loinc:21000-5-41.469929-fL-n/a', 'loinc:786-4-33.241367-g/dL-n/a',\n",
      "       'loinc:6690-2-2.854376-10*3/uL-n/a',\n",
      "       'loinc:20565-8-26.612570-mmol/L-n/a',\n",
      "       'loinc:5797-6-5.901379-mg/dL-n/a',\n",
      "       'loinc:20505-4-0.867752-mg/dL-n/a',\n",
      "       'loinc:1751-7-4.507163-g/dL-n/a', 'loinc:10834-0-3.186091-g/L-n/a',\n",
      "       'loinc:2069-3-110.550835-mmol/L-n/a',\n",
      "       'loinc:1920-8-15.709338-U/L-n/a', 'loinc:5803-2-6.160401-pH-n/a',\n",
      "       'loinc:787-2-81.664948-fL-n/a', 'loinc:718-7-12.289174-g/dL-n/a',\n",
      "       'loinc:38483-4-2.882428-mg/dL-n/a', 'loinc:4544-3-49.185242-%-n/a',\n",
      "       'loinc:33914-3-16.967884-mL/min-n/a',\n",
      "       'loinc:6299-2-9.497967-mg/dL-n/a',\n",
      "       'loinc:32623-1-11.062606-fL-n/a',\n",
      "       'loinc:5811-5-1.005711-{nominal}-n/a',\n",
      "       'loinc:2339-0-94.357574-mg/dL-n/a',\n",
      "       'loinc:33914-3-20.046692-mL/min-n/a',\n",
      "       'loinc:6690-2-4.584012-10*3/uL-n/a',\n",
      "       'loinc:2069-3-103.794746-mmol/L-n/a',\n",
      "       'loinc:2947-0-136.311615-mmol/L-n/a',\n",
      "       'loinc:32207-3-315.469666-fL-n/a',\n",
      "       'loinc:777-3-322.740204-10*3/uL-n/a',\n",
      "       'loinc:38483-4-3.095454-mg/dL-n/a',\n",
      "       'loinc:789-8-3.933267-10*6/uL-n/a', 'loinc:5803-2-6.349300-pH-n/a',\n",
      "       'loinc:72514-3-4.379536-{score}-n/a',\n",
      "       'loinc:32623-1-10.054361-fL-n/a',\n",
      "       'loinc:6299-2-13.880073-mg/dL-n/a',\n",
      "       'loinc:5797-6-18.652521-mg/dL-n/a',\n",
      "       'loinc:5811-5-1.035568-{nominal}-n/a',\n",
      "       'loinc:1742-6-57.318825-U/L-n/a', 'loinc:718-7-12.674839-g/dL-n/a',\n",
      "       'loinc:1920-8-15.919015-U/L-n/a', 'loinc:4544-3-40.097435-%-n/a',\n",
      "       'loinc:10834-0-2.872888-g/L-n/a',\n",
      "       'loinc:6768-6-115.850883-U/L-n/a', 'loinc:787-2-93.989212-fL-n/a',\n",
      "       'loinc:6298-4-4.129025-mmol/L-n/a',\n",
      "       'loinc:20565-8-28.017307-mmol/L-n/a',\n",
      "       'loinc:785-6-32.821152-pg-n/a', 'loinc:21000-5-45.165813-fL-n/a',\n",
      "       'loinc:5792-7-1.099926-mg/dL-n/a',\n",
      "       'loinc:1975-2-0.679317-mg/dL-n/a',\n",
      "       'loinc:5804-0-259.786957-mg/dL-n/a',\n",
      "       'loinc:786-4-33.926224-g/dL-n/a', 'loinc:1751-7-3.763828-g/dL-n/a',\n",
      "       'loinc:20505-4-1.288479-mg/dL-n/a',\n",
      "       'loinc:49765-1-9.388815-mg/dL-n/a',\n",
      "       'loinc:2885-2-60.879330-g/dL-n/a',\n",
      "       'loinc:6690-2-3.561746-10*3/uL-n/a',\n",
      "       'loinc:785-6-30.248877-pg-n/a', 'loinc:789-8-4.163501-10*6/uL-n/a',\n",
      "       'loinc:5797-6-6.303897-mg/dL-n/a',\n",
      "       'loinc:777-3-374.200165-10*3/uL-n/a',\n",
      "       'loinc:6768-6-111.501602-U/L-n/a',\n",
      "       'loinc:6298-4-4.185530-mmol/L-n/a',\n",
      "       'loinc:6299-2-14.499415-mg/dL-n/a',\n",
      "       'loinc:32207-3-232.198654-fL-n/a',\n",
      "       'loinc:1920-8-36.646023-U/L-n/a', 'loinc:4544-3-44.943375-%-n/a',\n",
      "       'loinc:718-7-15.041700-g/dL-n/a',\n",
      "       'loinc:2947-0-142.334991-mmol/L-n/a',\n",
      "       'loinc:20505-4-0.720327-mg/dL-n/a',\n",
      "       'loinc:1751-7-5.499351-g/dL-n/a', 'loinc:5803-2-6.342834-pH-n/a',\n",
      "       'loinc:5804-0-397.535156-mg/dL-n/a',\n",
      "       'loinc:5811-5-1.027362-{nominal}-n/a',\n",
      "       'loinc:49765-1-9.496659-mg/dL-n/a',\n",
      "       'loinc:21000-5-39.691380-fL-n/a', 'loinc:32623-1-11.905718-fL-n/a',\n",
      "       'loinc:1975-2-0.309414-mg/dL-n/a',\n",
      "       'loinc:38483-4-2.935251-mg/dL-n/a', 'loinc:787-2-86.988327-fL-n/a',\n",
      "       'loinc:20565-8-22.896532-mmol/L-n/a',\n",
      "       'loinc:2885-2-60.608025-g/dL-n/a',\n",
      "       'loinc:2069-3-102.851677-mmol/L-n/a',\n",
      "       'loinc:1742-6-49.025513-U/L-n/a', 'loinc:786-4-34.041340-g/dL-n/a',\n",
      "       'loinc:5792-7-2.145454-mg/dL-n/a',\n",
      "       'loinc:10834-0-2.716443-g/L-n/a',\n",
      "       'loinc:72514-3-7.926781-{score}-n/a',\n",
      "       'loinc:2339-0-95.736900-mg/dL-n/a',\n",
      "       'loinc:33914-3-7.015437-mL/min-n/a',\n",
      "       'loinc:72514-3-4.614762-{score}-n/a',\n",
      "       'loinc:1751-7-3.627976-g/dL-n/a',\n",
      "       'loinc:5792-7-0.559174-mg/dL-n/a', 'loinc:5803-2-5.563306-pH-n/a',\n",
      "       'loinc:5797-6-11.389686-mg/dL-n/a',\n",
      "       'loinc:2885-2-70.345627-g/dL-n/a',\n",
      "       'loinc:2339-0-75.009163-mg/dL-n/a',\n",
      "       'loinc:6299-2-17.968971-mg/dL-n/a',\n",
      "       'loinc:1742-6-56.420444-U/L-n/a',\n",
      "       'loinc:5811-5-1.020305-{nominal}-n/a',\n",
      "       'loinc:789-8-4.206491-10*6/uL-n/a', 'loinc:785-6-31.642385-pg-n/a',\n",
      "       'loinc:1975-2-0.477535-mg/dL-n/a',\n",
      "       'loinc:777-3-347.585876-10*3/uL-n/a',\n",
      "       'loinc:2947-0-141.325684-mmol/L-n/a',\n",
      "       'loinc:49765-1-8.769344-mg/dL-n/a',\n",
      "       'loinc:6768-6-75.612274-U/L-n/a', 'loinc:787-2-80.329330-fL-n/a',\n",
      "       'loinc:6690-2-2.392390-10*3/uL-n/a',\n",
      "       'loinc:33914-3-12.496883-mL/min-n/a',\n",
      "       'loinc:4544-3-46.305782-%-n/a', 'loinc:718-7-13.720316-g/dL-n/a',\n",
      "       'loinc:32207-3-385.734406-fL-n/a',\n",
      "       'loinc:5804-0-354.985352-mg/dL-n/a',\n",
      "       'loinc:32623-1-11.153422-fL-n/a', 'loinc:786-4-35.356274-g/dL-n/a',\n",
      "       'loinc:10834-0-2.503495-g/L-n/a',\n",
      "       'loinc:20505-4-1.083076-mg/dL-n/a',\n",
      "       'loinc:20565-8-28.876017-mmol/L-n/a',\n",
      "       'loinc:6298-4-4.959886-mmol/L-n/a',\n",
      "       'loinc:1920-8-7.773571-U/L-n/a',\n",
      "       'loinc:38483-4-2.823640-mg/dL-n/a',\n",
      "       'loinc:2069-3-110.019150-mmol/L-n/a',\n",
      "       'loinc:21000-5-41.484646-fL-n/a', 'loinc:5803-2-5.812394-pH-n/a',\n",
      "       'loinc:5811-5-1.032171-{nominal}-n/a',\n",
      "       'loinc:49765-1-9.412846-mg/dL-n/a',\n",
      "       'loinc:2885-2-65.660988-g/dL-n/a',\n",
      "       'loinc:33914-3-16.622255-mL/min-n/a',\n",
      "       'loinc:786-4-33.615105-g/dL-n/a',\n",
      "       'loinc:20565-8-27.504244-mmol/L-n/a',\n",
      "       'loinc:718-7-14.623344-g/dL-n/a',\n",
      "       'loinc:72514-3-7.670393-{score}-n/a',\n",
      "       'loinc:5792-7-1.307189-mg/dL-n/a',\n",
      "       'loinc:777-3-332.713989-10*3/uL-n/a',\n",
      "       'loinc:6768-6-30.839598-U/L-n/a',\n",
      "       'loinc:20505-4-1.016374-mg/dL-n/a',\n",
      "       'loinc:38483-4-3.420283-mg/dL-n/a',\n",
      "       'loinc:1920-8-31.866821-U/L-n/a', 'loinc:21000-5-42.817822-fL-n/a',\n",
      "       'loinc:1975-2-0.417386-mg/dL-n/a',\n",
      "       'loinc:6690-2-4.821716-10*3/uL-n/a',\n",
      "       'loinc:2339-0-98.291565-mg/dL-n/a',\n",
      "       'loinc:32623-1-10.377360-fL-n/a',\n",
      "       'loinc:6298-4-4.837746-mmol/L-n/a',\n",
      "       'loinc:2069-3-108.793251-mmol/L-n/a',\n",
      "       'loinc:10834-0-3.345813-g/L-n/a', 'loinc:1742-6-39.530449-U/L-n/a',\n",
      "       'loinc:6299-2-18.177656-mg/dL-n/a',\n",
      "       'loinc:2947-0-136.652588-mmol/L-n/a',\n",
      "       'loinc:789-8-4.752699-10*6/uL-n/a', 'loinc:4544-3-38.063618-%-n/a',\n",
      "       'loinc:785-6-28.378757-pg-n/a', 'loinc:1751-7-4.416687-g/dL-n/a',\n",
      "       'loinc:5804-0-361.353088-mg/dL-n/a',\n",
      "       'loinc:32207-3-396.739471-fL-n/a',\n",
      "       'loinc:5797-6-12.626782-mg/dL-n/a', 'loinc:787-2-83.784409-fL-n/a',\n",
      "       'loinc:10834-0-2.651594-g/L-n/a', 'loinc:718-7-15.057698-g/dL-n/a',\n",
      "       'loinc:2885-2-76.313225-g/dL-n/a',\n",
      "       'loinc:33914-3-7.197593-mL/min-n/a',\n",
      "       'loinc:20505-4-1.213272-mg/dL-n/a',\n",
      "       'loinc:5797-6-12.241583-mg/dL-n/a',\n",
      "       'loinc:789-8-4.857688-10*6/uL-n/a',\n",
      "       'loinc:786-4-33.972019-g/dL-n/a',\n",
      "       'loinc:20565-8-23.267746-mmol/L-n/a',\n",
      "       'loinc:2947-0-142.420929-mmol/L-n/a',\n",
      "       'loinc:38483-4-2.929990-mg/dL-n/a',\n",
      "       'loinc:1751-7-4.876700-g/dL-n/a',\n",
      "       'loinc:5792-7-2.226620-mg/dL-n/a', 'loinc:4544-3-43.441170-%-n/a',\n",
      "       'loinc:5803-2-5.267560-pH-n/a', 'loinc:6299-2-16.932747-mg/dL-n/a',\n",
      "       'loinc:787-2-83.832893-fL-n/a',\n",
      "       'loinc:777-3-319.784607-10*3/uL-n/a',\n",
      "       'loinc:21000-5-45.664215-fL-n/a',\n",
      "       'loinc:1975-2-0.333791-mg/dL-n/a',\n",
      "       'loinc:2339-0-69.776405-mg/dL-n/a',\n",
      "       'loinc:32207-3-458.518158-fL-n/a',\n",
      "       'loinc:1920-8-21.489153-U/L-n/a',\n",
      "       'loinc:5804-0-447.116180-mg/dL-n/a',\n",
      "       'loinc:49765-1-8.603997-mg/dL-n/a', 'loinc:785-6-32.433216-pg-n/a',\n",
      "       'loinc:6768-6-50.714375-U/L-n/a',\n",
      "       'loinc:5811-5-1.022590-{nominal}-n/a',\n",
      "       'loinc:32623-1-10.077457-fL-n/a', 'loinc:1742-6-46.788006-U/L-n/a',\n",
      "       'loinc:2069-3-104.468765-mmol/L-n/a',\n",
      "       'loinc:6690-2-3.064200-10*3/uL-n/a',\n",
      "       'loinc:6298-4-3.737444-mmol/L-n/a',\n",
      "       'loinc:72514-3-7.974631-{score}-n/a',\n",
      "       'loinc:2069-3-103.091583-mmol/L-n/a',\n",
      "       'loinc:5803-2-5.907450-pH-n/a', 'loinc:6298-4-4.168846-mmol/L-n/a',\n",
      "       'loinc:32207-3-266.271698-fL-n/a',\n",
      "       'loinc:21000-5-39.388958-fL-n/a',\n",
      "       'loinc:38483-4-2.595700-mg/dL-n/a',\n",
      "       'loinc:718-7-13.377287-g/dL-n/a', 'loinc:785-6-28.682238-pg-n/a',\n",
      "       'loinc:72514-3-6.232838-{score}-n/a',\n",
      "       'loinc:5804-0-416.489441-mg/dL-n/a',\n",
      "       'loinc:1920-8-16.215191-U/L-n/a', 'loinc:1751-7-4.608613-g/dL-n/a',\n",
      "       'loinc:2885-2-75.630577-g/dL-n/a', 'loinc:787-2-82.608017-fL-n/a',\n",
      "       'loinc:49765-1-9.171709-mg/dL-n/a', 'loinc:4544-3-46.382114-%-n/a',\n",
      "       'loinc:1742-6-37.505890-U/L-n/a', 'loinc:6768-6-69.353790-U/L-n/a',\n",
      "       'loinc:2339-0-90.791039-mg/dL-n/a',\n",
      "       'loinc:1975-2-0.948996-mg/dL-n/a',\n",
      "       'loinc:20565-8-25.885139-mmol/L-n/a',\n",
      "       'loinc:32623-1-12.270967-fL-n/a',\n",
      "       'loinc:789-8-5.350663-10*6/uL-n/a',\n",
      "       'loinc:6690-2-2.205814-10*3/uL-n/a',\n",
      "       'loinc:786-4-35.830853-g/dL-n/a',\n",
      "       'loinc:20505-4-1.275915-mg/dL-n/a',\n",
      "       'loinc:777-3-400.674896-10*3/uL-n/a',\n",
      "       'loinc:33914-3-19.761993-mL/min-n/a',\n",
      "       'loinc:10834-0-2.117445-g/L-n/a',\n",
      "       'loinc:5811-5-1.024067-{nominal}-n/a',\n",
      "       'loinc:6299-2-11.311111-mg/dL-n/a',\n",
      "       'loinc:5797-6-10.415031-mg/dL-n/a',\n",
      "       'loinc:5792-7-1.861954-mg/dL-n/a',\n",
      "       'loinc:2947-0-140.568222-mmol/L-n/a',\n",
      "       'loinc:20565-8-26.953030-mmol/L-n/a',\n",
      "       'loinc:6768-6-70.826431-U/L-n/a', 'loinc:718-7-16.082701-g/dL-n/a',\n",
      "       'loinc:5803-2-5.527142-pH-n/a', 'loinc:21000-5-43.970528-fL-n/a',\n",
      "       'loinc:786-4-33.813198-g/dL-n/a', 'loinc:32623-1-11.874120-fL-n/a',\n",
      "       'loinc:5797-6-18.531519-mg/dL-n/a',\n",
      "       'loinc:10834-0-2.308085-g/L-n/a',\n",
      "       'loinc:6299-2-10.567239-mg/dL-n/a',\n",
      "       'loinc:1920-8-36.695324-U/L-n/a', 'loinc:1742-6-25.053112-U/L-n/a',\n",
      "       'loinc:72514-3-5.463821-{score}-n/a',\n",
      "       'loinc:2885-2-69.410828-g/dL-n/a', 'loinc:787-2-86.345345-fL-n/a',\n",
      "       'loinc:1975-2-0.483431-mg/dL-n/a',\n",
      "       'loinc:49765-1-8.730313-mg/dL-n/a',\n",
      "       'loinc:38483-4-2.594920-mg/dL-n/a',\n",
      "       'loinc:777-3-279.915405-10*3/uL-n/a',\n",
      "       'loinc:785-6-29.135485-pg-n/a',\n",
      "       'loinc:5811-5-1.036034-{nominal}-n/a',\n",
      "       'loinc:20505-4-0.745640-mg/dL-n/a',\n",
      "       'loinc:2069-3-108.398392-mmol/L-n/a',\n",
      "       'loinc:33914-3-24.011051-mL/min-n/a',\n",
      "       'loinc:6690-2-3.112695-10*3/uL-n/a',\n",
      "       'loinc:2947-0-140.187607-mmol/L-n/a',\n",
      "       'loinc:4544-3-35.073818-%-n/a', 'loinc:2339-0-78.780121-mg/dL-n/a',\n",
      "       'loinc:32207-3-514.359070-fL-n/a',\n",
      "       'loinc:1751-7-5.410705-g/dL-n/a',\n",
      "       'loinc:789-8-5.412974-10*6/uL-n/a',\n",
      "       'loinc:5804-0-361.328918-mg/dL-n/a',\n",
      "       'loinc:5792-7-0.899669-mg/dL-n/a',\n",
      "       'loinc:6298-4-3.712873-mmol/L-n/a',\n",
      "       'loinc:38483-4-1.259915-mg/dL-n/a',\n",
      "       'loinc:2093-3-189.670654-mg/dL-n/a',\n",
      "       'loinc:2571-8-113.883469-mg/dL-n/a',\n",
      "       'loinc:6298-4-4.102201-mmol/L-n/a',\n",
      "       'loinc:72514-3-0.380423-{score}-n/a',\n",
      "       'loinc:29463-7-103.083923-kg-n/a',\n",
      "       'loinc:2069-3-108.848198-mmol/L-n/a',\n",
      "       'loinc:39156-5-30.185736-kg/m2-n/a', 'loinc:72166-2-n/a-n/a-n/a',\n",
      "       'loinc:20565-8-28.987909-mmol/L-n/a',\n",
      "       'loinc:2947-0-140.890991-mmol/L-n/a',\n",
      "       'loinc:2339-0-86.396194-mg/dL-n/a',\n",
      "       'loinc:49765-1-8.979461-mg/dL-n/a',\n",
      "       'loinc:8302-2-184.796860-cm-n/a',\n",
      "       'loinc:18262-6-90.003258-mg/dL-n/a', 'loinc:55284-4-n/a-n/a-n/a',\n",
      "       'loinc:14959-1-9.778977-mg/g-n/a',\n",
      "       'loinc:6299-2-12.623574-mg/dL-n/a',\n",
      "       'loinc:33914-3-117.707069-mL/min/{1.73_m2}-n/a',\n",
      "       'loinc:2085-9-76.890701-mg/dL-n/a', 'loinc:4548-4-6.046434-%-n/a',\n",
      "       'loinc:1975-2-1.051820-mg/dL-n/a',\n",
      "       'loinc:5792-7-1.929352-mg/dL-n/a',\n",
      "       'loinc:6768-6-74.807823-U/L-n/a', 'loinc:718-7-12.573079-g/dL-n/a',\n",
      "       'loinc:2069-3-104.115547-mmol/L-n/a',\n",
      "       'loinc:32207-3-487.398987-fL-n/a',\n",
      "       'loinc:6690-2-4.791975-10*3/uL-n/a',\n",
      "       'loinc:6298-4-4.071771-mmol/L-n/a',\n",
      "       'loinc:10834-0-3.444025-g/L-n/a', 'loinc:787-2-87.612663-fL-n/a',\n",
      "       'loinc:4544-3-44.675449-%-n/a', 'loinc:32623-1-10.168074-fL-n/a',\n",
      "       'loinc:777-3-312.130310-10*3/uL-n/a',\n",
      "       'loinc:2947-0-140.826050-mmol/L-n/a',\n",
      "       'loinc:5804-0-444.565613-mg/dL-n/a',\n",
      "       'loinc:2339-0-90.337059-mg/dL-n/a',\n",
      "       'loinc:33914-3-10.555639-mL/min-n/a',\n",
      "       'loinc:72514-3-9.395428-{score}-n/a',\n",
      "       'loinc:1751-7-4.257493-g/dL-n/a',\n",
      "       'loinc:20565-8-28.308075-mmol/L-n/a',\n",
      "       'loinc:5811-5-1.035421-{nominal}-n/a',\n",
      "       'loinc:21000-5-40.475700-fL-n/a',\n",
      "       'loinc:20505-4-0.472959-mg/dL-n/a',\n",
      "       'loinc:2885-2-74.133659-g/dL-n/a',\n",
      "       'loinc:786-4-35.950794-g/dL-n/a', 'loinc:1920-8-33.479172-U/L-n/a',\n",
      "       'loinc:38483-4-2.993222-mg/dL-n/a',\n",
      "       'loinc:789-8-4.420092-10*6/uL-n/a',\n",
      "       'loinc:49765-1-10.187856-mg/dL-n/a',\n",
      "       'loinc:5797-6-2.715427-mg/dL-n/a', 'loinc:785-6-29.047842-pg-n/a',\n",
      "       'loinc:5803-2-6.218936-pH-n/a', 'loinc:1742-6-22.216881-U/L-n/a',\n",
      "       'loinc:6299-2-7.731623-mg/dL-n/a', 'loinc:63513-6-n/a-n/a-Yes',\n",
      "       'loinc:71802-3-n/a-n/a-Patient is homeless',\n",
      "       'loinc:55277-8-n/a-n/a-not HIV positive',\n",
      "       'loinc:76690-7-n/a-n/a-heterosexual',\n",
      "       'loinc:46240-8-0.080657-{count}-n/a',\n",
      "       'loinc:28245-9-n/a-n/a-Severe signs/symptoms',\n",
      "       'loinc:46240-8-4.046955-{count}-n/a', 'loinc:63513-6-n/a-n/a-No',\n",
      "       'loinc:55284-4-n/a-n/a-n/a', 'loinc:2339-0-95.359009-mg/dL-n/a',\n",
      "       'loinc:787-2-90.292343-fL-n/a',\n",
      "       'loinc:6690-2-8.890681-10*3/uL-n/a',\n",
      "       'loinc:72514-3-3.484234-{score}-n/a',\n",
      "       'loinc:4544-3-44.888561-%-n/a', 'loinc:8302-2-182.585297-cm-n/a',\n",
      "       'loinc:6298-4-4.838849-mmol/L-n/a', 'loinc:72166-2-n/a-n/a-n/a',\n",
      "       'loinc:785-6-30.364693-pg-n/a', 'loinc:38483-4-0.885585-mg/dL-n/a',\n",
      "       'loinc:4548-4-6.297340-%-n/a', 'loinc:6299-2-9.873978-mg/dL-n/a',\n",
      "       'loinc:789-8-4.653331-10*6/uL-n/a',\n",
      "       'loinc:2947-0-139.663193-mmol/L-n/a',\n",
      "       'loinc:20565-8-22.275570-mmol/L-n/a',\n",
      "       'loinc:2069-3-107.628677-mmol/L-n/a',\n",
      "       'loinc:32623-1-10.686213-fL-n/a', 'loinc:21000-5-40.689377-fL-n/a',\n",
      "       'loinc:777-3-406.372620-10*3/uL-n/a',\n",
      "       'loinc:32207-3-272.487488-fL-n/a',\n",
      "       'loinc:49765-1-9.736886-mg/dL-n/a',\n",
      "       'loinc:39156-5-25.649008-kg/m2-n/a',\n",
      "       'loinc:718-7-13.057174-g/dL-n/a', 'loinc:786-4-35.053478-g/dL-n/a',\n",
      "       'loinc:29463-7-85.507095-kg-n/a',\n",
      "       'loinc:28245-9-n/a-n/a-No signs/symptoms',\n",
      "       'loinc:46240-8-1.630056-{count}-n/a',\n",
      "       'loinc:29463-7-86.921959-kg-n/a',\n",
      "       'loinc:2947-0-143.872330-mmol/L-n/a',\n",
      "       'loinc:4548-4-5.990908-%-n/a', 'loinc:2339-0-70.296028-mg/dL-n/a',\n",
      "       'loinc:72514-3-2.074707-{score}-n/a',\n",
      "       'loinc:20565-8-22.146103-mmol/L-n/a',\n",
      "       'loinc:2093-3-182.945236-mg/dL-n/a', 'loinc:55284-4-n/a-n/a-n/a',\n",
      "       'loinc:72166-2-n/a-n/a-n/a', 'loinc:8302-2-177.372604-cm-n/a',\n",
      "       'loinc:38483-4-1.013631-mg/dL-n/a',\n",
      "       'loinc:2085-9-71.286613-mg/dL-n/a',\n",
      "       'loinc:18262-6-84.927299-mg/dL-n/a',\n",
      "       'loinc:6298-4-4.196002-mmol/L-n/a',\n",
      "       'loinc:49765-1-9.575833-mg/dL-n/a',\n",
      "       'loinc:2069-3-109.100533-mmol/L-n/a',\n",
      "       'loinc:6299-2-13.329048-mg/dL-n/a',\n",
      "       'loinc:2571-8-133.656601-mg/dL-n/a',\n",
      "       'loinc:39156-5-27.628445-kg/m2-n/a'], dtype=object), dense_shape=array([ 24, 439])), 's-Encounter.hospitalization.admitSource-til-0': SparseTensorValue(indices=array([], shape=(0, 2), dtype=int64), values=array([], dtype=object), dense_shape=array([24,  0])), 's-Procedure.code.cpt-til-31536000': SparseTensorValue(indices=array([], shape=(0, 2), dtype=int64), values=array([], dtype=object), dense_shape=array([24,  0])), 'c-Patient.ageInYears': array([69.32529 , 76.10519 , 67.6504  ,  5.005894, 54.16933 , 76.74612 ,\n",
      "       14.405889,  2.006093, 10.007152, 66.90337 , 26.007145, 14.480532,\n",
      "       67.4705  , 77.2435  , 51.95872 , 14.270153, 74.45314 , 68.00108 ,\n",
      "       20.007647, 69.8294  , 77.146286, 52.3356  , 76.22159 , 68.91707 ],\n",
      "      dtype=float32), 's-MedicationRequest.contained.medication.code.gsn-til-2592000': SparseTensorValue(indices=array([], shape=(0, 2), dtype=int64), values=array([], dtype=object), dense_shape=array([24,  0])), 's-Encounter.reason.hcc-til-0': SparseTensorValue(indices=array([], shape=(0, 2), dtype=int64), values=array([], dtype=object), dense_shape=array([24,  0])), 's-Encounter.reason.hcc-til-31536000': SparseTensorValue(indices=array([], shape=(0, 2), dtype=int64), values=array([], dtype=object), dense_shape=array([24,  0])), 'label': array(['less_or_equal_3', 'less_or_equal_3', 'less_or_equal_3', '3_7',\n",
      "       'less_or_equal_3', 'less_or_equal_3', 'less_or_equal_3',\n",
      "       'less_or_equal_3', 'less_or_equal_3', 'less_or_equal_3', '3_7',\n",
      "       'less_or_equal_3', 'less_or_equal_3', 'less_or_equal_3', '3_7',\n",
      "       'less_or_equal_3', 'less_or_equal_3', 'less_or_equal_3',\n",
      "       'less_or_equal_3', 'less_or_equal_3', 'less_or_equal_3',\n",
      "       'less_or_equal_3', 'less_or_equal_3', 'less_or_equal_3'],\n",
      "      dtype=object), 's-MedicationRequest.contained.medication.code.gsn-til-86400': SparseTensorValue(indices=array([], shape=(0, 2), dtype=int64), values=array([], dtype=object), dense_shape=array([24,  0])), 's-Observation.code_Observation.value.quantity.value_Observation.value.quantity.unit_Observation.value.string-til-604800': SparseTensorValue(indices=array([[14,  0],\n",
      "       [19,  0],\n",
      "       [19,  1],\n",
      "       [19,  2],\n",
      "       [19,  3],\n",
      "       [19,  4],\n",
      "       [19,  5],\n",
      "       [19,  6],\n",
      "       [19,  7],\n",
      "       [19,  8],\n",
      "       [19,  9],\n",
      "       [19, 10],\n",
      "       [19, 11],\n",
      "       [19, 12],\n",
      "       [19, 13],\n",
      "       [19, 14],\n",
      "       [19, 15],\n",
      "       [19, 16],\n",
      "       [19, 17],\n",
      "       [19, 18],\n",
      "       [19, 19],\n",
      "       [21,  0],\n",
      "       [21,  1],\n",
      "       [21,  2],\n",
      "       [21,  3],\n",
      "       [21,  4],\n",
      "       [21,  5],\n",
      "       [21,  6],\n",
      "       [21,  7],\n",
      "       [21,  8],\n",
      "       [21,  9],\n",
      "       [21, 10],\n",
      "       [21, 11],\n",
      "       [21, 12],\n",
      "       [21, 13],\n",
      "       [21, 14],\n",
      "       [21, 15],\n",
      "       [21, 16],\n",
      "       [21, 17],\n",
      "       [21, 18],\n",
      "       [21, 19],\n",
      "       [22,  0],\n",
      "       [22,  1],\n",
      "       [22,  2],\n",
      "       [22,  3],\n",
      "       [22,  4],\n",
      "       [22,  5]]), values=array(['loinc:62337-1-n/a-n/a-n/a', 'loinc:10834-0-3.224172-g/L-n/a',\n",
      "       'loinc:33914-3-76.766075-mL/min-n/a',\n",
      "       'loinc:2069-3-102.124123-mmol/L-n/a',\n",
      "       'loinc:2947-0-138.739777-mmol/L-n/a',\n",
      "       'loinc:2571-8-150.666016-mg/dL-n/a',\n",
      "       'loinc:1975-2-0.840041-mg/dL-n/a',\n",
      "       'loinc:2339-0-77.570282-mg/dL-n/a',\n",
      "       'loinc:6298-4-4.853789-mmol/L-n/a',\n",
      "       'loinc:1920-8-23.677719-U/L-n/a',\n",
      "       'loinc:18262-6-104.768196-mg/dL-n/a',\n",
      "       'loinc:20565-8-21.894875-mmol/L-n/a',\n",
      "       'loinc:1751-7-4.192602-g/dL-n/a', 'loinc:1742-6-50.901501-U/L-n/a',\n",
      "       'loinc:6299-2-19.311344-mg/dL-n/a',\n",
      "       'loinc:38483-4-3.013516-mg/dL-n/a',\n",
      "       'loinc:2085-9-53.748302-mg/dL-n/a',\n",
      "       'loinc:2093-3-160.687042-mg/dL-n/a',\n",
      "       'loinc:6768-6-111.693237-U/L-n/a',\n",
      "       'loinc:49765-1-8.948839-mg/dL-n/a',\n",
      "       'loinc:2885-2-66.986351-g/dL-n/a',\n",
      "       'loinc:49765-1-9.501840-mg/dL-n/a',\n",
      "       'loinc:1742-6-36.846725-U/L-n/a',\n",
      "       'loinc:6298-4-4.317926-mmol/L-n/a',\n",
      "       'loinc:2885-2-64.782967-g/dL-n/a',\n",
      "       'loinc:2571-8-151.296982-mg/dL-n/a',\n",
      "       'loinc:2093-3-158.071106-mg/dL-n/a',\n",
      "       'loinc:1920-8-28.502369-U/L-n/a',\n",
      "       'loinc:2339-0-81.484268-mg/dL-n/a',\n",
      "       'loinc:1751-7-4.384300-g/dL-n/a',\n",
      "       'loinc:20565-8-22.185528-mmol/L-n/a',\n",
      "       'loinc:38483-4-3.176433-mg/dL-n/a',\n",
      "       'loinc:18262-6-116.347336-mg/dL-n/a',\n",
      "       'loinc:2947-0-142.663879-mmol/L-n/a',\n",
      "       'loinc:33914-3-76.236145-mL/min-n/a',\n",
      "       'loinc:1975-2-0.502448-mg/dL-n/a',\n",
      "       'loinc:6299-2-10.861155-mg/dL-n/a',\n",
      "       'loinc:10834-0-3.048823-g/L-n/a', 'loinc:6768-6-96.570763-U/L-n/a',\n",
      "       'loinc:2069-3-106.424675-mmol/L-n/a',\n",
      "       'loinc:2085-9-30.711596-mg/dL-n/a',\n",
      "       'loinc:46240-8-5.292443-{count}-n/a',\n",
      "       'loinc:76690-7-n/a-n/a-heterosexual',\n",
      "       'loinc:55277-8-n/a-n/a-not HIV positive',\n",
      "       'loinc:63513-6-n/a-n/a-Yes',\n",
      "       'loinc:71802-3-n/a-n/a-Patient is homeless',\n",
      "       'loinc:28245-9-n/a-n/a-No signs/symptoms'], dtype=object), dense_shape=array([24, 20])), 's-Condition.code-til-86400': SparseTensorValue(indices=array([[22,  0]]), values=array(['snomed:254637007'], dtype=object), dense_shape=array([24,  1])), 's-Encounter.reason.hcc-til-604800': SparseTensorValue(indices=array([], shape=(0, 2), dtype=int64), values=array([], dtype=object), dense_shape=array([24,  0])), 's-MedicationRequest.contained.medication.code.gsn-til-0': SparseTensorValue(indices=array([], shape=(0, 2), dtype=int64), values=array([], dtype=object), dense_shape=array([24,  0])), 's-Composition.type-til-31536000': SparseTensorValue(indices=array([], shape=(0, 2), dtype=int64), values=array([], dtype=object), dense_shape=array([24,  0])), 's-Condition.code-til-2592000': SparseTensorValue(indices=array([[ 1,  0],\n",
      "       [ 2,  0],\n",
      "       [ 2,  1],\n",
      "       [ 2,  2],\n",
      "       [ 5,  0],\n",
      "       [ 5,  1],\n",
      "       [ 5,  2],\n",
      "       [ 5,  3],\n",
      "       [ 9,  0],\n",
      "       [ 9,  1],\n",
      "       [ 9,  2],\n",
      "       [11,  0],\n",
      "       [12,  0],\n",
      "       [12,  1],\n",
      "       [12,  2],\n",
      "       [14,  0],\n",
      "       [17,  0],\n",
      "       [17,  1],\n",
      "       [17,  2],\n",
      "       [22,  0]]), values=array(['snomed:444814009', 'snomed:162573006', 'snomed:254637007',\n",
      "       'snomed:424132000', 'snomed:162573006', 'snomed:254637007',\n",
      "       'snomed:424132000', 'snomed:49436004', 'snomed:162573006',\n",
      "       'snomed:254632001', 'snomed:67811000119102',\n",
      "       'snomed:124171000119105', 'snomed:162573006', 'snomed:254632001',\n",
      "       'snomed:67811000119102', 'snomed:10509002', 'snomed:162573006',\n",
      "       'snomed:254637007', 'snomed:424132000', 'snomed:70704007'],\n",
      "      dtype=object), dense_shape=array([24,  4])), 's-Composition.section.text.div.tokenized-til-31536000': SparseTensorValue(indices=array([], shape=(0, 2), dtype=int64), values=array([], dtype=object), dense_shape=array([24,  0])), 's-Procedure.code.cpt-til-0': SparseTensorValue(indices=array([], shape=(0, 2), dtype=int64), values=array([], dtype=object), dense_shape=array([24,  0])), 's-Composition.type-til-2592000': SparseTensorValue(indices=array([], shape=(0, 2), dtype=int64), values=array([], dtype=object), dense_shape=array([24,  0])), 's-Encounter.hospitalization.admitSource-til-604800': SparseTensorValue(indices=array([], shape=(0, 2), dtype=int64), values=array([], dtype=object), dense_shape=array([24,  0])), 's-MedicationRequest.contained.medication.code.gsn-til-31536000': SparseTensorValue(indices=array([], shape=(0, 2), dtype=int64), values=array([], dtype=object), dense_shape=array([24,  0])), 's-Condition.code-til-0': SparseTensorValue(indices=array([[ 3,  0],\n",
      "       [ 3,  1],\n",
      "       [ 4,  0],\n",
      "       [ 7,  0],\n",
      "       [ 7,  1],\n",
      "       [ 7,  2],\n",
      "       [ 8,  0],\n",
      "       [ 8,  1],\n",
      "       [10,  0],\n",
      "       [10,  1],\n",
      "       [11,  0],\n",
      "       [15,  0],\n",
      "       [18,  0],\n",
      "       [18,  1],\n",
      "       [22,  0]]), values=array(['snomed:74400008', 'snomed:428251008', 'snomed:196416002',\n",
      "       'snomed:428251008', 'snomed:74400008', 'snomed:47693006',\n",
      "       'snomed:428251008', 'snomed:74400008', 'snomed:428251008',\n",
      "       'snomed:74400008', 'snomed:196416002', 'snomed:196416002',\n",
      "       'snomed:74400008', 'snomed:428251008', 'snomed:424132000'],\n",
      "      dtype=object), dense_shape=array([24,  3])), 's-Composition.type-til-0': SparseTensorValue(indices=array([], shape=(0, 2), dtype=int64), values=array([], dtype=object), dense_shape=array([24,  0])), 's-Composition.section.text.div.tokenized-til-604800': SparseTensorValue(indices=array([], shape=(0, 2), dtype=int64), values=array([], dtype=object), dense_shape=array([24,  0])), 's-Observation.code_Observation.value.quantity.value_Observation.value.quantity.unit_Observation.value.string-til-31536000': SparseTensorValue(indices=array([[ 0,  0],\n",
      "       [ 0,  1],\n",
      "       [ 0,  2],\n",
      "       ...,\n",
      "       [23, 63],\n",
      "       [23, 64],\n",
      "       [23, 65]]), values=array(['loinc:29463-7-92.297913-kg-n/a',\n",
      "       'loinc:49765-1-9.376821-mg/dL-n/a',\n",
      "       'loinc:8302-2-177.372604-cm-n/a', ...,\n",
      "       'loinc:2069-3-101.099869-mmol/L-n/a',\n",
      "       'loinc:6299-2-17.463188-mg/dL-n/a',\n",
      "       'loinc:20565-8-20.559824-mmol/L-n/a'], dtype=object), dense_shape=array([ 24, 554])), 's-Condition.code-til-31536000': SparseTensorValue(indices=array([[ 0,  0],\n",
      "       [ 0,  1],\n",
      "       [ 0,  2],\n",
      "       [ 1,  0],\n",
      "       [ 1,  1],\n",
      "       [ 1,  2],\n",
      "       [ 1,  3],\n",
      "       [ 2,  0],\n",
      "       [ 2,  1],\n",
      "       [ 2,  2],\n",
      "       [ 4,  0],\n",
      "       [ 4,  1],\n",
      "       [ 4,  2],\n",
      "       [ 5,  0],\n",
      "       [ 5,  1],\n",
      "       [ 5,  2],\n",
      "       [ 9,  0],\n",
      "       [10,  0],\n",
      "       [13,  0],\n",
      "       [13,  1],\n",
      "       [13,  2],\n",
      "       [13,  3],\n",
      "       [13,  4],\n",
      "       [14,  0],\n",
      "       [16,  0],\n",
      "       [16,  1],\n",
      "       [16,  2],\n",
      "       [16,  3],\n",
      "       [16,  4],\n",
      "       [17,  0],\n",
      "       [17,  1],\n",
      "       [17,  2],\n",
      "       [19,  0],\n",
      "       [19,  1],\n",
      "       [19,  2],\n",
      "       [20,  0],\n",
      "       [20,  1],\n",
      "       [20,  2],\n",
      "       [20,  3],\n",
      "       [21,  0],\n",
      "       [21,  1],\n",
      "       [21,  2],\n",
      "       [21,  3],\n",
      "       [21,  4],\n",
      "       [21,  5],\n",
      "       [21,  6],\n",
      "       [21,  7],\n",
      "       [22,  0],\n",
      "       [22,  1],\n",
      "       [23,  0],\n",
      "       [23,  1],\n",
      "       [23,  2]]), values=array(['snomed:162573006', 'snomed:254632001', 'snomed:67811000119102',\n",
      "       'snomed:444814009', 'snomed:162573006', 'snomed:254637007',\n",
      "       'snomed:424132000', 'snomed:44465007', 'snomed:195662009',\n",
      "       'snomed:444814009', 'snomed:68496003', 'snomed:124171000119105',\n",
      "       'snomed:82423001', 'snomed:444814009', 'snomed:195662009',\n",
      "       'snomed:10509002', 'snomed:444814009', 'snomed:124171000119105',\n",
      "       'snomed:444814009', 'snomed:70704007', 'snomed:162573006',\n",
      "       'snomed:254637007', 'snomed:424132000', 'snomed:195662009',\n",
      "       'snomed:195662009', 'snomed:444814009', 'snomed:162573006',\n",
      "       'snomed:254637007', 'snomed:424132000', 'snomed:44465007',\n",
      "       'snomed:195662009', 'snomed:444814009', 'snomed:162573006',\n",
      "       'snomed:254637007', 'snomed:424132000', 'snomed:444814009',\n",
      "       'snomed:162573006', 'snomed:254637007', 'snomed:424132000',\n",
      "       'snomed:237602007', 'snomed:283385000', 'snomed:162573006',\n",
      "       'snomed:80394007', 'snomed:15777000', 'snomed:254637007',\n",
      "       'snomed:424132000', 'snomed:55822004', 'snomed:283385000',\n",
      "       'snomed:444814009', 'snomed:162573006', 'snomed:254632001',\n",
      "       'snomed:67811000119102'], dtype=object), dense_shape=array([24,  8])), 's-Encounter.reason.hcc-til-86400': SparseTensorValue(indices=array([], shape=(0, 2), dtype=int64), values=array([], dtype=object), dense_shape=array([24,  0])), 's-Encounter.hospitalization.admitSource-til-2592000': SparseTensorValue(indices=array([], shape=(0, 2), dtype=int64), values=array([], dtype=object), dense_shape=array([24,  0])), 's-Procedure.code.cpt-til-2592000': SparseTensorValue(indices=array([], shape=(0, 2), dtype=int64), values=array([], dtype=object), dense_shape=array([24,  0])), 's-Encounter.hospitalization.admitSource-til-31536000': SparseTensorValue(indices=array([], shape=(0, 2), dtype=int64), values=array([], dtype=object), dense_shape=array([24,  0])), 's-Composition.type-til-86400': SparseTensorValue(indices=array([], shape=(0, 2), dtype=int64), values=array([], dtype=object), dense_shape=array([24,  0])), 's-MedicationRequest.contained.medication.code.gsn-til-604800': SparseTensorValue(indices=array([], shape=(0, 2), dtype=int64), values=array([], dtype=object), dense_shape=array([24,  0])), 's-Procedure.code.cpt-til-604800': SparseTensorValue(indices=array([], shape=(0, 2), dtype=int64), values=array([], dtype=object), dense_shape=array([24,  0])), 's-Procedure.code.cpt-til-86400': SparseTensorValue(indices=array([], shape=(0, 2), dtype=int64), values=array([], dtype=object), dense_shape=array([24,  0])), 'c-Patient.gender': SparseTensorValue(indices=array([[ 0,  0],\n",
      "       [ 1,  0],\n",
      "       [ 2,  0],\n",
      "       [ 3,  0],\n",
      "       [ 4,  0],\n",
      "       [ 5,  0],\n",
      "       [ 6,  0],\n",
      "       [ 7,  0],\n",
      "       [ 8,  0],\n",
      "       [ 9,  0],\n",
      "       [10,  0],\n",
      "       [11,  0],\n",
      "       [12,  0],\n",
      "       [13,  0],\n",
      "       [14,  0],\n",
      "       [15,  0],\n",
      "       [16,  0],\n",
      "       [17,  0],\n",
      "       [18,  0],\n",
      "       [19,  0],\n",
      "       [20,  0],\n",
      "       [21,  0],\n",
      "       [22,  0],\n",
      "       [23,  0]]), values=array(['male', 'male', 'male', 'male', 'female', 'male', 'female',\n",
      "       'female', 'male', 'male', 'male', 'male', 'male', 'male', 'male',\n",
      "       'female', 'male', 'male', 'male', 'male', 'male', 'male', 'male',\n",
      "       'male'], dtype=object), dense_shape=array([24,  1])), 's-Composition.section.text.div.tokenized-til-86400': SparseTensorValue(indices=array([], shape=(0, 2), dtype=int64), values=array([], dtype=object), dense_shape=array([24,  0])), 's-Encounter.hospitalization.admitSource-til-86400': SparseTensorValue(indices=array([], shape=(0, 2), dtype=int64), values=array([], dtype=object), dense_shape=array([24,  0])), 's-Composition.type-til-604800': SparseTensorValue(indices=array([], shape=(0, 2), dtype=int64), values=array([], dtype=object), dense_shape=array([24,  0]))}\n",
      "Successfully read an input batch\n"
     ]
    }
   ],
   "source": [
    "map_, label_ = train_input_fn()\n",
    "success = False\n",
    "with tf.train.MonitoredSession() as sess:\n",
    "  map_['label'] = label_\n",
    "  print(sess.run(map_))\n",
    "  print(\"Successfully read an input batch\")"
   ]
  },
  {
   "cell_type": "markdown",
   "metadata": {},
   "source": [
    "<b> 4d. Define Estimator. </b>"
   ]
  },
  {
   "cell_type": "code",
   "execution_count": 18,
   "metadata": {},
   "outputs": [
    {
     "name": "stdout",
     "output_type": "stream",
     "text": [
      "WARNING:tensorflow:From /usr/local/fhir/py/google/fhir/models/model.py:684: __init__ (from tensorflow.contrib.learn.python.learn.estimators.run_config) is deprecated and will be removed in a future version.\n",
      "Instructions for updating:\n",
      "When switching to tf.estimator.Estimator, use tf.estimator.RunConfig instead.\n"
     ]
    },
    {
     "name": "stderr",
     "output_type": "stream",
     "text": [
      "W0306 22:24:33.192502 139695413741312 tf_logging.py:125] From /usr/local/fhir/py/google/fhir/models/model.py:684: __init__ (from tensorflow.contrib.learn.python.learn.estimators.run_config) is deprecated and will be removed in a future version.\n",
      "Instructions for updating:\n",
      "When switching to tf.estimator.Estimator, use tf.estimator.RunConfig instead.\n"
     ]
    },
    {
     "name": "stdout",
     "output_type": "stream",
     "text": [
      "INFO:tensorflow:Using config: {'_save_checkpoints_secs': 180, '_session_config': allow_soft_placement: true\n",
      "graph_options {\n",
      "  rewrite_options {\n",
      "    meta_optimizer_iterations: ONE\n",
      "  }\n",
      "}\n",
      ", '_keep_checkpoint_max': 5, '_task_type': None, '_train_distribute': None, '_is_chief': True, '_cluster_spec': <tensorflow.python.training.server_lib.ClusterSpec object at 0x7f0d102c9a90>, '_tf_config': gpu_options {\n",
      "  per_process_gpu_memory_fraction: 1.0\n",
      "}\n",
      ", '_protocol': None, '_save_checkpoints_steps': None, '_keep_checkpoint_every_n_hours': 10000, '_num_ps_replicas': 0, '_model_dir': 'gs://cluster19-bkt/synthea/model/', '_tf_random_seed': None, '_master': '', '_device_fn': None, '_num_worker_replicas': 0, '_task_id': 0, '_log_step_count_steps': 100, '_evaluation_master': '', '_eval_distribute': None, '_environment': 'local', '_save_summary_steps': 100}\n"
     ]
    },
    {
     "name": "stderr",
     "output_type": "stream",
     "text": [
      "I0306 22:24:33.199081 139695413741312 tf_logging.py:115] Using config: {'_save_checkpoints_secs': 180, '_session_config': allow_soft_placement: true\n",
      "graph_options {\n",
      "  rewrite_options {\n",
      "    meta_optimizer_iterations: ONE\n",
      "  }\n",
      "}\n",
      ", '_keep_checkpoint_max': 5, '_task_type': None, '_train_distribute': None, '_is_chief': True, '_cluster_spec': <tensorflow.python.training.server_lib.ClusterSpec object at 0x7f0d102c9a90>, '_tf_config': gpu_options {\n",
      "  per_process_gpu_memory_fraction: 1.0\n",
      "}\n",
      ", '_protocol': None, '_save_checkpoints_steps': None, '_keep_checkpoint_every_n_hours': 10000, '_num_ps_replicas': 0, '_model_dir': 'gs://cluster19-bkt/synthea/model/', '_tf_random_seed': None, '_master': '', '_device_fn': None, '_num_worker_replicas': 0, '_task_id': 0, '_log_step_count_steps': 100, '_evaluation_master': '', '_eval_distribute': None, '_environment': 'local', '_save_summary_steps': 100}\n"
     ]
    },
    {
     "name": "stdout",
     "output_type": "stream",
     "text": [
      "INFO:tensorflow:Using config: {'_save_checkpoints_secs': 180, '_session_config': allow_soft_placement: true\n",
      "graph_options {\n",
      "  rewrite_options {\n",
      "    meta_optimizer_iterations: ONE\n",
      "  }\n",
      "}\n",
      ", '_keep_checkpoint_max': 5, '_task_type': None, '_train_distribute': None, '_is_chief': True, '_cluster_spec': <tensorflow.python.training.server_lib.ClusterSpec object at 0x7f0d102c9350>, '_tf_config': gpu_options {\n",
      "  per_process_gpu_memory_fraction: 1.0\n",
      "}\n",
      ", '_protocol': None, '_save_checkpoints_steps': None, '_keep_checkpoint_every_n_hours': 10000, '_num_ps_replicas': 0, '_model_dir': 'gs://cluster19-bkt/synthea/model/', '_tf_random_seed': None, '_master': '', '_device_fn': None, '_num_worker_replicas': 0, '_task_id': 0, '_log_step_count_steps': 100, '_evaluation_master': '', '_eval_distribute': None, '_environment': 'local', '_save_summary_steps': 100}\n"
     ]
    },
    {
     "name": "stderr",
     "output_type": "stream",
     "text": [
      "I0306 22:24:33.204991 139695413741312 tf_logging.py:115] Using config: {'_save_checkpoints_secs': 180, '_session_config': allow_soft_placement: true\n",
      "graph_options {\n",
      "  rewrite_options {\n",
      "    meta_optimizer_iterations: ONE\n",
      "  }\n",
      "}\n",
      ", '_keep_checkpoint_max': 5, '_task_type': None, '_train_distribute': None, '_is_chief': True, '_cluster_spec': <tensorflow.python.training.server_lib.ClusterSpec object at 0x7f0d102c9350>, '_tf_config': gpu_options {\n",
      "  per_process_gpu_memory_fraction: 1.0\n",
      "}\n",
      ", '_protocol': None, '_save_checkpoints_steps': None, '_keep_checkpoint_every_n_hours': 10000, '_num_ps_replicas': 0, '_model_dir': 'gs://cluster19-bkt/synthea/model/', '_tf_random_seed': None, '_master': '', '_device_fn': None, '_num_worker_replicas': 0, '_task_id': 0, '_log_step_count_steps': 100, '_evaluation_master': '', '_eval_distribute': None, '_environment': 'local', '_save_summary_steps': 100}\n"
     ]
    }
   ],
   "source": [
    "LABEL_VALUES = ['less_or_equal_3', '3_7', '7_14', 'above_14']\n",
    "estimator = make_estimator(hparams, LABEL_VALUES, MODEL_PATH)"
   ]
  },
  {
   "cell_type": "markdown",
   "metadata": {},
   "source": [
    "<b> 4e. Train and Evaluate</b>"
   ]
  },
  {
   "cell_type": "code",
   "execution_count": 19,
   "metadata": {},
   "outputs": [
    {
     "name": "stdout",
     "output_type": "stream",
     "text": [
      "INFO:tensorflow:Not using Distribute Coordinator.\n"
     ]
    },
    {
     "name": "stderr",
     "output_type": "stream",
     "text": [
      "I0306 22:24:36.847106 139695413741312 tf_logging.py:115] Not using Distribute Coordinator.\n"
     ]
    },
    {
     "name": "stdout",
     "output_type": "stream",
     "text": [
      "INFO:tensorflow:Running training and evaluation locally (non-distributed).\n"
     ]
    },
    {
     "name": "stderr",
     "output_type": "stream",
     "text": [
      "I0306 22:24:36.851262 139695413741312 tf_logging.py:115] Running training and evaluation locally (non-distributed).\n"
     ]
    },
    {
     "name": "stdout",
     "output_type": "stream",
     "text": [
      "INFO:tensorflow:Start train and evaluate loop. The evaluate will happen after every checkpoint. Checkpoint frequency is determined based on RunConfig arguments: save_checkpoints_steps None or save_checkpoints_secs 180.\n"
     ]
    },
    {
     "name": "stderr",
     "output_type": "stream",
     "text": [
      "I0306 22:24:36.855804 139695413741312 tf_logging.py:115] Start train and evaluate loop. The evaluate will happen after every checkpoint. Checkpoint frequency is determined based on RunConfig arguments: save_checkpoints_steps None or save_checkpoints_secs 180.\n"
     ]
    },
    {
     "name": "stdout",
     "output_type": "stream",
     "text": [
      "INFO:tensorflow:Calling model_fn.\n"
     ]
    },
    {
     "name": "stderr",
     "output_type": "stream",
     "text": [
      "I0306 22:24:40.926853 139695413741312 tf_logging.py:115] Calling model_fn.\n"
     ]
    },
    {
     "name": "stdout",
     "output_type": "stream",
     "text": [
      "INFO:tensorflow:Calling model_fn.\n"
     ]
    },
    {
     "name": "stderr",
     "output_type": "stream",
     "text": [
      "I0306 22:24:40.930792 139695413741312 tf_logging.py:115] Calling model_fn.\n"
     ]
    },
    {
     "name": "stdout",
     "output_type": "stream",
     "text": [
      "INFO:tensorflow:Done calling model_fn.\n"
     ]
    },
    {
     "name": "stderr",
     "output_type": "stream",
     "text": [
      "I0306 22:24:47.121191 139695413741312 tf_logging.py:115] Done calling model_fn.\n"
     ]
    },
    {
     "name": "stdout",
     "output_type": "stream",
     "text": [
      "INFO:tensorflow:Done calling model_fn.\n"
     ]
    },
    {
     "name": "stderr",
     "output_type": "stream",
     "text": [
      "I0306 22:24:47.125195 139695413741312 tf_logging.py:115] Done calling model_fn.\n"
     ]
    },
    {
     "name": "stdout",
     "output_type": "stream",
     "text": [
      "INFO:tensorflow:Create CheckpointSaverHook.\n"
     ]
    },
    {
     "name": "stderr",
     "output_type": "stream",
     "text": [
      "I0306 22:24:47.129283 139695413741312 tf_logging.py:115] Create CheckpointSaverHook.\n"
     ]
    },
    {
     "name": "stdout",
     "output_type": "stream",
     "text": [
      "INFO:tensorflow:Graph was finalized.\n"
     ]
    },
    {
     "name": "stderr",
     "output_type": "stream",
     "text": [
      "I0306 22:24:51.849224 139695413741312 tf_logging.py:115] Graph was finalized.\n"
     ]
    },
    {
     "name": "stdout",
     "output_type": "stream",
     "text": [
      "INFO:tensorflow:Running local_init_op.\n"
     ]
    },
    {
     "name": "stderr",
     "output_type": "stream",
     "text": [
      "I0306 22:24:53.015283 139695413741312 tf_logging.py:115] Running local_init_op.\n"
     ]
    },
    {
     "name": "stdout",
     "output_type": "stream",
     "text": [
      "INFO:tensorflow:Done running local_init_op.\n"
     ]
    },
    {
     "name": "stderr",
     "output_type": "stream",
     "text": [
      "I0306 22:24:53.204015 139695413741312 tf_logging.py:115] Done running local_init_op.\n"
     ]
    },
    {
     "name": "stdout",
     "output_type": "stream",
     "text": [
      "INFO:tensorflow:Saving checkpoints for 0 into gs://cluster19-bkt/synthea/model/model.ckpt.\n"
     ]
    },
    {
     "name": "stderr",
     "output_type": "stream",
     "text": [
      "I0306 22:25:00.018141 139695413741312 tf_logging.py:115] Saving checkpoints for 0 into gs://cluster19-bkt/synthea/model/model.ckpt.\n"
     ]
    },
    {
     "name": "stdout",
     "output_type": "stream",
     "text": [
      "INFO:tensorflow:loss = 1.3862944, step = 1\n"
     ]
    },
    {
     "name": "stderr",
     "output_type": "stream",
     "text": [
      "I0306 22:25:16.209939 139695413741312 tf_logging.py:115] loss = 1.3862944, step = 1\n"
     ]
    },
    {
     "name": "stdout",
     "output_type": "stream",
     "text": [
      "INFO:tensorflow:global_step/sec: 15.9075\n"
     ]
    },
    {
     "name": "stderr",
     "output_type": "stream",
     "text": [
      "I0306 22:25:22.495450 139695413741312 tf_logging.py:115] global_step/sec: 15.9075\n"
     ]
    },
    {
     "name": "stdout",
     "output_type": "stream",
     "text": [
      "INFO:tensorflow:loss = 0.5688575, step = 101 (6.293 sec)\n"
     ]
    },
    {
     "name": "stderr",
     "output_type": "stream",
     "text": [
      "I0306 22:25:22.502588 139695413741312 tf_logging.py:115] loss = 0.5688575, step = 101 (6.293 sec)\n"
     ]
    },
    {
     "name": "stdout",
     "output_type": "stream",
     "text": [
      "INFO:tensorflow:global_step/sec: 67.5985\n"
     ]
    },
    {
     "name": "stderr",
     "output_type": "stream",
     "text": [
      "I0306 22:25:23.974694 139695413741312 tf_logging.py:115] global_step/sec: 67.5985\n"
     ]
    },
    {
     "name": "stdout",
     "output_type": "stream",
     "text": [
      "INFO:tensorflow:loss = 0.54932564, step = 201 (1.479 sec)\n"
     ]
    },
    {
     "name": "stderr",
     "output_type": "stream",
     "text": [
      "I0306 22:25:23.981414 139695413741312 tf_logging.py:115] loss = 0.54932564, step = 201 (1.479 sec)\n"
     ]
    },
    {
     "name": "stdout",
     "output_type": "stream",
     "text": [
      "INFO:tensorflow:Saving checkpoints for 300 into gs://cluster19-bkt/synthea/model/model.ckpt.\n"
     ]
    },
    {
     "name": "stderr",
     "output_type": "stream",
     "text": [
      "I0306 22:25:25.432375 139695413741312 tf_logging.py:115] Saving checkpoints for 300 into gs://cluster19-bkt/synthea/model/model.ckpt.\n"
     ]
    },
    {
     "name": "stdout",
     "output_type": "stream",
     "text": [
      "INFO:tensorflow:Calling model_fn.\n"
     ]
    },
    {
     "name": "stderr",
     "output_type": "stream",
     "text": [
      "I0306 22:25:41.183012 139695413741312 tf_logging.py:115] Calling model_fn.\n"
     ]
    },
    {
     "name": "stdout",
     "output_type": "stream",
     "text": [
      "INFO:tensorflow:Calling model_fn.\n"
     ]
    },
    {
     "name": "stderr",
     "output_type": "stream",
     "text": [
      "I0306 22:25:41.186968 139695413741312 tf_logging.py:115] Calling model_fn.\n"
     ]
    },
    {
     "name": "stdout",
     "output_type": "stream",
     "text": [
      "INFO:tensorflow:Done calling model_fn.\n"
     ]
    },
    {
     "name": "stderr",
     "output_type": "stream",
     "text": [
      "I0306 22:25:44.601139 139695413741312 tf_logging.py:115] Done calling model_fn.\n"
     ]
    },
    {
     "name": "stdout",
     "output_type": "stream",
     "text": [
      "INFO:tensorflow:Done calling model_fn.\n"
     ]
    },
    {
     "name": "stderr",
     "output_type": "stream",
     "text": [
      "I0306 22:25:45.867211 139695413741312 tf_logging.py:115] Done calling model_fn.\n"
     ]
    },
    {
     "name": "stdout",
     "output_type": "stream",
     "text": [
      "INFO:tensorflow:Starting evaluation at 2019-03-06-22:25:45\n"
     ]
    },
    {
     "name": "stderr",
     "output_type": "stream",
     "text": [
      "I0306 22:25:45.896682 139695413741312 tf_logging.py:115] Starting evaluation at 2019-03-06-22:25:45\n"
     ]
    },
    {
     "name": "stdout",
     "output_type": "stream",
     "text": [
      "INFO:tensorflow:Graph was finalized.\n"
     ]
    },
    {
     "name": "stderr",
     "output_type": "stream",
     "text": [
      "I0306 22:25:46.363262 139695413741312 tf_logging.py:115] Graph was finalized.\n"
     ]
    },
    {
     "name": "stdout",
     "output_type": "stream",
     "text": [
      "INFO:tensorflow:Restoring parameters from gs://cluster19-bkt/synthea/model/model.ckpt-300\n"
     ]
    },
    {
     "name": "stderr",
     "output_type": "stream",
     "text": [
      "I0306 22:25:46.493905 139695413741312 tf_logging.py:115] Restoring parameters from gs://cluster19-bkt/synthea/model/model.ckpt-300\n"
     ]
    },
    {
     "name": "stdout",
     "output_type": "stream",
     "text": [
      "INFO:tensorflow:Running local_init_op.\n"
     ]
    },
    {
     "name": "stderr",
     "output_type": "stream",
     "text": [
      "I0306 22:25:48.002795 139695413741312 tf_logging.py:115] Running local_init_op.\n"
     ]
    },
    {
     "name": "stdout",
     "output_type": "stream",
     "text": [
      "INFO:tensorflow:Done running local_init_op.\n"
     ]
    },
    {
     "name": "stderr",
     "output_type": "stream",
     "text": [
      "I0306 22:25:48.193170 139695413741312 tf_logging.py:115] Done running local_init_op.\n"
     ]
    },
    {
     "name": "stdout",
     "output_type": "stream",
     "text": [
      "INFO:tensorflow:Evaluation [4/40]\n"
     ]
    },
    {
     "name": "stderr",
     "output_type": "stream",
     "text": [
      "I0306 22:25:53.838809 139695413741312 tf_logging.py:115] Evaluation [4/40]\n"
     ]
    },
    {
     "name": "stdout",
     "output_type": "stream",
     "text": [
      "INFO:tensorflow:Finished evaluation at 2019-03-06-22:25:54\n"
     ]
    },
    {
     "name": "stderr",
     "output_type": "stream",
     "text": [
      "I0306 22:25:54.449218 139695413741312 tf_logging.py:115] Finished evaluation at 2019-03-06-22:25:54\n"
     ]
    },
    {
     "name": "stdout",
     "output_type": "stream",
     "text": [
      "INFO:tensorflow:Saving dict for global step 300: accuracy = 0.93877554, auc_pr_at_most_7d = 1.0, auc_roc_at_most_7d = 0.0, average_loss = 0.42557618, global_step = 300, loss = 0.41817275, precision_3_7 = nan, precision_7_14 = nan, precision_above_14 = nan, precision_at_1 = 0.9387755102040817, precision_at_2 = 0.5, precision_at_most_7d = 1.0, precision_less_or_equal_3 = 0.9387755102040817, recall_3_7 = 0.0, recall_7_14 = nan, recall_above_14 = nan, recall_at_1 = 0.9387755102040817, recall_at_2 = 1.0, recall_at_most_7d = 1.0, recall_less_or_equal_3 = 1.0\n"
     ]
    },
    {
     "name": "stderr",
     "output_type": "stream",
     "text": [
      "I0306 22:25:54.453027 139695413741312 tf_logging.py:115] Saving dict for global step 300: accuracy = 0.93877554, auc_pr_at_most_7d = 1.0, auc_roc_at_most_7d = 0.0, average_loss = 0.42557618, global_step = 300, loss = 0.41817275, precision_3_7 = nan, precision_7_14 = nan, precision_above_14 = nan, precision_at_1 = 0.9387755102040817, precision_at_2 = 0.5, precision_at_most_7d = 1.0, precision_less_or_equal_3 = 0.9387755102040817, recall_3_7 = 0.0, recall_7_14 = nan, recall_above_14 = nan, recall_at_1 = 0.9387755102040817, recall_at_2 = 1.0, recall_at_most_7d = 1.0, recall_less_or_equal_3 = 1.0\n"
     ]
    },
    {
     "name": "stdout",
     "output_type": "stream",
     "text": [
      "INFO:tensorflow:Saving 'checkpoint_path' summary for global step 300: gs://cluster19-bkt/synthea/model/model.ckpt-300\n"
     ]
    },
    {
     "name": "stderr",
     "output_type": "stream",
     "text": [
      "I0306 22:25:58.658610 139695413741312 tf_logging.py:115] Saving 'checkpoint_path' summary for global step 300: gs://cluster19-bkt/synthea/model/model.ckpt-300\n"
     ]
    },
    {
     "name": "stdout",
     "output_type": "stream",
     "text": [
      "INFO:tensorflow:Loss for final step: 0.44990516.\n"
     ]
    },
    {
     "name": "stderr",
     "output_type": "stream",
     "text": [
      "I0306 22:26:00.918080 139695413741312 tf_logging.py:115] Loss for final step: 0.44990516.\n"
     ]
    },
    {
     "data": {
      "text/plain": [
       "({'accuracy': 0.93877554,\n",
       "  'auc_pr_at_most_7d': 1.0,\n",
       "  'auc_roc_at_most_7d': 0.0,\n",
       "  'average_loss': 0.42557618,\n",
       "  'global_step': 300,\n",
       "  'loss': 0.41817275,\n",
       "  'precision_3_7': nan,\n",
       "  'precision_7_14': nan,\n",
       "  'precision_above_14': nan,\n",
       "  'precision_at_1': 0.9387755102040817,\n",
       "  'precision_at_2': 0.5,\n",
       "  'precision_at_most_7d': 1.0,\n",
       "  'precision_less_or_equal_3': 0.9387755102040817,\n",
       "  'recall_3_7': 0.0,\n",
       "  'recall_7_14': nan,\n",
       "  'recall_above_14': nan,\n",
       "  'recall_at_1': 0.9387755102040817,\n",
       "  'recall_at_2': 1.0,\n",
       "  'recall_at_most_7d': 1.0,\n",
       "  'recall_less_or_equal_3': 1.0},\n",
       " [])"
      ]
     },
     "execution_count": 19,
     "metadata": {},
     "output_type": "execute_result"
    }
   ],
   "source": [
    "train_spec = tf.estimator.TrainSpec(input_fn=train_input_fn, max_steps=300)\n",
    "eval_spec = tf.estimator.EvalSpec(input_fn=validation_input_fn, steps=40, throttle_secs=60)\n",
    "\n",
    "tf.estimator.train_and_evaluate(estimator, train_spec, eval_spec)"
   ]
  },
  {
   "cell_type": "markdown",
   "metadata": {},
   "source": [
    "<b> 4f. Inspect and understand the TF runs and graphs us TensorBoard </b>"
   ]
  },
  {
   "cell_type": "code",
   "execution_count": 20,
   "metadata": {
    "hiddenCell": true
   },
   "outputs": [
    {
     "data": {
      "text/html": [
       "<p>TensorBoard was started successfully with pid 4745. Click <a href=\"/_proxy/60755/\" target=\"_blank\">here</a> to access it.</p>"
      ]
     },
     "metadata": {},
     "output_type": "display_data"
    },
    {
     "data": {
      "text/plain": [
       "4745"
      ]
     },
     "execution_count": 20,
     "metadata": {},
     "output_type": "execute_result"
    }
   ],
   "source": [
    "from google.datalab.ml import TensorBoard as tb\n",
    "tb.start(MODEL_PATH)"
   ]
  },
  {
   "cell_type": "markdown",
   "metadata": {},
   "source": [
    "<b>4g. List the GCS location where Model has been stored. </b>"
   ]
  },
  {
   "cell_type": "code",
   "execution_count": null,
   "metadata": {},
   "outputs": [],
   "source": [
    "%bash\n",
    "gsutil ls -l ${MODEL_IN_GCS}"
   ]
  },
  {
   "cell_type": "code",
   "execution_count": null,
   "metadata": {},
   "outputs": [],
   "source": []
  }
 ],
 "metadata": {
  "kernelspec": {
   "display_name": "Python 2",
   "language": "python",
   "name": "python2"
  },
  "language_info": {
   "codemirror_mode": {
    "name": "ipython",
    "version": 2
   },
   "file_extension": ".py",
   "mimetype": "text/x-python",
   "name": "python",
   "nbconvert_exporter": "python",
   "pygments_lexer": "ipython2",
   "version": "2.7.15"
  }
 },
 "nbformat": 4,
 "nbformat_minor": 2
}
